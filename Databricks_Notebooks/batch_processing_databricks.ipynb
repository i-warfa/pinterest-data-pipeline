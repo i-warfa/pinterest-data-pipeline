{
 "cells": [
  {
   "cell_type": "code",
   "execution_count": null,
   "metadata": {
    "application/vnd.databricks.v1+cell": {
     "cellMetadata": {
      "byteLimit": 2048000,
      "rowLimit": 10000
     },
     "inputWidgets": {},
     "nuid": "31ab7298-d7da-4a41-844e-66227e3b5a9c",
     "showTitle": false,
     "title": ""
    }
   },
   "outputs": [
    {
     "data": {
      "text/html": [
       "<style scoped>\n",
       "  .ansiout {\n",
       "    display: block;\n",
       "    unicode-bidi: embed;\n",
       "    white-space: pre-wrap;\n",
       "    word-wrap: break-word;\n",
       "    word-break: break-all;\n",
       "    font-family: \"Menlo\", \"Monaco\", \"Consolas\", \"Ubuntu Mono\", \"Source Code Pro\", monospace;\n",
       "    font-size: 13px;\n",
       "    color: #555;\n",
       "    margin-left: 4px;\n",
       "    line-height: 19px;\n",
       "  }\n",
       "</style>\n",
       "<div class=\"ansiout\">Out[148]: True</div>"
      ]
     },
     "metadata": {
      "application/vnd.databricks.v1+output": {
       "addedWidgets": {},
       "arguments": {},
       "data": "<div class=\"ansiout\">Out[148]: True</div>",
       "datasetInfos": [],
       "metadata": {},
       "removedWidgets": [],
       "type": "html"
      }
     },
     "output_type": "display_data"
    }
   ],
   "source": [
    "# pyspark functions\n",
    "from pyspark.sql.functions import *\n",
    "# URL processing\n",
    "import urllib\n",
    "\n",
    "# Define the path to the Delta table\n",
    "delta_table_path = \"dbfs:/user/hive/warehouse/authentication_credentials\"\n",
    "\n",
    "# Read the Delta table to a Spark DataFrame\n",
    "aws_keys_df = spark.read.format(\"delta\").load(delta_table_path)\n",
    "\n",
    "# Get the AWS access key and secret key from the spark dataframe\n",
    "ACCESS_KEY = aws_keys_df.select('Access key ID').collect()[0]['Access key ID']\n",
    "SECRET_KEY = aws_keys_df.select('Secret access key').collect()[0]['Secret access key']\n",
    "# Encode the secrete key\n",
    "ENCODED_SECRET_KEY = urllib.parse.quote(string=SECRET_KEY, safe=\"\")\n",
    "\n",
    "# AWS S3 bucket name\n",
    "AWS_S3_BUCKET = \"user-12f6b2c1ae4f-bucket\"\n",
    "# Mount name for the bucket\n",
    "MOUNT_NAME = \"/mnt/12f6b2c1ae4f-bucket\"\n",
    "# Source url\n",
    "SOURCE_URL = \"s3n://{0}:{1}@{2}\".format(ACCESS_KEY, ENCODED_SECRET_KEY, AWS_S3_BUCKET)\n",
    "\n",
    "# Mount the drive (RUN ONLY ONCE!)\n",
    "# dbutils command is supported only with databricks ecosystem.\n",
    "dbutils.fs.mount(SOURCE_URL, MOUNT_NAME)"
   ]
  },
  {
   "cell_type": "code",
   "execution_count": null,
   "metadata": {
    "application/vnd.databricks.v1+cell": {
     "cellMetadata": {
      "byteLimit": 2048000,
      "rowLimit": 10000
     },
     "inputWidgets": {},
     "nuid": "def7dc85-ca28-4494-b656-56c484c1a7b1",
     "showTitle": false,
     "title": ""
    },
    "jupyter": {
     "outputs_hidden": true
    }
   },
   "outputs": [
    {
     "data": {
      "text/html": [
       "<style scoped>\n",
       "  .table-result-container {\n",
       "    max-height: 300px;\n",
       "    overflow: auto;\n",
       "  }\n",
       "  table, th, td {\n",
       "    border: 1px solid black;\n",
       "    border-collapse: collapse;\n",
       "  }\n",
       "  th, td {\n",
       "    padding: 5px;\n",
       "  }\n",
       "  th {\n",
       "    text-align: left;\n",
       "  }\n",
       "</style><div class='table-result-container'><table class='table-result'><thead style='background-color: white'><tr><th>path</th><th>name</th><th>size</th><th>modificationTime</th></tr></thead><tbody><tr><td>dbfs:/mnt/12f6b2c1ae4f-bucket/topics/12f6b2c1ae4f.geo/</td><td>12f6b2c1ae4f.geo/</td><td>0</td><td>1709426456068</td></tr><tr><td>dbfs:/mnt/12f6b2c1ae4f-bucket/topics/12f6b2c1ae4f.pin/</td><td>12f6b2c1ae4f.pin/</td><td>0</td><td>1709426456068</td></tr><tr><td>dbfs:/mnt/12f6b2c1ae4f-bucket/topics/12f6b2c1ae4f.user/</td><td>12f6b2c1ae4f.user/</td><td>0</td><td>1709426456068</td></tr></tbody></table></div>"
      ]
     },
     "metadata": {
      "application/vnd.databricks.v1+output": {
       "addedWidgets": {},
       "aggData": [],
       "aggError": "",
       "aggOverflow": false,
       "aggSchema": [],
       "aggSeriesLimitReached": false,
       "aggType": "",
       "arguments": {},
       "columnCustomDisplayInfos": {},
       "data": [
        [
         "dbfs:/mnt/12f6b2c1ae4f-bucket/topics/12f6b2c1ae4f.geo/",
         "12f6b2c1ae4f.geo/",
         0,
         1709426456068
        ],
        [
         "dbfs:/mnt/12f6b2c1ae4f-bucket/topics/12f6b2c1ae4f.pin/",
         "12f6b2c1ae4f.pin/",
         0,
         1709426456068
        ],
        [
         "dbfs:/mnt/12f6b2c1ae4f-bucket/topics/12f6b2c1ae4f.user/",
         "12f6b2c1ae4f.user/",
         0,
         1709426456068
        ]
       ],
       "datasetInfos": [],
       "dbfsResultPath": null,
       "isJsonSchema": true,
       "metadata": {},
       "overflow": false,
       "plotOptions": {
        "customPlotOptions": {},
        "displayType": "table",
        "pivotAggregation": null,
        "pivotColumns": null,
        "xColumns": null,
        "yColumns": null
       },
       "removedWidgets": [],
       "schema": [
        {
         "metadata": "{}",
         "name": "path",
         "type": "\"string\""
        },
        {
         "metadata": "{}",
         "name": "name",
         "type": "\"string\""
        },
        {
         "metadata": "{}",
         "name": "size",
         "type": "\"long\""
        },
        {
         "metadata": "{}",
         "name": "modificationTime",
         "type": "\"long\""
        }
       ],
       "type": "table"
      }
     },
     "output_type": "display_data"
    }
   ],
   "source": [
    "# Display topics if correctly s3 bucket is mounted:\n",
    "display(dbutils.fs.ls(\"/mnt/12f6b2c1ae4f-bucket/topics/\"))\n",
    "\n",
    "# Check all mounts on cluster alternative method:\n",
    "# %fs\n",
    "# mounts\n"
   ]
  },
  {
   "cell_type": "code",
   "execution_count": null,
   "metadata": {
    "application/vnd.databricks.v1+cell": {
     "cellMetadata": {
      "byteLimit": 2048000,
      "rowLimit": 10000
     },
     "inputWidgets": {},
     "nuid": "0e255b44-ca07-4ba6-adf3-d930087c62db",
     "showTitle": false,
     "title": ""
    }
   },
   "outputs": [
    {
     "data": {
      "text/html": [
       "<style scoped>\n",
       "  .ansiout {\n",
       "    display: block;\n",
       "    unicode-bidi: embed;\n",
       "    white-space: pre-wrap;\n",
       "    word-wrap: break-word;\n",
       "    word-break: break-all;\n",
       "    font-family: \"Menlo\", \"Monaco\", \"Consolas\", \"Ubuntu Mono\", \"Source Code Pro\", monospace;\n",
       "    font-size: 13px;\n",
       "    color: #555;\n",
       "    margin-left: 4px;\n",
       "    line-height: 19px;\n",
       "  }\n",
       "</style>\n",
       "<div class=\"ansiout\"></div>"
      ]
     },
     "metadata": {
      "application/vnd.databricks.v1+output": {
       "addedWidgets": {},
       "arguments": {},
       "data": "<div class=\"ansiout\"></div>",
       "datasetInfos": [],
       "metadata": {},
       "removedWidgets": [],
       "type": "html"
      }
     },
     "output_type": "display_data"
    }
   ],
   "source": [
    "# File location and type\n",
    "# Asterisk(*) indicates reading all the content of the specified file that have .json extension\n",
    "file_location = \"/mnt/12f6b2c1ae4f-bucket/topics/12f6b2c1ae4f.{}/partition=0/*.json\" \n",
    "file_type = \"json\"\n",
    "# Ask Spark to infer the schema\n",
    "infer_schema = \"true\"\n",
    "\n",
    "# Read in JSONs from mounted S3 bucket\n",
    "df_pin = spark.read.format(file_type) \\\n",
    ".option(\"inferSchema\", infer_schema) \\\n",
    ".load(file_location.format(\"pin\"))\n",
    "\n",
    "df_geo = spark.read.format(file_type) \\\n",
    ".option(\"inferSchema\", infer_schema) \\\n",
    ".load(file_location.format(\"geo\"))\n",
    "\n",
    "df_user = spark.read.format(file_type) \\\n",
    ".option(\"inferSchema\", infer_schema) \\\n",
    ".load(file_location.format(\"user\"))\n"
   ]
  },
  {
   "cell_type": "code",
   "execution_count": null,
   "metadata": {
    "application/vnd.databricks.v1+cell": {
     "cellMetadata": {
      "byteLimit": 2048000,
      "rowLimit": 10000
     },
     "inputWidgets": {},
     "nuid": "45208414-cf43-4a78-a8f1-295db2e0a8ce",
     "showTitle": false,
     "title": ""
    },
    "jupyter": {
     "outputs_hidden": true
    }
   },
   "outputs": [
    {
     "data": {
      "text/html": [
       "<style scoped>\n",
       "  .table-result-container {\n",
       "    max-height: 300px;\n",
       "    overflow: auto;\n",
       "  }\n",
       "  table, th, td {\n",
       "    border: 1px solid black;\n",
       "    border-collapse: collapse;\n",
       "  }\n",
       "  th, td {\n",
       "    padding: 5px;\n",
       "  }\n",
       "  th {\n",
       "    text-align: left;\n",
       "  }\n",
       "</style><div class='table-result-container'><table class='table-result'><thead style='background-color: white'><tr><th>category</th><th>description</th><th>downloaded</th><th>follower_count</th><th>image_src</th><th>index</th><th>is_image_or_video</th><th>poster_name</th><th>save_location</th><th>tag_list</th><th>title</th><th>unique_id</th></tr></thead><tbody><tr><td>diy-and-crafts</td><td>Make this cute and easy gingerbread man paper bag puppet craft this Christmas! It comes with a FREE printable template and is great to create with preschool</td><td>1</td><td>267k</td><td>https://i.pinimg.com/originals/94/24/02/942402ca7264750c0cff719badabb10e.jpg</td><td>2732</td><td>image</td><td>Easy Kids Crafts & Activities | Preschool & Kindergarten Ideas</td><td>Local save in /data/diy-and-crafts</td><td>Gingerbread Man Crafts,Gingerbread Man Activities,Christmas Activities For Kids,Winter Crafts For Kids,Preschool Christmas,Gingerbread Man Kindergarten,Gingerbread Man Template,Christmas Projects For Kids,Cheap Christmas Crafts</td><td>Gingerbread Man Paper Bag Puppet Craft [Free Template]</td><td>800c4f90-50aa-4e3b-aa4f-2be20995f303</td></tr><tr><td>event-planning</td><td>20ftx10ft Blush Double Layer Polyester Chiffon Backdrop With Rod Pockets Write a review Item Number: BKDP300_046 Default Title - $107.99 USD $107.99Sale Price$166.59Retail Price</td><td>1</td><td>68k</td><td>https://i.pinimg.com/originals/55/1c/c6/551cc65e5aa06edf2eb25318c61ecbd4.jpg</td><td>4925</td><td>image</td><td>eFavormart | One-Stop Shop for Wedding, Party & Event Supplies!</td><td>Local save in /data/event-planning</td><td>Pink Photography,Background For Photography,Photography Backdrops,Wedding Photography,Photography Ideas,Burlap Backdrop,Fabric Backdrop,Pink Backdrop,Sequin Backdrop</td><td>20FT x 10FT Blush | Rose Gold Double Layer Polyester Chiffon Backdrop With Rod Pockets</td><td>662c77cd-d99a-45f8-9a36-62feadbb4f7b</td></tr><tr><td>christmas</td><td>All the farmhouse Christmas decor ideas to create a gorgeous home for the holidays. Ideas to create a beautiful mantle, stocking you willl love, pillow covers and more!</td><td>1</td><td>91k</td><td>https://i.pinimg.com/originals/6f/df/3b/6fdf3bb828b057c76050d5f158694cf6.png</td><td>2288</td><td>image</td><td>Kristen | Lifestyle, Mom Tips & Teacher Stuff Blog</td><td>Local save in /data/christmas</td><td>Christmas Decorations For The Home,Winter Home Decor,Farmhouse Christmas Decor,Rustic Christmas,Christmas Fireplace,Christmas Mantels,Livingroom Christmas Decor,Christmas Home Decorating,Stocking Decorating Ideas</td><td>97 Farmhouse Christmas Decor Ideas For Your Home - Chaylor & Mads</td><td>991f5083-e4f2-4eee-bf85-d76bf84a08e2</td></tr><tr><td>christmas</td><td>Traditional Red Tartan Plaid Christmas Tree | 2016 Michaels Dream Tree Challenge #michaelsmakers - Classic red and gold Christmas Tree Decorating Ideas and Inspiration</td><td>1</td><td>116k</td><td>https://i.pinimg.com/originals/c8/ae/49/c8ae4959583799f661570eb7efb7aeaf.jpg</td><td>1928</td><td>image</td><td>Stephanie Lynn</td><td>Local save in /data/christmas</td><td>Red And Gold Christmas Tree,Tartan Christmas,Traditional Christmas Tree,Gold Christmas Decorations,Vintage Halloween Decorations,Beautiful Christmas Trees,Christmas Tree Themes,Plaid Christmas,Christmas Traditions</td><td>Traditional Red Tartan Plaid Christmas Tree | 2016 Michaels Dream Tree Challenge - bystephanielynn</td><td>444c659e-146a-4536-88a6-5524f494a4c1</td></tr><tr><td>diy-and-crafts</td><td>These clay pot Christmas tree ornaments are so cute and fun for kids to make! They are an easy Christmas ornament craft that kids of all ages will be able to create.</td><td>1</td><td>20k</td><td>https://i.pinimg.com/originals/fd/5d/51/fd5d5164125a68b18f7b1186d68d2d4d.jpg</td><td>3232</td><td>image</td><td>Projects with Kids</td><td>Local save in /data/diy-and-crafts</td><td>Easy Christmas Ornaments,Christmas Gifts For Teen Girls,Christmas Crafts For Gifts,Christmas Fun,Church Christmas Craft,Ornaments For Teachers,Ideas For Christmas Presents,Christmas Gifts For Teachers,Christmas Tree Decorations For Kids</td><td>How to Make Adorable Clay Pot Christmas Tree Ornaments</td><td>9958caec-20ac-477f-9e13-b16192f187b9</td></tr><tr><td>christmas</td><td>With this Dollar Tree Christmas Village Hack you can create your own high end Christmas Village without the huge expense, and it's so easy!</td><td>1</td><td>24k</td><td>https://i.pinimg.com/originals/fb/37/55/fb375515aaebda118ab9c8c518fbcfc4.png</td><td>2424</td><td>image</td><td>Yami @ The Latina Next Door | Blogger | DIY | Budget Friendly Home Decor | Recipes |  Latina</td><td>Local save in /data/christmas</td><td>Christmas Tree Village,Dollar Tree Christmas,Christmas Hacks,Diy Christmas Ornaments,Christmas Projects,Diy Christmas Gifts,Christmas Decorations Dollar Tree,Christmas Villages,Homemade Christmas</td><td>Dollar Tree Christmas Village Hack - The Latina Next Door</td><td>c1e1a65b-20f6-4fe1-a89c-f5207486754f</td></tr><tr><td>christmas</td><td>Discover how to make DIY yarn Christmas trees, easy and last minute tutorial for a beautiful home decoration idea!</td><td>1</td><td>436</td><td>https://i.pinimg.com/originals/2e/fc/51/2efc51831d8fc04f31496358cee4e3ef.jpg</td><td>1819</td><td>image</td><td>Francine's Place Blog | DIY, lifestyle, creativity</td><td>Local save in /data/christmas</td><td>Diy Christmas Crafts To Sell,Christmas On A Budget,Christmas Ornament Crafts,Simple Christmas Tree Decorations,How To Make Christmas Tree,Flocked Christmas Trees Decorated,White Christmas Trees,Diy Crafts With Yarn,Ideas For Christmas</td><td>DIY YARN CHRISTMAS TREES (EASY & LAST MINUTE DECORATION IDEA) - Francine's Place Blog</td><td>e20ac887-9f16-4848-9620-8798d8dce270</td></tr></tbody></table></div>"
      ]
     },
     "metadata": {
      "application/vnd.databricks.v1+output": {
       "addedWidgets": {},
       "aggData": [],
       "aggError": "",
       "aggOverflow": false,
       "aggSchema": [],
       "aggSeriesLimitReached": false,
       "aggType": "",
       "arguments": {},
       "columnCustomDisplayInfos": {},
       "data": [
        [
         "diy-and-crafts",
         "Make this cute and easy gingerbread man paper bag puppet craft this Christmas! It comes with a FREE printable template and is great to create with preschool",
         1,
         "267k",
         "https://i.pinimg.com/originals/94/24/02/942402ca7264750c0cff719badabb10e.jpg",
         2732,
         "image",
         "Easy Kids Crafts & Activities | Preschool & Kindergarten Ideas",
         "Local save in /data/diy-and-crafts",
         "Gingerbread Man Crafts,Gingerbread Man Activities,Christmas Activities For Kids,Winter Crafts For Kids,Preschool Christmas,Gingerbread Man Kindergarten,Gingerbread Man Template,Christmas Projects For Kids,Cheap Christmas Crafts",
         "Gingerbread Man Paper Bag Puppet Craft [Free Template]",
         "800c4f90-50aa-4e3b-aa4f-2be20995f303"
        ],
        [
         "event-planning",
         "20ftx10ft Blush Double Layer Polyester Chiffon Backdrop With Rod Pockets Write a review Item Number: BKDP300_046 Default Title - $107.99 USD $107.99Sale Price$166.59Retail Price",
         1,
         "68k",
         "https://i.pinimg.com/originals/55/1c/c6/551cc65e5aa06edf2eb25318c61ecbd4.jpg",
         4925,
         "image",
         "eFavormart | One-Stop Shop for Wedding, Party & Event Supplies!",
         "Local save in /data/event-planning",
         "Pink Photography,Background For Photography,Photography Backdrops,Wedding Photography,Photography Ideas,Burlap Backdrop,Fabric Backdrop,Pink Backdrop,Sequin Backdrop",
         "20FT x 10FT Blush | Rose Gold Double Layer Polyester Chiffon Backdrop With Rod Pockets",
         "662c77cd-d99a-45f8-9a36-62feadbb4f7b"
        ],
        [
         "christmas",
         "All the farmhouse Christmas decor ideas to create a gorgeous home for the holidays. Ideas to create a beautiful mantle, stocking you willl love, pillow covers and more!",
         1,
         "91k",
         "https://i.pinimg.com/originals/6f/df/3b/6fdf3bb828b057c76050d5f158694cf6.png",
         2288,
         "image",
         "Kristen | Lifestyle, Mom Tips & Teacher Stuff Blog",
         "Local save in /data/christmas",
         "Christmas Decorations For The Home,Winter Home Decor,Farmhouse Christmas Decor,Rustic Christmas,Christmas Fireplace,Christmas Mantels,Livingroom Christmas Decor,Christmas Home Decorating,Stocking Decorating Ideas",
         "97 Farmhouse Christmas Decor Ideas For Your Home - Chaylor & Mads",
         "991f5083-e4f2-4eee-bf85-d76bf84a08e2"
        ],
        [
         "christmas",
         "Traditional Red Tartan Plaid Christmas Tree | 2016 Michaels Dream Tree Challenge #michaelsmakers - Classic red and gold Christmas Tree Decorating Ideas and Inspiration",
         1,
         "116k",
         "https://i.pinimg.com/originals/c8/ae/49/c8ae4959583799f661570eb7efb7aeaf.jpg",
         1928,
         "image",
         "Stephanie Lynn",
         "Local save in /data/christmas",
         "Red And Gold Christmas Tree,Tartan Christmas,Traditional Christmas Tree,Gold Christmas Decorations,Vintage Halloween Decorations,Beautiful Christmas Trees,Christmas Tree Themes,Plaid Christmas,Christmas Traditions",
         "Traditional Red Tartan Plaid Christmas Tree | 2016 Michaels Dream Tree Challenge - bystephanielynn",
         "444c659e-146a-4536-88a6-5524f494a4c1"
        ],
        [
         "diy-and-crafts",
         "These clay pot Christmas tree ornaments are so cute and fun for kids to make! They are an easy Christmas ornament craft that kids of all ages will be able to create.",
         1,
         "20k",
         "https://i.pinimg.com/originals/fd/5d/51/fd5d5164125a68b18f7b1186d68d2d4d.jpg",
         3232,
         "image",
         "Projects with Kids",
         "Local save in /data/diy-and-crafts",
         "Easy Christmas Ornaments,Christmas Gifts For Teen Girls,Christmas Crafts For Gifts,Christmas Fun,Church Christmas Craft,Ornaments For Teachers,Ideas For Christmas Presents,Christmas Gifts For Teachers,Christmas Tree Decorations For Kids",
         "How to Make Adorable Clay Pot Christmas Tree Ornaments",
         "9958caec-20ac-477f-9e13-b16192f187b9"
        ],
        [
         "christmas",
         "With this Dollar Tree Christmas Village Hack you can create your own high end Christmas Village without the huge expense, and it's so easy!",
         1,
         "24k",
         "https://i.pinimg.com/originals/fb/37/55/fb375515aaebda118ab9c8c518fbcfc4.png",
         2424,
         "image",
         "Yami @ The Latina Next Door | Blogger | DIY | Budget Friendly Home Decor | Recipes |  Latina",
         "Local save in /data/christmas",
         "Christmas Tree Village,Dollar Tree Christmas,Christmas Hacks,Diy Christmas Ornaments,Christmas Projects,Diy Christmas Gifts,Christmas Decorations Dollar Tree,Christmas Villages,Homemade Christmas",
         "Dollar Tree Christmas Village Hack - The Latina Next Door",
         "c1e1a65b-20f6-4fe1-a89c-f5207486754f"
        ],
        [
         "christmas",
         "Discover how to make DIY yarn Christmas trees, easy and last minute tutorial for a beautiful home decoration idea!",
         1,
         "436",
         "https://i.pinimg.com/originals/2e/fc/51/2efc51831d8fc04f31496358cee4e3ef.jpg",
         1819,
         "image",
         "Francine's Place Blog | DIY, lifestyle, creativity",
         "Local save in /data/christmas",
         "Diy Christmas Crafts To Sell,Christmas On A Budget,Christmas Ornament Crafts,Simple Christmas Tree Decorations,How To Make Christmas Tree,Flocked Christmas Trees Decorated,White Christmas Trees,Diy Crafts With Yarn,Ideas For Christmas",
         "DIY YARN CHRISTMAS TREES (EASY & LAST MINUTE DECORATION IDEA) - Francine's Place Blog",
         "e20ac887-9f16-4848-9620-8798d8dce270"
        ]
       ],
       "datasetInfos": [],
       "dbfsResultPath": null,
       "isJsonSchema": true,
       "metadata": {},
       "overflow": false,
       "plotOptions": {
        "customPlotOptions": {},
        "displayType": "table",
        "pivotAggregation": null,
        "pivotColumns": null,
        "xColumns": null,
        "yColumns": null
       },
       "removedWidgets": [],
       "schema": [
        {
         "metadata": "{}",
         "name": "category",
         "type": "\"string\""
        },
        {
         "metadata": "{}",
         "name": "description",
         "type": "\"string\""
        },
        {
         "metadata": "{}",
         "name": "downloaded",
         "type": "\"long\""
        },
        {
         "metadata": "{}",
         "name": "follower_count",
         "type": "\"string\""
        },
        {
         "metadata": "{}",
         "name": "image_src",
         "type": "\"string\""
        },
        {
         "metadata": "{}",
         "name": "index",
         "type": "\"long\""
        },
        {
         "metadata": "{}",
         "name": "is_image_or_video",
         "type": "\"string\""
        },
        {
         "metadata": "{}",
         "name": "poster_name",
         "type": "\"string\""
        },
        {
         "metadata": "{}",
         "name": "save_location",
         "type": "\"string\""
        },
        {
         "metadata": "{}",
         "name": "tag_list",
         "type": "\"string\""
        },
        {
         "metadata": "{}",
         "name": "title",
         "type": "\"string\""
        },
        {
         "metadata": "{}",
         "name": "unique_id",
         "type": "\"string\""
        }
       ],
       "type": "table"
      }
     },
     "output_type": "display_data"
    },
    {
     "data": {
      "text/html": [
       "<style scoped>\n",
       "  .table-result-container {\n",
       "    max-height: 300px;\n",
       "    overflow: auto;\n",
       "  }\n",
       "  table, th, td {\n",
       "    border: 1px solid black;\n",
       "    border-collapse: collapse;\n",
       "  }\n",
       "  th, td {\n",
       "    padding: 5px;\n",
       "  }\n",
       "  th {\n",
       "    text-align: left;\n",
       "  }\n",
       "</style><div class='table-result-container'><table class='table-result'><thead style='background-color: white'><tr><th>country</th><th>index</th><th>latitude</th><th>longitude</th><th>timestamp</th></tr></thead><tbody><tr><td>British Indian Ocean Territory (Chagos Archipelago)</td><td>9455</td><td>-82.9272</td><td>-150.346</td><td>2022-03-15 01:46:32</td></tr><tr><td>British Indian Ocean Territory (Chagos Archipelago)</td><td>6814</td><td>-86.5675</td><td>-149.565</td><td>2022-09-02 11:34:28</td></tr><tr><td>British Indian Ocean Territory (Chagos Archipelago)</td><td>5111</td><td>-83.7472</td><td>8.65953</td><td>2021-04-01 00:56:57</td></tr><tr><td>British Indian Ocean Territory (Chagos Archipelago)</td><td>2989</td><td>-87.013</td><td>133.062</td><td>2020-01-09 19:18:54</td></tr><tr><td>Antarctica (the territory South of 60 deg S)</td><td>10073</td><td>-32.8885</td><td>-170.295</td><td>2021-06-29 19:56:04</td></tr><tr><td>Antarctica (the territory South of 60 deg S)</td><td>10073</td><td>-32.8885</td><td>-170.295</td><td>2021-06-29 19:56:04</td></tr><tr><td>Antarctica (the territory South of 60 deg S)</td><td>2418</td><td>-88.4642</td><td>-171.061</td><td>2022-05-27 11:30:59</td></tr></tbody></table></div>"
      ]
     },
     "metadata": {
      "application/vnd.databricks.v1+output": {
       "addedWidgets": {},
       "aggData": [],
       "aggError": "",
       "aggOverflow": false,
       "aggSchema": [],
       "aggSeriesLimitReached": false,
       "aggType": "",
       "arguments": {},
       "columnCustomDisplayInfos": {},
       "data": [
        [
         "British Indian Ocean Territory (Chagos Archipelago)",
         9455,
         -82.9272,
         -150.346,
         "2022-03-15 01:46:32"
        ],
        [
         "British Indian Ocean Territory (Chagos Archipelago)",
         6814,
         -86.5675,
         -149.565,
         "2022-09-02 11:34:28"
        ],
        [
         "British Indian Ocean Territory (Chagos Archipelago)",
         5111,
         -83.7472,
         8.65953,
         "2021-04-01 00:56:57"
        ],
        [
         "British Indian Ocean Territory (Chagos Archipelago)",
         2989,
         -87.013,
         133.062,
         "2020-01-09 19:18:54"
        ],
        [
         "Antarctica (the territory South of 60 deg S)",
         10073,
         -32.8885,
         -170.295,
         "2021-06-29 19:56:04"
        ],
        [
         "Antarctica (the territory South of 60 deg S)",
         10073,
         -32.8885,
         -170.295,
         "2021-06-29 19:56:04"
        ],
        [
         "Antarctica (the territory South of 60 deg S)",
         2418,
         -88.4642,
         -171.061,
         "2022-05-27 11:30:59"
        ]
       ],
       "datasetInfos": [],
       "dbfsResultPath": null,
       "isJsonSchema": true,
       "metadata": {},
       "overflow": false,
       "plotOptions": {
        "customPlotOptions": {},
        "displayType": "table",
        "pivotAggregation": null,
        "pivotColumns": null,
        "xColumns": null,
        "yColumns": null
       },
       "removedWidgets": [],
       "schema": [
        {
         "metadata": "{}",
         "name": "country",
         "type": "\"string\""
        },
        {
         "metadata": "{}",
         "name": "index",
         "type": "\"long\""
        },
        {
         "metadata": "{}",
         "name": "latitude",
         "type": "\"double\""
        },
        {
         "metadata": "{}",
         "name": "longitude",
         "type": "\"double\""
        },
        {
         "metadata": "{}",
         "name": "timestamp",
         "type": "\"string\""
        }
       ],
       "type": "table"
      }
     },
     "output_type": "display_data"
    },
    {
     "data": {
      "text/html": [
       "<style scoped>\n",
       "  .table-result-container {\n",
       "    max-height: 300px;\n",
       "    overflow: auto;\n",
       "  }\n",
       "  table, th, td {\n",
       "    border: 1px solid black;\n",
       "    border-collapse: collapse;\n",
       "  }\n",
       "  th, td {\n",
       "    padding: 5px;\n",
       "  }\n",
       "  th {\n",
       "    text-align: left;\n",
       "  }\n",
       "</style><div class='table-result-container'><table class='table-result'><thead style='background-color: white'><tr><th>age</th><th>date_joined</th><th>first_name</th><th>index</th><th>last_name</th></tr></thead><tbody><tr><td>42</td><td>2017-02-18 00:31:22</td><td>Christopher</td><td>6353</td><td>Hernandez</td></tr><tr><td>27</td><td>2016-03-08 13:38:37</td><td>Christopher</td><td>2015</td><td>Bradshaw</td></tr><tr><td>59</td><td>2017-05-12 21:22:17</td><td>Alexander</td><td>10673</td><td>Cervantes</td></tr><tr><td>48</td><td>2016-02-27 16:57:44</td><td>Christopher</td><td>1857</td><td>Hamilton</td></tr><tr><td>45</td><td>2016-09-15 06:02:53</td><td>Christopher</td><td>10020</td><td>Hawkins</td></tr><tr><td>35</td><td>2015-10-22 22:42:23</td><td>Christopher</td><td>2041</td><td>Campbell</td></tr><tr><td>48</td><td>2016-06-13 17:09:14</td><td>Christopher</td><td>7031</td><td>Anderson</td></tr></tbody></table></div>"
      ]
     },
     "metadata": {
      "application/vnd.databricks.v1+output": {
       "addedWidgets": {},
       "aggData": [],
       "aggError": "",
       "aggOverflow": false,
       "aggSchema": [],
       "aggSeriesLimitReached": false,
       "aggType": "",
       "arguments": {},
       "columnCustomDisplayInfos": {},
       "data": [
        [
         42,
         "2017-02-18 00:31:22",
         "Christopher",
         6353,
         "Hernandez"
        ],
        [
         27,
         "2016-03-08 13:38:37",
         "Christopher",
         2015,
         "Bradshaw"
        ],
        [
         59,
         "2017-05-12 21:22:17",
         "Alexander",
         10673,
         "Cervantes"
        ],
        [
         48,
         "2016-02-27 16:57:44",
         "Christopher",
         1857,
         "Hamilton"
        ],
        [
         45,
         "2016-09-15 06:02:53",
         "Christopher",
         10020,
         "Hawkins"
        ],
        [
         35,
         "2015-10-22 22:42:23",
         "Christopher",
         2041,
         "Campbell"
        ],
        [
         48,
         "2016-06-13 17:09:14",
         "Christopher",
         7031,
         "Anderson"
        ]
       ],
       "datasetInfos": [],
       "dbfsResultPath": null,
       "isJsonSchema": true,
       "metadata": {},
       "overflow": false,
       "plotOptions": {
        "customPlotOptions": {},
        "displayType": "table",
        "pivotAggregation": null,
        "pivotColumns": null,
        "xColumns": null,
        "yColumns": null
       },
       "removedWidgets": [],
       "schema": [
        {
         "metadata": "{}",
         "name": "age",
         "type": "\"long\""
        },
        {
         "metadata": "{}",
         "name": "date_joined",
         "type": "\"string\""
        },
        {
         "metadata": "{}",
         "name": "first_name",
         "type": "\"string\""
        },
        {
         "metadata": "{}",
         "name": "index",
         "type": "\"long\""
        },
        {
         "metadata": "{}",
         "name": "last_name",
         "type": "\"string\""
        }
       ],
       "type": "table"
      }
     },
     "output_type": "display_data"
    }
   ],
   "source": [
    "# Display the created dataframes.\n",
    "display(df_pin.head(7))\n",
    "display(df_geo.head(7))\n",
    "display(df_user.head(7))"
   ]
  },
  {
   "cell_type": "markdown",
   "metadata": {
    "application/vnd.databricks.v1+cell": {
     "cellMetadata": {},
     "inputWidgets": {},
     "nuid": "63bd375d-8588-444f-b831-c09f451dc20d",
     "showTitle": false,
     "title": ""
    }
   },
   "source": [
    "## Cleaning the dataframe containing pinterest data"
   ]
  },
  {
   "cell_type": "code",
   "execution_count": null,
   "metadata": {
    "application/vnd.databricks.v1+cell": {
     "cellMetadata": {
      "byteLimit": 2048000,
      "rowLimit": 10000
     },
     "inputWidgets": {},
     "nuid": "80fc263c-752b-4f27-8934-681f9f6c56be",
     "showTitle": false,
     "title": ""
    },
    "jupyter": {
     "outputs_hidden": true
    }
   },
   "outputs": [
    {
     "data": {
      "text/html": [
       "<style scoped>\n",
       "  .table-result-container {\n",
       "    max-height: 300px;\n",
       "    overflow: auto;\n",
       "  }\n",
       "  table, th, td {\n",
       "    border: 1px solid black;\n",
       "    border-collapse: collapse;\n",
       "  }\n",
       "  th, td {\n",
       "    padding: 5px;\n",
       "  }\n",
       "  th {\n",
       "    text-align: left;\n",
       "  }\n",
       "</style><div class='table-result-container'><table class='table-result'><thead style='background-color: white'><tr><th>ind</th><th>unique_id</th><th>title</th><th>description</th><th>follower_count</th><th>poster_name</th><th>tag_list</th><th>is_image_or_video</th><th>image_src</th><th>save_location</th><th>category</th></tr></thead><tbody><tr><td>2732</td><td>800c4f90-50aa-4e3b-aa4f-2be20995f303</td><td>Gingerbread Man Paper Bag Puppet Craft [Free Template]</td><td>Make this cute and easy gingerbread man paper bag puppet craft this Christmas! It comes with a FREE printable template and is great to create with preschool</td><td>267000</td><td>Easy Kids Crafts & Activities | Preschool & Kindergarten Ideas</td><td>Gingerbread Man Crafts,Gingerbread Man Activities,Christmas Activities For Kids,Winter Crafts For Kids,Preschool Christmas,Gingerbread Man Kindergarten,Gingerbread Man Template,Christmas Projects For Kids,Cheap Christmas Crafts</td><td>image</td><td>https://i.pinimg.com/originals/94/24/02/942402ca7264750c0cff719badabb10e.jpg</td><td>Local save in /data/diy-and-crafts</td><td>diy-and-crafts</td></tr><tr><td>4925</td><td>662c77cd-d99a-45f8-9a36-62feadbb4f7b</td><td>20FT x 10FT Blush | Rose Gold Double Layer Polyester Chiffon Backdrop With Rod Pockets</td><td>20ftx10ft Blush Double Layer Polyester Chiffon Backdrop With Rod Pockets Write a review Item Number: BKDP300_046 Default Title - $107.99 USD $107.99Sale Price$166.59Retail Price</td><td>68000</td><td>eFavormart | One-Stop Shop for Wedding, Party & Event Supplies!</td><td>Pink Photography,Background For Photography,Photography Backdrops,Wedding Photography,Photography Ideas,Burlap Backdrop,Fabric Backdrop,Pink Backdrop,Sequin Backdrop</td><td>image</td><td>https://i.pinimg.com/originals/55/1c/c6/551cc65e5aa06edf2eb25318c61ecbd4.jpg</td><td>Local save in /data/event-planning</td><td>event-planning</td></tr><tr><td>2288</td><td>991f5083-e4f2-4eee-bf85-d76bf84a08e2</td><td>97 Farmhouse Christmas Decor Ideas For Your Home - Chaylor & Mads</td><td>All the farmhouse Christmas decor ideas to create a gorgeous home for the holidays. Ideas to create a beautiful mantle, stocking you willl love, pillow covers and more!</td><td>91000</td><td>Kristen | Lifestyle, Mom Tips & Teacher Stuff Blog</td><td>Christmas Decorations For The Home,Winter Home Decor,Farmhouse Christmas Decor,Rustic Christmas,Christmas Fireplace,Christmas Mantels,Livingroom Christmas Decor,Christmas Home Decorating,Stocking Decorating Ideas</td><td>image</td><td>https://i.pinimg.com/originals/6f/df/3b/6fdf3bb828b057c76050d5f158694cf6.png</td><td>Local save in /data/christmas</td><td>christmas</td></tr><tr><td>1928</td><td>444c659e-146a-4536-88a6-5524f494a4c1</td><td>Traditional Red Tartan Plaid Christmas Tree | 2016 Michaels Dream Tree Challenge - bystephanielynn</td><td>Traditional Red Tartan Plaid Christmas Tree | 2016 Michaels Dream Tree Challenge #michaelsmakers - Classic red and gold Christmas Tree Decorating Ideas and Inspiration</td><td>116000</td><td>Stephanie Lynn</td><td>Red And Gold Christmas Tree,Tartan Christmas,Traditional Christmas Tree,Gold Christmas Decorations,Vintage Halloween Decorations,Beautiful Christmas Trees,Christmas Tree Themes,Plaid Christmas,Christmas Traditions</td><td>image</td><td>https://i.pinimg.com/originals/c8/ae/49/c8ae4959583799f661570eb7efb7aeaf.jpg</td><td>Local save in /data/christmas</td><td>christmas</td></tr><tr><td>3232</td><td>9958caec-20ac-477f-9e13-b16192f187b9</td><td>How to Make Adorable Clay Pot Christmas Tree Ornaments</td><td>These clay pot Christmas tree ornaments are so cute and fun for kids to make! They are an easy Christmas ornament craft that kids of all ages will be able to create.</td><td>20000</td><td>Projects with Kids</td><td>Easy Christmas Ornaments,Christmas Gifts For Teen Girls,Christmas Crafts For Gifts,Christmas Fun,Church Christmas Craft,Ornaments For Teachers,Ideas For Christmas Presents,Christmas Gifts For Teachers,Christmas Tree Decorations For Kids</td><td>image</td><td>https://i.pinimg.com/originals/fd/5d/51/fd5d5164125a68b18f7b1186d68d2d4d.jpg</td><td>Local save in /data/diy-and-crafts</td><td>diy-and-crafts</td></tr><tr><td>2424</td><td>c1e1a65b-20f6-4fe1-a89c-f5207486754f</td><td>Dollar Tree Christmas Village Hack - The Latina Next Door</td><td>With this Dollar Tree Christmas Village Hack you can create your own high end Christmas Village without the huge expense, and it's so easy!</td><td>24000</td><td>Yami @ The Latina Next Door | Blogger | DIY | Budget Friendly Home Decor | Recipes |  Latina</td><td>Christmas Tree Village,Dollar Tree Christmas,Christmas Hacks,Diy Christmas Ornaments,Christmas Projects,Diy Christmas Gifts,Christmas Decorations Dollar Tree,Christmas Villages,Homemade Christmas</td><td>image</td><td>https://i.pinimg.com/originals/fb/37/55/fb375515aaebda118ab9c8c518fbcfc4.png</td><td>Local save in /data/christmas</td><td>christmas</td></tr></tbody></table></div>"
      ]
     },
     "metadata": {
      "application/vnd.databricks.v1+output": {
       "addedWidgets": {},
       "aggData": [],
       "aggError": "",
       "aggOverflow": false,
       "aggSchema": [],
       "aggSeriesLimitReached": false,
       "aggType": "",
       "arguments": {},
       "columnCustomDisplayInfos": {},
       "data": [
        [
         2732,
         "800c4f90-50aa-4e3b-aa4f-2be20995f303",
         "Gingerbread Man Paper Bag Puppet Craft [Free Template]",
         "Make this cute and easy gingerbread man paper bag puppet craft this Christmas! It comes with a FREE printable template and is great to create with preschool",
         267000,
         "Easy Kids Crafts & Activities | Preschool & Kindergarten Ideas",
         "Gingerbread Man Crafts,Gingerbread Man Activities,Christmas Activities For Kids,Winter Crafts For Kids,Preschool Christmas,Gingerbread Man Kindergarten,Gingerbread Man Template,Christmas Projects For Kids,Cheap Christmas Crafts",
         "image",
         "https://i.pinimg.com/originals/94/24/02/942402ca7264750c0cff719badabb10e.jpg",
         "Local save in /data/diy-and-crafts",
         "diy-and-crafts"
        ],
        [
         4925,
         "662c77cd-d99a-45f8-9a36-62feadbb4f7b",
         "20FT x 10FT Blush | Rose Gold Double Layer Polyester Chiffon Backdrop With Rod Pockets",
         "20ftx10ft Blush Double Layer Polyester Chiffon Backdrop With Rod Pockets Write a review Item Number: BKDP300_046 Default Title - $107.99 USD $107.99Sale Price$166.59Retail Price",
         68000,
         "eFavormart | One-Stop Shop for Wedding, Party & Event Supplies!",
         "Pink Photography,Background For Photography,Photography Backdrops,Wedding Photography,Photography Ideas,Burlap Backdrop,Fabric Backdrop,Pink Backdrop,Sequin Backdrop",
         "image",
         "https://i.pinimg.com/originals/55/1c/c6/551cc65e5aa06edf2eb25318c61ecbd4.jpg",
         "Local save in /data/event-planning",
         "event-planning"
        ],
        [
         2288,
         "991f5083-e4f2-4eee-bf85-d76bf84a08e2",
         "97 Farmhouse Christmas Decor Ideas For Your Home - Chaylor & Mads",
         "All the farmhouse Christmas decor ideas to create a gorgeous home for the holidays. Ideas to create a beautiful mantle, stocking you willl love, pillow covers and more!",
         91000,
         "Kristen | Lifestyle, Mom Tips & Teacher Stuff Blog",
         "Christmas Decorations For The Home,Winter Home Decor,Farmhouse Christmas Decor,Rustic Christmas,Christmas Fireplace,Christmas Mantels,Livingroom Christmas Decor,Christmas Home Decorating,Stocking Decorating Ideas",
         "image",
         "https://i.pinimg.com/originals/6f/df/3b/6fdf3bb828b057c76050d5f158694cf6.png",
         "Local save in /data/christmas",
         "christmas"
        ],
        [
         1928,
         "444c659e-146a-4536-88a6-5524f494a4c1",
         "Traditional Red Tartan Plaid Christmas Tree | 2016 Michaels Dream Tree Challenge - bystephanielynn",
         "Traditional Red Tartan Plaid Christmas Tree | 2016 Michaels Dream Tree Challenge #michaelsmakers - Classic red and gold Christmas Tree Decorating Ideas and Inspiration",
         116000,
         "Stephanie Lynn",
         "Red And Gold Christmas Tree,Tartan Christmas,Traditional Christmas Tree,Gold Christmas Decorations,Vintage Halloween Decorations,Beautiful Christmas Trees,Christmas Tree Themes,Plaid Christmas,Christmas Traditions",
         "image",
         "https://i.pinimg.com/originals/c8/ae/49/c8ae4959583799f661570eb7efb7aeaf.jpg",
         "Local save in /data/christmas",
         "christmas"
        ],
        [
         3232,
         "9958caec-20ac-477f-9e13-b16192f187b9",
         "How to Make Adorable Clay Pot Christmas Tree Ornaments",
         "These clay pot Christmas tree ornaments are so cute and fun for kids to make! They are an easy Christmas ornament craft that kids of all ages will be able to create.",
         20000,
         "Projects with Kids",
         "Easy Christmas Ornaments,Christmas Gifts For Teen Girls,Christmas Crafts For Gifts,Christmas Fun,Church Christmas Craft,Ornaments For Teachers,Ideas For Christmas Presents,Christmas Gifts For Teachers,Christmas Tree Decorations For Kids",
         "image",
         "https://i.pinimg.com/originals/fd/5d/51/fd5d5164125a68b18f7b1186d68d2d4d.jpg",
         "Local save in /data/diy-and-crafts",
         "diy-and-crafts"
        ],
        [
         2424,
         "c1e1a65b-20f6-4fe1-a89c-f5207486754f",
         "Dollar Tree Christmas Village Hack - The Latina Next Door",
         "With this Dollar Tree Christmas Village Hack you can create your own high end Christmas Village without the huge expense, and it's so easy!",
         24000,
         "Yami @ The Latina Next Door | Blogger | DIY | Budget Friendly Home Decor | Recipes |  Latina",
         "Christmas Tree Village,Dollar Tree Christmas,Christmas Hacks,Diy Christmas Ornaments,Christmas Projects,Diy Christmas Gifts,Christmas Decorations Dollar Tree,Christmas Villages,Homemade Christmas",
         "image",
         "https://i.pinimg.com/originals/fb/37/55/fb375515aaebda118ab9c8c518fbcfc4.png",
         "Local save in /data/christmas",
         "christmas"
        ]
       ],
       "datasetInfos": [],
       "dbfsResultPath": null,
       "isJsonSchema": true,
       "metadata": {},
       "overflow": false,
       "plotOptions": {
        "customPlotOptions": {},
        "displayType": "table",
        "pivotAggregation": null,
        "pivotColumns": null,
        "xColumns": null,
        "yColumns": null
       },
       "removedWidgets": [],
       "schema": [
        {
         "metadata": "{}",
         "name": "ind",
         "type": "\"long\""
        },
        {
         "metadata": "{}",
         "name": "unique_id",
         "type": "\"string\""
        },
        {
         "metadata": "{}",
         "name": "title",
         "type": "\"string\""
        },
        {
         "metadata": "{}",
         "name": "description",
         "type": "\"string\""
        },
        {
         "metadata": "{}",
         "name": "follower_count",
         "type": "\"long\""
        },
        {
         "metadata": "{}",
         "name": "poster_name",
         "type": "\"string\""
        },
        {
         "metadata": "{}",
         "name": "tag_list",
         "type": "\"string\""
        },
        {
         "metadata": "{}",
         "name": "is_image_or_video",
         "type": "\"string\""
        },
        {
         "metadata": "{}",
         "name": "image_src",
         "type": "\"string\""
        },
        {
         "metadata": "{}",
         "name": "save_location",
         "type": "\"string\""
        },
        {
         "metadata": "{}",
         "name": "category",
         "type": "\"string\""
        }
       ],
       "type": "table"
      }
     },
     "output_type": "display_data"
    }
   ],
   "source": [
    "from pyspark.sql.functions import col,when\n",
    "from pyspark.sql.functions import regexp_extract\n",
    "\n",
    "df_pin = df_pin.withColumn(\"description\", when(col(\"description\").contains(\"No description available\"), \"None\").otherwise(col(\"description\")))\n",
    "df_pin = df_pin.withColumn(\"image_src\", when(col(\"image_src\").contains(\"Image src error\"), \"None\").otherwise(col(\"image_src\")))\n",
    "df_pin = df_pin.withColumn(\"follower_count\", when(col(\"follower_count\").contains(\"User Info Error\"), \"None\").otherwise(col(\"follower_count\")))\n",
    "df_pin = df_pin.withColumn(\"follower_count\", regexp_replace(df_pin[\"follower_count\"], \"M\", \"000000\"))\n",
    "df_pin = df_pin.withColumn(\"follower_count\", regexp_replace(df_pin[\"follower_count\"], \"k\", \"000\"))\n",
    "df_pin = df_pin.withColumn(\"downloaded\",col(\"downloaded\").cast(\"int\"))\n",
    "df_pin = df_pin.withColumn(\"follower_count\",col(\"follower_count\").cast(\"int\"))\n",
    "df_pin = df_pin.withColumn(\"index\",col(\"index\").cast(\"int\"))\n",
    "df_pin = df_pin.withColumnRenamed(\"index\",\"ind\")\n",
    "\n",
    "df_pin = df_pin.select(\"ind\", \"unique_id\", \"title\", \"description\", \"follower_count\", \"poster_name\", \"tag_list\", \"is_image_or_video\", \"image_src\", \"save_location\", \"category\")\n",
    "\n",
    "display(df_pin.head(6))"
   ]
  },
  {
   "cell_type": "markdown",
   "metadata": {
    "application/vnd.databricks.v1+cell": {
     "cellMetadata": {},
     "inputWidgets": {},
     "nuid": "4c4db25e-87cf-4a25-812a-0beab3b413f7",
     "showTitle": false,
     "title": ""
    }
   },
   "source": [
    "## Cleaning the dataframe containing geolocation data"
   ]
  },
  {
   "cell_type": "code",
   "execution_count": null,
   "metadata": {
    "application/vnd.databricks.v1+cell": {
     "cellMetadata": {
      "byteLimit": 2048000,
      "rowLimit": 10000
     },
     "inputWidgets": {},
     "nuid": "088b0183-f5a1-4607-90e2-b65c84c65535",
     "showTitle": false,
     "title": ""
    },
    "jupyter": {
     "outputs_hidden": true
    }
   },
   "outputs": [
    {
     "data": {
      "text/html": [
       "<style scoped>\n",
       "  .table-result-container {\n",
       "    max-height: 300px;\n",
       "    overflow: auto;\n",
       "  }\n",
       "  table, th, td {\n",
       "    border: 1px solid black;\n",
       "    border-collapse: collapse;\n",
       "  }\n",
       "  th, td {\n",
       "    padding: 5px;\n",
       "  }\n",
       "  th {\n",
       "    text-align: left;\n",
       "  }\n",
       "</style><div class='table-result-container'><table class='table-result'><thead style='background-color: white'><tr><th>ind</th><th>country</th><th>coordinates</th><th>timestamp</th></tr></thead><tbody><tr><td>9455</td><td>British Indian Ocean Territory (Chagos Archipelago)</td><td>List(-82.9272, -150.346)</td><td>2022-03-15T01:46:32.000+0000</td></tr><tr><td>6814</td><td>British Indian Ocean Territory (Chagos Archipelago)</td><td>List(-86.5675, -149.565)</td><td>2022-09-02T11:34:28.000+0000</td></tr><tr><td>5111</td><td>British Indian Ocean Territory (Chagos Archipelago)</td><td>List(-83.7472, 8.65953)</td><td>2021-04-01T00:56:57.000+0000</td></tr><tr><td>2989</td><td>British Indian Ocean Territory (Chagos Archipelago)</td><td>List(-87.013, 133.062)</td><td>2020-01-09T19:18:54.000+0000</td></tr><tr><td>10073</td><td>Antarctica (the territory South of 60 deg S)</td><td>List(-32.8885, -170.295)</td><td>2021-06-29T19:56:04.000+0000</td></tr><tr><td>10073</td><td>Antarctica (the territory South of 60 deg S)</td><td>List(-32.8885, -170.295)</td><td>2021-06-29T19:56:04.000+0000</td></tr></tbody></table></div>"
      ]
     },
     "metadata": {
      "application/vnd.databricks.v1+output": {
       "addedWidgets": {},
       "aggData": [],
       "aggError": "",
       "aggOverflow": false,
       "aggSchema": [],
       "aggSeriesLimitReached": false,
       "aggType": "",
       "arguments": {},
       "columnCustomDisplayInfos": {},
       "data": [
        [
         9455,
         "British Indian Ocean Territory (Chagos Archipelago)",
         [
          -82.9272,
          -150.346
         ],
         "2022-03-15T01:46:32.000+0000"
        ],
        [
         6814,
         "British Indian Ocean Territory (Chagos Archipelago)",
         [
          -86.5675,
          -149.565
         ],
         "2022-09-02T11:34:28.000+0000"
        ],
        [
         5111,
         "British Indian Ocean Territory (Chagos Archipelago)",
         [
          -83.7472,
          8.65953
         ],
         "2021-04-01T00:56:57.000+0000"
        ],
        [
         2989,
         "British Indian Ocean Territory (Chagos Archipelago)",
         [
          -87.013,
          133.062
         ],
         "2020-01-09T19:18:54.000+0000"
        ],
        [
         10073,
         "Antarctica (the territory South of 60 deg S)",
         [
          -32.8885,
          -170.295
         ],
         "2021-06-29T19:56:04.000+0000"
        ],
        [
         10073,
         "Antarctica (the territory South of 60 deg S)",
         [
          -32.8885,
          -170.295
         ],
         "2021-06-29T19:56:04.000+0000"
        ]
       ],
       "datasetInfos": [],
       "dbfsResultPath": null,
       "isJsonSchema": true,
       "metadata": {},
       "overflow": false,
       "plotOptions": {
        "customPlotOptions": {},
        "displayType": "table",
        "pivotAggregation": null,
        "pivotColumns": null,
        "xColumns": null,
        "yColumns": null
       },
       "removedWidgets": [],
       "schema": [
        {
         "metadata": "{}",
         "name": "ind",
         "type": "\"long\""
        },
        {
         "metadata": "{}",
         "name": "country",
         "type": "\"string\""
        },
        {
         "metadata": "{}",
         "name": "coordinates",
         "type": "{\"type\":\"array\",\"elementType\":\"double\",\"containsNull\":true}"
        },
        {
         "metadata": "{}",
         "name": "timestamp",
         "type": "\"timestamp\""
        }
       ],
       "type": "table"
      }
     },
     "output_type": "display_data"
    }
   ],
   "source": [
    "df_geo = df_geo.withColumn(\"timestamp\", col(\"timestamp\").cast(\"timestamp\"))\n",
    "geo = df_geo.withColumn(\"index\",col(\"index\").cast(\"int\"))\n",
    "df_geo = df_geo.withColumnRenamed(\"index\",\"ind\")\n",
    "df_geo = df_geo.withColumn('coordinates', array('latitude', 'longitude'))\n",
    "\n",
    "df_geo = df_geo.select(\"ind\", \"country\", \"coordinates\", \"timestamp\")\n",
    "\n",
    "display(df_geo.head(6))"
   ]
  },
  {
   "cell_type": "markdown",
   "metadata": {
    "application/vnd.databricks.v1+cell": {
     "cellMetadata": {
      "byteLimit": 2048000,
      "rowLimit": 10000
     },
     "inputWidgets": {},
     "nuid": "06663406-459d-4f0d-a61d-371f59dc6f84",
     "showTitle": false,
     "title": ""
    }
   },
   "source": [
    "## Cleaning the dataframe containing user data"
   ]
  },
  {
   "cell_type": "code",
   "execution_count": null,
   "metadata": {
    "application/vnd.databricks.v1+cell": {
     "cellMetadata": {
      "byteLimit": 2048000,
      "rowLimit": 10000
     },
     "inputWidgets": {},
     "nuid": "80387abd-a3d2-4988-af3b-e0db02085af3",
     "showTitle": false,
     "title": ""
    },
    "jupyter": {
     "outputs_hidden": true
    }
   },
   "outputs": [
    {
     "data": {
      "text/html": [
       "<style scoped>\n",
       "  .table-result-container {\n",
       "    max-height: 300px;\n",
       "    overflow: auto;\n",
       "  }\n",
       "  table, th, td {\n",
       "    border: 1px solid black;\n",
       "    border-collapse: collapse;\n",
       "  }\n",
       "  th, td {\n",
       "    padding: 5px;\n",
       "  }\n",
       "  th {\n",
       "    text-align: left;\n",
       "  }\n",
       "</style><div class='table-result-container'><table class='table-result'><thead style='background-color: white'><tr><th>ind</th><th>user_name</th><th>age</th><th>date_joined</th></tr></thead><tbody><tr><td>6353</td><td>Christopher Hernandez</td><td>42</td><td>2017-02-18T00:31:22.000+0000</td></tr><tr><td>2015</td><td>Christopher Bradshaw</td><td>27</td><td>2016-03-08T13:38:37.000+0000</td></tr><tr><td>10673</td><td>Alexander Cervantes</td><td>59</td><td>2017-05-12T21:22:17.000+0000</td></tr><tr><td>1857</td><td>Christopher Hamilton</td><td>48</td><td>2016-02-27T16:57:44.000+0000</td></tr><tr><td>10020</td><td>Christopher Hawkins</td><td>45</td><td>2016-09-15T06:02:53.000+0000</td></tr></tbody></table></div>"
      ]
     },
     "metadata": {
      "application/vnd.databricks.v1+output": {
       "addedWidgets": {},
       "aggData": [],
       "aggError": "",
       "aggOverflow": false,
       "aggSchema": [],
       "aggSeriesLimitReached": false,
       "aggType": "",
       "arguments": {},
       "columnCustomDisplayInfos": {},
       "data": [
        [
         6353,
         "Christopher Hernandez",
         42,
         "2017-02-18T00:31:22.000+0000"
        ],
        [
         2015,
         "Christopher Bradshaw",
         27,
         "2016-03-08T13:38:37.000+0000"
        ],
        [
         10673,
         "Alexander Cervantes",
         59,
         "2017-05-12T21:22:17.000+0000"
        ],
        [
         1857,
         "Christopher Hamilton",
         48,
         "2016-02-27T16:57:44.000+0000"
        ],
        [
         10020,
         "Christopher Hawkins",
         45,
         "2016-09-15T06:02:53.000+0000"
        ]
       ],
       "datasetInfos": [],
       "dbfsResultPath": null,
       "isJsonSchema": true,
       "metadata": {},
       "overflow": false,
       "plotOptions": {
        "customPlotOptions": {},
        "displayType": "table",
        "pivotAggregation": null,
        "pivotColumns": null,
        "xColumns": null,
        "yColumns": null
       },
       "removedWidgets": [],
       "schema": [
        {
         "metadata": "{}",
         "name": "ind",
         "type": "\"long\""
        },
        {
         "metadata": "{}",
         "name": "user_name",
         "type": "\"string\""
        },
        {
         "metadata": "{}",
         "name": "age",
         "type": "\"long\""
        },
        {
         "metadata": "{}",
         "name": "date_joined",
         "type": "\"timestamp\""
        }
       ],
       "type": "table"
      }
     },
     "output_type": "display_data"
    }
   ],
   "source": [
    "df_user = df_user.withColumn(\"user_name\", concat(col(\"first_name\"), lit(\" \"), col(\"last_name\")))\n",
    "df_user = df_user.withColumn(\"date_joined\", col(\"date_joined\").cast(\"timestamp\"))\n",
    "df_user = df_user.withColumnRenamed(\"index\",\"ind\")\n",
    "\n",
    "df_user = df_user.select(\"ind\", \"user_name\", \"age\", \"date_joined\")\n",
    "\n",
    "display(df_user.head(5))"
   ]
  },
  {
   "cell_type": "markdown",
   "metadata": {
    "application/vnd.databricks.v1+cell": {
     "cellMetadata": {},
     "inputWidgets": {},
     "nuid": "8f9d776a-4703-474d-a210-df9533678873",
     "showTitle": false,
     "title": ""
    }
   },
   "source": [
    "#### View all 3 transformed dataframes"
   ]
  },
  {
   "cell_type": "code",
   "execution_count": null,
   "metadata": {
    "application/vnd.databricks.v1+cell": {
     "cellMetadata": {
      "byteLimit": 2048000,
      "rowLimit": 10000
     },
     "inputWidgets": {},
     "nuid": "fa4f0059-01bc-4d16-a102-5f4f2e16a5b6",
     "showTitle": false,
     "title": ""
    },
    "jupyter": {
     "outputs_hidden": true
    }
   },
   "outputs": [
    {
     "data": {
      "text/html": [
       "<style scoped>\n",
       "  .table-result-container {\n",
       "    max-height: 300px;\n",
       "    overflow: auto;\n",
       "  }\n",
       "  table, th, td {\n",
       "    border: 1px solid black;\n",
       "    border-collapse: collapse;\n",
       "  }\n",
       "  th, td {\n",
       "    padding: 5px;\n",
       "  }\n",
       "  th {\n",
       "    text-align: left;\n",
       "  }\n",
       "</style><div class='table-result-container'><table class='table-result'><thead style='background-color: white'><tr><th>ind</th><th>unique_id</th><th>title</th><th>description</th><th>follower_count</th><th>poster_name</th><th>tag_list</th><th>is_image_or_video</th><th>image_src</th><th>save_location</th><th>category</th></tr></thead><tbody><tr><td>2732</td><td>800c4f90-50aa-4e3b-aa4f-2be20995f303</td><td>Gingerbread Man Paper Bag Puppet Craft [Free Template]</td><td>Make this cute and easy gingerbread man paper bag puppet craft this Christmas! It comes with a FREE printable template and is great to create with preschool</td><td>267000</td><td>Easy Kids Crafts & Activities | Preschool & Kindergarten Ideas</td><td>Gingerbread Man Crafts,Gingerbread Man Activities,Christmas Activities For Kids,Winter Crafts For Kids,Preschool Christmas,Gingerbread Man Kindergarten,Gingerbread Man Template,Christmas Projects For Kids,Cheap Christmas Crafts</td><td>image</td><td>https://i.pinimg.com/originals/94/24/02/942402ca7264750c0cff719badabb10e.jpg</td><td>Local save in /data/diy-and-crafts</td><td>diy-and-crafts</td></tr><tr><td>4925</td><td>662c77cd-d99a-45f8-9a36-62feadbb4f7b</td><td>20FT x 10FT Blush | Rose Gold Double Layer Polyester Chiffon Backdrop With Rod Pockets</td><td>20ftx10ft Blush Double Layer Polyester Chiffon Backdrop With Rod Pockets Write a review Item Number: BKDP300_046 Default Title - $107.99 USD $107.99Sale Price$166.59Retail Price</td><td>68000</td><td>eFavormart | One-Stop Shop for Wedding, Party & Event Supplies!</td><td>Pink Photography,Background For Photography,Photography Backdrops,Wedding Photography,Photography Ideas,Burlap Backdrop,Fabric Backdrop,Pink Backdrop,Sequin Backdrop</td><td>image</td><td>https://i.pinimg.com/originals/55/1c/c6/551cc65e5aa06edf2eb25318c61ecbd4.jpg</td><td>Local save in /data/event-planning</td><td>event-planning</td></tr><tr><td>2288</td><td>991f5083-e4f2-4eee-bf85-d76bf84a08e2</td><td>97 Farmhouse Christmas Decor Ideas For Your Home - Chaylor & Mads</td><td>All the farmhouse Christmas decor ideas to create a gorgeous home for the holidays. Ideas to create a beautiful mantle, stocking you willl love, pillow covers and more!</td><td>91000</td><td>Kristen | Lifestyle, Mom Tips & Teacher Stuff Blog</td><td>Christmas Decorations For The Home,Winter Home Decor,Farmhouse Christmas Decor,Rustic Christmas,Christmas Fireplace,Christmas Mantels,Livingroom Christmas Decor,Christmas Home Decorating,Stocking Decorating Ideas</td><td>image</td><td>https://i.pinimg.com/originals/6f/df/3b/6fdf3bb828b057c76050d5f158694cf6.png</td><td>Local save in /data/christmas</td><td>christmas</td></tr><tr><td>1928</td><td>444c659e-146a-4536-88a6-5524f494a4c1</td><td>Traditional Red Tartan Plaid Christmas Tree | 2016 Michaels Dream Tree Challenge - bystephanielynn</td><td>Traditional Red Tartan Plaid Christmas Tree | 2016 Michaels Dream Tree Challenge #michaelsmakers - Classic red and gold Christmas Tree Decorating Ideas and Inspiration</td><td>116000</td><td>Stephanie Lynn</td><td>Red And Gold Christmas Tree,Tartan Christmas,Traditional Christmas Tree,Gold Christmas Decorations,Vintage Halloween Decorations,Beautiful Christmas Trees,Christmas Tree Themes,Plaid Christmas,Christmas Traditions</td><td>image</td><td>https://i.pinimg.com/originals/c8/ae/49/c8ae4959583799f661570eb7efb7aeaf.jpg</td><td>Local save in /data/christmas</td><td>christmas</td></tr><tr><td>3232</td><td>9958caec-20ac-477f-9e13-b16192f187b9</td><td>How to Make Adorable Clay Pot Christmas Tree Ornaments</td><td>These clay pot Christmas tree ornaments are so cute and fun for kids to make! They are an easy Christmas ornament craft that kids of all ages will be able to create.</td><td>20000</td><td>Projects with Kids</td><td>Easy Christmas Ornaments,Christmas Gifts For Teen Girls,Christmas Crafts For Gifts,Christmas Fun,Church Christmas Craft,Ornaments For Teachers,Ideas For Christmas Presents,Christmas Gifts For Teachers,Christmas Tree Decorations For Kids</td><td>image</td><td>https://i.pinimg.com/originals/fd/5d/51/fd5d5164125a68b18f7b1186d68d2d4d.jpg</td><td>Local save in /data/diy-and-crafts</td><td>diy-and-crafts</td></tr></tbody></table></div>"
      ]
     },
     "metadata": {
      "application/vnd.databricks.v1+output": {
       "addedWidgets": {},
       "aggData": [],
       "aggError": "",
       "aggOverflow": false,
       "aggSchema": [],
       "aggSeriesLimitReached": false,
       "aggType": "",
       "arguments": {},
       "columnCustomDisplayInfos": {},
       "data": [
        [
         2732,
         "800c4f90-50aa-4e3b-aa4f-2be20995f303",
         "Gingerbread Man Paper Bag Puppet Craft [Free Template]",
         "Make this cute and easy gingerbread man paper bag puppet craft this Christmas! It comes with a FREE printable template and is great to create with preschool",
         267000,
         "Easy Kids Crafts & Activities | Preschool & Kindergarten Ideas",
         "Gingerbread Man Crafts,Gingerbread Man Activities,Christmas Activities For Kids,Winter Crafts For Kids,Preschool Christmas,Gingerbread Man Kindergarten,Gingerbread Man Template,Christmas Projects For Kids,Cheap Christmas Crafts",
         "image",
         "https://i.pinimg.com/originals/94/24/02/942402ca7264750c0cff719badabb10e.jpg",
         "Local save in /data/diy-and-crafts",
         "diy-and-crafts"
        ],
        [
         4925,
         "662c77cd-d99a-45f8-9a36-62feadbb4f7b",
         "20FT x 10FT Blush | Rose Gold Double Layer Polyester Chiffon Backdrop With Rod Pockets",
         "20ftx10ft Blush Double Layer Polyester Chiffon Backdrop With Rod Pockets Write a review Item Number: BKDP300_046 Default Title - $107.99 USD $107.99Sale Price$166.59Retail Price",
         68000,
         "eFavormart | One-Stop Shop for Wedding, Party & Event Supplies!",
         "Pink Photography,Background For Photography,Photography Backdrops,Wedding Photography,Photography Ideas,Burlap Backdrop,Fabric Backdrop,Pink Backdrop,Sequin Backdrop",
         "image",
         "https://i.pinimg.com/originals/55/1c/c6/551cc65e5aa06edf2eb25318c61ecbd4.jpg",
         "Local save in /data/event-planning",
         "event-planning"
        ],
        [
         2288,
         "991f5083-e4f2-4eee-bf85-d76bf84a08e2",
         "97 Farmhouse Christmas Decor Ideas For Your Home - Chaylor & Mads",
         "All the farmhouse Christmas decor ideas to create a gorgeous home for the holidays. Ideas to create a beautiful mantle, stocking you willl love, pillow covers and more!",
         91000,
         "Kristen | Lifestyle, Mom Tips & Teacher Stuff Blog",
         "Christmas Decorations For The Home,Winter Home Decor,Farmhouse Christmas Decor,Rustic Christmas,Christmas Fireplace,Christmas Mantels,Livingroom Christmas Decor,Christmas Home Decorating,Stocking Decorating Ideas",
         "image",
         "https://i.pinimg.com/originals/6f/df/3b/6fdf3bb828b057c76050d5f158694cf6.png",
         "Local save in /data/christmas",
         "christmas"
        ],
        [
         1928,
         "444c659e-146a-4536-88a6-5524f494a4c1",
         "Traditional Red Tartan Plaid Christmas Tree | 2016 Michaels Dream Tree Challenge - bystephanielynn",
         "Traditional Red Tartan Plaid Christmas Tree | 2016 Michaels Dream Tree Challenge #michaelsmakers - Classic red and gold Christmas Tree Decorating Ideas and Inspiration",
         116000,
         "Stephanie Lynn",
         "Red And Gold Christmas Tree,Tartan Christmas,Traditional Christmas Tree,Gold Christmas Decorations,Vintage Halloween Decorations,Beautiful Christmas Trees,Christmas Tree Themes,Plaid Christmas,Christmas Traditions",
         "image",
         "https://i.pinimg.com/originals/c8/ae/49/c8ae4959583799f661570eb7efb7aeaf.jpg",
         "Local save in /data/christmas",
         "christmas"
        ],
        [
         3232,
         "9958caec-20ac-477f-9e13-b16192f187b9",
         "How to Make Adorable Clay Pot Christmas Tree Ornaments",
         "These clay pot Christmas tree ornaments are so cute and fun for kids to make! They are an easy Christmas ornament craft that kids of all ages will be able to create.",
         20000,
         "Projects with Kids",
         "Easy Christmas Ornaments,Christmas Gifts For Teen Girls,Christmas Crafts For Gifts,Christmas Fun,Church Christmas Craft,Ornaments For Teachers,Ideas For Christmas Presents,Christmas Gifts For Teachers,Christmas Tree Decorations For Kids",
         "image",
         "https://i.pinimg.com/originals/fd/5d/51/fd5d5164125a68b18f7b1186d68d2d4d.jpg",
         "Local save in /data/diy-and-crafts",
         "diy-and-crafts"
        ]
       ],
       "datasetInfos": [],
       "dbfsResultPath": null,
       "isJsonSchema": true,
       "metadata": {},
       "overflow": false,
       "plotOptions": {
        "customPlotOptions": {},
        "displayType": "table",
        "pivotAggregation": null,
        "pivotColumns": null,
        "xColumns": null,
        "yColumns": null
       },
       "removedWidgets": [],
       "schema": [
        {
         "metadata": "{}",
         "name": "ind",
         "type": "\"long\""
        },
        {
         "metadata": "{}",
         "name": "unique_id",
         "type": "\"string\""
        },
        {
         "metadata": "{}",
         "name": "title",
         "type": "\"string\""
        },
        {
         "metadata": "{}",
         "name": "description",
         "type": "\"string\""
        },
        {
         "metadata": "{}",
         "name": "follower_count",
         "type": "\"long\""
        },
        {
         "metadata": "{}",
         "name": "poster_name",
         "type": "\"string\""
        },
        {
         "metadata": "{}",
         "name": "tag_list",
         "type": "\"string\""
        },
        {
         "metadata": "{}",
         "name": "is_image_or_video",
         "type": "\"string\""
        },
        {
         "metadata": "{}",
         "name": "image_src",
         "type": "\"string\""
        },
        {
         "metadata": "{}",
         "name": "save_location",
         "type": "\"string\""
        },
        {
         "metadata": "{}",
         "name": "category",
         "type": "\"string\""
        }
       ],
       "type": "table"
      }
     },
     "output_type": "display_data"
    },
    {
     "data": {
      "text/html": [
       "<style scoped>\n",
       "  .table-result-container {\n",
       "    max-height: 300px;\n",
       "    overflow: auto;\n",
       "  }\n",
       "  table, th, td {\n",
       "    border: 1px solid black;\n",
       "    border-collapse: collapse;\n",
       "  }\n",
       "  th, td {\n",
       "    padding: 5px;\n",
       "  }\n",
       "  th {\n",
       "    text-align: left;\n",
       "  }\n",
       "</style><div class='table-result-container'><table class='table-result'><thead style='background-color: white'><tr><th>ind</th><th>country</th><th>coordinates</th><th>timestamp</th></tr></thead><tbody><tr><td>9455</td><td>British Indian Ocean Territory (Chagos Archipelago)</td><td>List(-82.9272, -150.346)</td><td>2022-03-15T01:46:32.000+0000</td></tr><tr><td>6814</td><td>British Indian Ocean Territory (Chagos Archipelago)</td><td>List(-86.5675, -149.565)</td><td>2022-09-02T11:34:28.000+0000</td></tr><tr><td>5111</td><td>British Indian Ocean Territory (Chagos Archipelago)</td><td>List(-83.7472, 8.65953)</td><td>2021-04-01T00:56:57.000+0000</td></tr><tr><td>2989</td><td>British Indian Ocean Territory (Chagos Archipelago)</td><td>List(-87.013, 133.062)</td><td>2020-01-09T19:18:54.000+0000</td></tr><tr><td>10073</td><td>Antarctica (the territory South of 60 deg S)</td><td>List(-32.8885, -170.295)</td><td>2021-06-29T19:56:04.000+0000</td></tr></tbody></table></div>"
      ]
     },
     "metadata": {
      "application/vnd.databricks.v1+output": {
       "addedWidgets": {},
       "aggData": [],
       "aggError": "",
       "aggOverflow": false,
       "aggSchema": [],
       "aggSeriesLimitReached": false,
       "aggType": "",
       "arguments": {},
       "columnCustomDisplayInfos": {},
       "data": [
        [
         9455,
         "British Indian Ocean Territory (Chagos Archipelago)",
         [
          -82.9272,
          -150.346
         ],
         "2022-03-15T01:46:32.000+0000"
        ],
        [
         6814,
         "British Indian Ocean Territory (Chagos Archipelago)",
         [
          -86.5675,
          -149.565
         ],
         "2022-09-02T11:34:28.000+0000"
        ],
        [
         5111,
         "British Indian Ocean Territory (Chagos Archipelago)",
         [
          -83.7472,
          8.65953
         ],
         "2021-04-01T00:56:57.000+0000"
        ],
        [
         2989,
         "British Indian Ocean Territory (Chagos Archipelago)",
         [
          -87.013,
          133.062
         ],
         "2020-01-09T19:18:54.000+0000"
        ],
        [
         10073,
         "Antarctica (the territory South of 60 deg S)",
         [
          -32.8885,
          -170.295
         ],
         "2021-06-29T19:56:04.000+0000"
        ]
       ],
       "datasetInfos": [],
       "dbfsResultPath": null,
       "isJsonSchema": true,
       "metadata": {},
       "overflow": false,
       "plotOptions": {
        "customPlotOptions": {},
        "displayType": "table",
        "pivotAggregation": null,
        "pivotColumns": null,
        "xColumns": null,
        "yColumns": null
       },
       "removedWidgets": [],
       "schema": [
        {
         "metadata": "{}",
         "name": "ind",
         "type": "\"long\""
        },
        {
         "metadata": "{}",
         "name": "country",
         "type": "\"string\""
        },
        {
         "metadata": "{}",
         "name": "coordinates",
         "type": "{\"type\":\"array\",\"elementType\":\"double\",\"containsNull\":true}"
        },
        {
         "metadata": "{}",
         "name": "timestamp",
         "type": "\"timestamp\""
        }
       ],
       "type": "table"
      }
     },
     "output_type": "display_data"
    },
    {
     "data": {
      "text/html": [
       "<style scoped>\n",
       "  .table-result-container {\n",
       "    max-height: 300px;\n",
       "    overflow: auto;\n",
       "  }\n",
       "  table, th, td {\n",
       "    border: 1px solid black;\n",
       "    border-collapse: collapse;\n",
       "  }\n",
       "  th, td {\n",
       "    padding: 5px;\n",
       "  }\n",
       "  th {\n",
       "    text-align: left;\n",
       "  }\n",
       "</style><div class='table-result-container'><table class='table-result'><thead style='background-color: white'><tr><th>ind</th><th>user_name</th><th>age</th><th>date_joined</th></tr></thead><tbody><tr><td>6353</td><td>Christopher Hernandez</td><td>42</td><td>2017-02-18T00:31:22.000+0000</td></tr><tr><td>2015</td><td>Christopher Bradshaw</td><td>27</td><td>2016-03-08T13:38:37.000+0000</td></tr><tr><td>10673</td><td>Alexander Cervantes</td><td>59</td><td>2017-05-12T21:22:17.000+0000</td></tr><tr><td>1857</td><td>Christopher Hamilton</td><td>48</td><td>2016-02-27T16:57:44.000+0000</td></tr><tr><td>10020</td><td>Christopher Hawkins</td><td>45</td><td>2016-09-15T06:02:53.000+0000</td></tr></tbody></table></div>"
      ]
     },
     "metadata": {
      "application/vnd.databricks.v1+output": {
       "addedWidgets": {},
       "aggData": [],
       "aggError": "",
       "aggOverflow": false,
       "aggSchema": [],
       "aggSeriesLimitReached": false,
       "aggType": "",
       "arguments": {},
       "columnCustomDisplayInfos": {},
       "data": [
        [
         6353,
         "Christopher Hernandez",
         42,
         "2017-02-18T00:31:22.000+0000"
        ],
        [
         2015,
         "Christopher Bradshaw",
         27,
         "2016-03-08T13:38:37.000+0000"
        ],
        [
         10673,
         "Alexander Cervantes",
         59,
         "2017-05-12T21:22:17.000+0000"
        ],
        [
         1857,
         "Christopher Hamilton",
         48,
         "2016-02-27T16:57:44.000+0000"
        ],
        [
         10020,
         "Christopher Hawkins",
         45,
         "2016-09-15T06:02:53.000+0000"
        ]
       ],
       "datasetInfos": [],
       "dbfsResultPath": null,
       "isJsonSchema": true,
       "metadata": {},
       "overflow": false,
       "plotOptions": {
        "customPlotOptions": {},
        "displayType": "table",
        "pivotAggregation": null,
        "pivotColumns": null,
        "xColumns": null,
        "yColumns": null
       },
       "removedWidgets": [],
       "schema": [
        {
         "metadata": "{}",
         "name": "ind",
         "type": "\"long\""
        },
        {
         "metadata": "{}",
         "name": "user_name",
         "type": "\"string\""
        },
        {
         "metadata": "{}",
         "name": "age",
         "type": "\"long\""
        },
        {
         "metadata": "{}",
         "name": "date_joined",
         "type": "\"timestamp\""
        }
       ],
       "type": "table"
      }
     },
     "output_type": "display_data"
    }
   ],
   "source": [
    "display(df_pin.head(5))\n",
    "display(df_geo.head(5))\n",
    "display(df_user.head(5))"
   ]
  },
  {
   "cell_type": "markdown",
   "metadata": {
    "application/vnd.databricks.v1+cell": {
     "cellMetadata": {},
     "inputWidgets": {},
     "nuid": "0a58d8a0-d809-48cd-a37c-7a67c67c350e",
     "showTitle": false,
     "title": ""
    }
   },
   "source": [
    "#### Create temporary views to run queries on"
   ]
  },
  {
   "cell_type": "code",
   "execution_count": null,
   "metadata": {
    "application/vnd.databricks.v1+cell": {
     "cellMetadata": {
      "byteLimit": 2048000,
      "rowLimit": 10000
     },
     "inputWidgets": {},
     "nuid": "8acaba7a-7ad2-427f-8fa0-17db462e4d1f",
     "showTitle": false,
     "title": ""
    }
   },
   "outputs": [
    {
     "data": {
      "text/html": [
       "<style scoped>\n",
       "  .ansiout {\n",
       "    display: block;\n",
       "    unicode-bidi: embed;\n",
       "    white-space: pre-wrap;\n",
       "    word-wrap: break-word;\n",
       "    word-break: break-all;\n",
       "    font-family: \"Menlo\", \"Monaco\", \"Consolas\", \"Ubuntu Mono\", \"Source Code Pro\", monospace;\n",
       "    font-size: 13px;\n",
       "    color: #555;\n",
       "    margin-left: 4px;\n",
       "    line-height: 19px;\n",
       "  }\n",
       "</style>\n",
       "<div class=\"ansiout\"></div>"
      ]
     },
     "metadata": {
      "application/vnd.databricks.v1+output": {
       "addedWidgets": {},
       "arguments": {},
       "data": "<div class=\"ansiout\"></div>",
       "datasetInfos": [],
       "metadata": {},
       "removedWidgets": [],
       "type": "html"
      }
     },
     "output_type": "display_data"
    }
   ],
   "source": [
    "df_pin.createOrReplaceTempView(\"pin\")\n",
    "df_geo.createOrReplaceTempView(\"geo\")\n",
    "df_user.createOrReplaceTempView(\"user\")"
   ]
  },
  {
   "cell_type": "markdown",
   "metadata": {
    "application/vnd.databricks.v1+cell": {
     "cellMetadata": {},
     "inputWidgets": {},
     "nuid": "28c0c721-36c9-41c6-8b99-9d5d467e1b48",
     "showTitle": false,
     "title": ""
    }
   },
   "source": [
    "#### Most popular category in each country"
   ]
  },
  {
   "cell_type": "code",
   "execution_count": null,
   "metadata": {
    "application/vnd.databricks.v1+cell": {
     "cellMetadata": {
      "byteLimit": 2048000,
      "rowLimit": 10000
     },
     "inputWidgets": {},
     "nuid": "1add6b1d-2159-4b82-ba7d-d16d770b01ad",
     "showTitle": false,
     "title": ""
    },
    "jupyter": {
     "outputs_hidden": true
    }
   },
   "outputs": [
    {
     "data": {
      "text/html": [
       "<style scoped>\n",
       "  .table-result-container {\n",
       "    max-height: 300px;\n",
       "    overflow: auto;\n",
       "  }\n",
       "  table, th, td {\n",
       "    border: 1px solid black;\n",
       "    border-collapse: collapse;\n",
       "  }\n",
       "  th, td {\n",
       "    padding: 5px;\n",
       "  }\n",
       "  th {\n",
       "    text-align: left;\n",
       "  }\n",
       "</style><div class='table-result-container'><table class='table-result'><thead style='background-color: white'><tr><th>country</th><th>category</th><th>category_count</th></tr></thead><tbody><tr><td>Afghanistan</td><td>education</td><td>6</td></tr><tr><td>Albania</td><td>education</td><td>12</td></tr><tr><td>Algeria</td><td>quotes</td><td>18</td></tr><tr><td>American Samoa</td><td>art</td><td>9</td></tr><tr><td>Andorra</td><td>tattoos</td><td>7</td></tr><tr><td>Angola</td><td>diy-and-crafts</td><td>3</td></tr><tr><td>Anguilla</td><td>diy-and-crafts</td><td>7</td></tr><tr><td>Antarctica (the territory South of 60 deg S)</td><td>tattoos</td><td>7</td></tr><tr><td>Antigua and Barbuda</td><td>christmas</td><td>5</td></tr><tr><td>Argentina</td><td>tattoos</td><td>11</td></tr><tr><td>Armenia</td><td>art</td><td>4</td></tr><tr><td>Aruba</td><td>education</td><td>6</td></tr><tr><td>Aruba</td><td>tattoos</td><td>6</td></tr><tr><td>Australia</td><td>christmas</td><td>2</td></tr><tr><td>Australia</td><td>travel</td><td>2</td></tr><tr><td>Austria</td><td>home-decor</td><td>3</td></tr><tr><td>Azerbaijan</td><td>finance</td><td>7</td></tr><tr><td>Bahamas</td><td>art</td><td>11</td></tr><tr><td>Bahrain</td><td>travel</td><td>4</td></tr><tr><td>Bangladesh</td><td>christmas</td><td>8</td></tr><tr><td>Barbados</td><td>travel</td><td>4</td></tr><tr><td>Belarus</td><td>home-decor</td><td>1</td></tr><tr><td>Belarus</td><td>travel</td><td>1</td></tr><tr><td>Belarus</td><td>art</td><td>1</td></tr><tr><td>Belarus</td><td>event-planning</td><td>1</td></tr><tr><td>Belgium</td><td>diy-and-crafts</td><td>4</td></tr><tr><td>Belize</td><td>diy-and-crafts</td><td>2</td></tr><tr><td>Benin</td><td>quotes</td><td>1</td></tr><tr><td>Benin</td><td>diy-and-crafts</td><td>1</td></tr><tr><td>Benin</td><td>education</td><td>1</td></tr><tr><td>Benin</td><td>finance</td><td>1</td></tr><tr><td>Benin</td><td>beauty</td><td>1</td></tr><tr><td>Benin</td><td>art</td><td>1</td></tr><tr><td>Bermuda</td><td>christmas</td><td>5</td></tr><tr><td>Bhutan</td><td>finance</td><td>2</td></tr><tr><td>Bhutan</td><td>diy-and-crafts</td><td>2</td></tr><tr><td>Bolivia</td><td>home-decor</td><td>4</td></tr><tr><td>Bolivia</td><td>diy-and-crafts</td><td>4</td></tr><tr><td>Bosnia and Herzegovina</td><td>education</td><td>4</td></tr><tr><td>Botswana</td><td>beauty</td><td>1</td></tr><tr><td>Botswana</td><td>christmas</td><td>1</td></tr><tr><td>Bouvet Island (Bouvetoya)</td><td>tattoos</td><td>2</td></tr><tr><td>Brazil</td><td>christmas</td><td>1</td></tr><tr><td>British Indian Ocean Territory (Chagos Archipelago)</td><td>tattoos</td><td>1</td></tr><tr><td>British Indian Ocean Territory (Chagos Archipelago)</td><td>finance</td><td>1</td></tr><tr><td>British Virgin Islands</td><td>christmas</td><td>5</td></tr><tr><td>Bulgaria</td><td>christmas</td><td>6</td></tr><tr><td>Burkina Faso</td><td>quotes</td><td>2</td></tr><tr><td>Burundi</td><td>christmas</td><td>1</td></tr><tr><td>Burundi</td><td>diy-and-crafts</td><td>1</td></tr><tr><td>Burundi</td><td>education</td><td>1</td></tr><tr><td>Cambodia</td><td>vehicles</td><td>9</td></tr><tr><td>Cameroon</td><td>diy-and-crafts</td><td>2</td></tr><tr><td>Cameroon</td><td>christmas</td><td>2</td></tr><tr><td>Canada</td><td>christmas</td><td>1</td></tr><tr><td>Canada</td><td>art</td><td>1</td></tr><tr><td>Cape Verde</td><td>education</td><td>4</td></tr><tr><td>Cayman Islands</td><td>art</td><td>1</td></tr><tr><td>Cayman Islands</td><td>travel</td><td>1</td></tr><tr><td>Central African Republic</td><td>christmas</td><td>1</td></tr><tr><td>Central African Republic</td><td>art</td><td>1</td></tr><tr><td>Central African Republic</td><td>finance</td><td>1</td></tr><tr><td>Chad</td><td>diy-and-crafts</td><td>2</td></tr><tr><td>Chad</td><td>mens-fashion</td><td>2</td></tr><tr><td>Chile</td><td>mens-fashion</td><td>2</td></tr><tr><td>China</td><td>finance</td><td>1</td></tr><tr><td>China</td><td>quotes</td><td>1</td></tr><tr><td>Christmas Island</td><td>travel</td><td>5</td></tr><tr><td>Cocos (Keeling) Islands</td><td>travel</td><td>2</td></tr><tr><td>Colombia</td><td>finance</td><td>1</td></tr><tr><td>Colombia</td><td>home-decor</td><td>1</td></tr><tr><td>Comoros</td><td>quotes</td><td>2</td></tr><tr><td>Congo</td><td>art</td><td>5</td></tr><tr><td>Cook Islands</td><td>vehicles</td><td>1</td></tr><tr><td>Costa Rica</td><td>christmas</td><td>5</td></tr><tr><td>Cote d'Ivoire</td><td>travel</td><td>4</td></tr><tr><td>Croatia</td><td>finance</td><td>3</td></tr><tr><td>Cuba</td><td>beauty</td><td>1</td></tr><tr><td>Cuba</td><td>diy-and-crafts</td><td>1</td></tr><tr><td>Cuba</td><td>home-decor</td><td>1</td></tr><tr><td>Cuba</td><td>mens-fashion</td><td>1</td></tr><tr><td>Cuba</td><td>tattoos</td><td>1</td></tr><tr><td>Cyprus</td><td>home-decor</td><td>2</td></tr><tr><td>Czech Republic</td><td>finance</td><td>1</td></tr><tr><td>Djibouti</td><td>diy-and-crafts</td><td>2</td></tr><tr><td>Djibouti</td><td>mens-fashion</td><td>2</td></tr><tr><td>Dominica</td><td>event-planning</td><td>2</td></tr><tr><td>Dominican Republic</td><td>home-decor</td><td>9</td></tr><tr><td>Ecuador</td><td>home-decor</td><td>1</td></tr><tr><td>Ecuador</td><td>diy-and-crafts</td><td>1</td></tr><tr><td>Ecuador</td><td>christmas</td><td>1</td></tr><tr><td>Egypt</td><td>mens-fashion</td><td>4</td></tr><tr><td>Egypt</td><td>finance</td><td>4</td></tr><tr><td>El Salvador</td><td>event-planning</td><td>1</td></tr><tr><td>El Salvador</td><td>quotes</td><td>1</td></tr><tr><td>El Salvador</td><td>travel</td><td>1</td></tr><tr><td>El Salvador</td><td>beauty</td><td>1</td></tr><tr><td>Estonia</td><td>diy-and-crafts</td><td>1</td></tr><tr><td>Ethiopia</td><td>finance</td><td>1</td></tr><tr><td>Ethiopia</td><td>travel</td><td>1</td></tr><tr><td>Falkland Islands (Malvinas)</td><td>vehicles</td><td>1</td></tr><tr><td>Faroe Islands</td><td>finance</td><td>1</td></tr><tr><td>Fiji</td><td>vehicles</td><td>1</td></tr><tr><td>Fiji</td><td>education</td><td>1</td></tr><tr><td>Fiji</td><td>mens-fashion</td><td>1</td></tr><tr><td>Finland</td><td>finance</td><td>5</td></tr><tr><td>France</td><td>art</td><td>1</td></tr><tr><td>France</td><td>beauty</td><td>1</td></tr><tr><td>France</td><td>diy-and-crafts</td><td>1</td></tr><tr><td>French Guiana</td><td>art</td><td>1</td></tr><tr><td>French Guiana</td><td>education</td><td>1</td></tr><tr><td>French Polynesia</td><td>event-planning</td><td>1</td></tr><tr><td>French Polynesia</td><td>art</td><td>1</td></tr><tr><td>Gabon</td><td>home-decor</td><td>1</td></tr><tr><td>Gabon</td><td>education</td><td>1</td></tr><tr><td>Georgia</td><td>education</td><td>4</td></tr><tr><td>Germany</td><td>education</td><td>1</td></tr><tr><td>Gibraltar</td><td>travel</td><td>2</td></tr><tr><td>Greece</td><td>mens-fashion</td><td>5</td></tr><tr><td>Greenland</td><td>christmas</td><td>1</td></tr><tr><td>Greenland</td><td>travel</td><td>1</td></tr><tr><td>Grenada</td><td>travel</td><td>1</td></tr><tr><td>Grenada</td><td>finance</td><td>1</td></tr><tr><td>Grenada</td><td>quotes</td><td>1</td></tr><tr><td>Guam</td><td>mens-fashion</td><td>1</td></tr><tr><td>Guatemala</td><td>art</td><td>1</td></tr><tr><td>Guatemala</td><td>finance</td><td>1</td></tr><tr><td>Guatemala</td><td>home-decor</td><td>1</td></tr><tr><td>Guatemala</td><td>christmas</td><td>1</td></tr><tr><td>Guatemala</td><td>diy-and-crafts</td><td>1</td></tr><tr><td>Guernsey</td><td>home-decor</td><td>1</td></tr><tr><td>Guernsey</td><td>tattoos</td><td>1</td></tr><tr><td>Guinea</td><td>diy-and-crafts</td><td>1</td></tr><tr><td>Guinea</td><td>vehicles</td><td>1</td></tr><tr><td>Guinea-Bissau</td><td>vehicles</td><td>4</td></tr><tr><td>Haiti</td><td>finance</td><td>1</td></tr><tr><td>Haiti</td><td>christmas</td><td>1</td></tr><tr><td>Haiti</td><td>home-decor</td><td>1</td></tr><tr><td>Heard Island and McDonald Islands</td><td>mens-fashion</td><td>2</td></tr><tr><td>Holy See (Vatican City State)</td><td>mens-fashion</td><td>1</td></tr><tr><td>Honduras</td><td>event-planning</td><td>1</td></tr><tr><td>Hong Kong</td><td>event-planning</td><td>1</td></tr><tr><td>Hungary</td><td>education</td><td>1</td></tr><tr><td>India</td><td>diy-and-crafts</td><td>4</td></tr><tr><td>Indonesia</td><td>finance</td><td>5</td></tr><tr><td>Iran</td><td>art</td><td>1</td></tr><tr><td>Iraq</td><td>tattoos</td><td>1</td></tr><tr><td>Ireland</td><td>mens-fashion</td><td>1</td></tr><tr><td>Isle of Man</td><td>home-decor</td><td>1</td></tr><tr><td>Isle of Man</td><td>education</td><td>1</td></tr><tr><td>Isle of Man</td><td>finance</td><td>1</td></tr><tr><td>Isle of Man</td><td>art</td><td>1</td></tr><tr><td>Israel</td><td>finance</td><td>1</td></tr><tr><td>Italy</td><td>beauty</td><td>1</td></tr><tr><td>Jamaica</td><td>education</td><td>4</td></tr><tr><td>Japan</td><td>art</td><td>2</td></tr><tr><td>Kazakhstan</td><td>beauty</td><td>1</td></tr><tr><td>Kazakhstan</td><td>home-decor</td><td>1</td></tr><tr><td>Kazakhstan</td><td>christmas</td><td>1</td></tr><tr><td>Kenya</td><td>diy-and-crafts</td><td>4</td></tr><tr><td>Kiribati</td><td>finance</td><td>1</td></tr><tr><td>Kiribati</td><td>christmas</td><td>1</td></tr><tr><td>Korea</td><td>travel</td><td>1</td></tr><tr><td>Korea</td><td>beauty</td><td>1</td></tr><tr><td>Korea</td><td>mens-fashion</td><td>1</td></tr><tr><td>Korea</td><td>home-decor</td><td>1</td></tr><tr><td>Kuwait</td><td>quotes</td><td>1</td></tr><tr><td>Kuwait</td><td>beauty</td><td>1</td></tr><tr><td>Kuwait</td><td>diy-and-crafts</td><td>1</td></tr><tr><td>Lao People's Democratic Republic</td><td>quotes</td><td>1</td></tr><tr><td>Lebanon</td><td>quotes</td><td>2</td></tr><tr><td>Lesotho</td><td>tattoos</td><td>1</td></tr><tr><td>Lesotho</td><td>beauty</td><td>1</td></tr><tr><td>Liberia</td><td>christmas</td><td>1</td></tr><tr><td>Libyan Arab Jamahiriya</td><td>beauty</td><td>1</td></tr><tr><td>Liechtenstein</td><td>mens-fashion</td><td>1</td></tr><tr><td>Lithuania</td><td>tattoos</td><td>1</td></tr><tr><td>Luxembourg</td><td>diy-and-crafts</td><td>1</td></tr><tr><td>Macao</td><td>education</td><td>1</td></tr><tr><td>Macao</td><td>mens-fashion</td><td>1</td></tr><tr><td>Macao</td><td>quotes</td><td>1</td></tr><tr><td>Macedonia</td><td>tattoos</td><td>1</td></tr><tr><td>Madagascar</td><td>event-planning</td><td>1</td></tr><tr><td>Malawi</td><td>travel</td><td>1</td></tr><tr><td>Maldives</td><td>event-planning</td><td>2</td></tr><tr><td>Maldives</td><td>finance</td><td>2</td></tr><tr><td>Malta</td><td>christmas</td><td>1</td></tr><tr><td>Malta</td><td>beauty</td><td>1</td></tr><tr><td>Marshall Islands</td><td>home-decor</td><td>1</td></tr><tr><td>Marshall Islands</td><td>vehicles</td><td>1</td></tr><tr><td>Mauritius</td><td>mens-fashion</td><td>1</td></tr><tr><td>Mayotte</td><td>christmas</td><td>4</td></tr><tr><td>Mexico</td><td>vehicles</td><td>2</td></tr><tr><td>Micronesia</td><td>christmas</td><td>1</td></tr><tr><td>Micronesia</td><td>travel</td><td>1</td></tr><tr><td>Moldova</td><td>beauty</td><td>1</td></tr><tr><td>Moldova</td><td>home-decor</td><td>1</td></tr><tr><td>Monaco</td><td>mens-fashion</td><td>1</td></tr><tr><td>Monaco</td><td>education</td><td>1</td></tr><tr><td>Monaco</td><td>art</td><td>1</td></tr><tr><td>Mongolia</td><td>mens-fashion</td><td>1</td></tr><tr><td>Mongolia</td><td>vehicles</td><td>1</td></tr><tr><td>Montserrat</td><td>education</td><td>1</td></tr><tr><td>Montserrat</td><td>art</td><td>1</td></tr><tr><td>Morocco</td><td>quotes</td><td>9</td></tr><tr><td>Mozambique</td><td>art</td><td>1</td></tr><tr><td>Myanmar</td><td>christmas</td><td>1</td></tr><tr><td>Namibia</td><td>event-planning</td><td>1</td></tr><tr><td>Nepal</td><td>finance</td><td>1</td></tr><tr><td>Netherlands</td><td>christmas</td><td>1</td></tr><tr><td>Netherlands</td><td>home-decor</td><td>1</td></tr><tr><td>Netherlands</td><td>art</td><td>1</td></tr><tr><td>Netherlands Antilles</td><td>beauty</td><td>1</td></tr><tr><td>Netherlands Antilles</td><td>art</td><td>1</td></tr><tr><td>New Caledonia</td><td>art</td><td>1</td></tr><tr><td>New Caledonia</td><td>travel</td><td>1</td></tr><tr><td>New Zealand</td><td>quotes</td><td>1</td></tr><tr><td>Nicaragua</td><td>home-decor</td><td>2</td></tr><tr><td>Niger</td><td>art</td><td>1</td></tr><tr><td>Niue</td><td>quotes</td><td>1</td></tr><tr><td>Niue</td><td>tattoos</td><td>1</td></tr><tr><td>Niue</td><td>diy-and-crafts</td><td>1</td></tr><tr><td>Norfolk Island</td><td>beauty</td><td>4</td></tr><tr><td>Norway</td><td>travel</td><td>1</td></tr><tr><td>Norway</td><td>art</td><td>1</td></tr><tr><td>Panama</td><td>travel</td><td>4</td></tr><tr><td>Papua New Guinea</td><td>quotes</td><td>5</td></tr><tr><td>Paraguay</td><td>quotes</td><td>1</td></tr><tr><td>Paraguay</td><td>event-planning</td><td>1</td></tr><tr><td>Peru</td><td>tattoos</td><td>1</td></tr><tr><td>Philippines</td><td>vehicles</td><td>1</td></tr><tr><td>Pitcairn Islands</td><td>diy-and-crafts</td><td>2</td></tr><tr><td>Poland</td><td>beauty</td><td>1</td></tr><tr><td>Poland</td><td>event-planning</td><td>1</td></tr><tr><td>Portugal</td><td>event-planning</td><td>1</td></tr><tr><td>Puerto Rico</td><td>christmas</td><td>1</td></tr><tr><td>Qatar</td><td>beauty</td><td>1</td></tr><tr><td>Romania</td><td>quotes</td><td>1</td></tr><tr><td>Russian Federation</td><td>home-decor</td><td>1</td></tr><tr><td>Rwanda</td><td>travel</td><td>4</td></tr><tr><td>Saint Barthelemy</td><td>mens-fashion</td><td>1</td></tr><tr><td>Saint Barthelemy</td><td>education</td><td>1</td></tr><tr><td>Saint Barthelemy</td><td>beauty</td><td>1</td></tr><tr><td>Saint Kitts and Nevis</td><td>event-planning</td><td>1</td></tr><tr><td>Saint Kitts and Nevis</td><td>vehicles</td><td>1</td></tr><tr><td>Saint Kitts and Nevis</td><td>beauty</td><td>1</td></tr><tr><td>Saint Martin</td><td>christmas</td><td>1</td></tr><tr><td>Saint Pierre and Miquelon</td><td>mens-fashion</td><td>1</td></tr><tr><td>Samoa</td><td>diy-and-crafts</td><td>1</td></tr><tr><td>San Marino</td><td>mens-fashion</td><td>1</td></tr><tr><td>Saudi Arabia</td><td>beauty</td><td>1</td></tr><tr><td>Saudi Arabia</td><td>finance</td><td>1</td></tr><tr><td>Saudi Arabia</td><td>travel</td><td>1</td></tr><tr><td>Serbia</td><td>vehicles</td><td>1</td></tr><tr><td>Seychelles</td><td>tattoos</td><td>1</td></tr><tr><td>Singapore</td><td>education</td><td>4</td></tr><tr><td>Slovakia (Slovak Republic)</td><td>vehicles</td><td>4</td></tr><tr><td>Solomon Islands</td><td>vehicles</td><td>2</td></tr><tr><td>Somalia</td><td>travel</td><td>1</td></tr><tr><td>Somalia</td><td>quotes</td><td>1</td></tr><tr><td>Somalia</td><td>event-planning</td><td>1</td></tr><tr><td>Somalia</td><td>vehicles</td><td>1</td></tr><tr><td>South Africa</td><td>vehicles</td><td>1</td></tr><tr><td>South Georgia and the South Sandwich Islands</td><td>vehicles</td><td>1</td></tr><tr><td>Sri Lanka</td><td>mens-fashion</td><td>1</td></tr><tr><td>Sri Lanka</td><td>finance</td><td>1</td></tr><tr><td>Sudan</td><td>art</td><td>1</td></tr><tr><td>Sudan</td><td>education</td><td>1</td></tr><tr><td>Svalbard & Jan Mayen Islands</td><td>travel</td><td>4</td></tr><tr><td>Sweden</td><td>event-planning</td><td>1</td></tr><tr><td>Sweden</td><td>diy-and-crafts</td><td>1</td></tr><tr><td>Taiwan</td><td>christmas</td><td>1</td></tr><tr><td>Taiwan</td><td>mens-fashion</td><td>1</td></tr><tr><td>Tajikistan</td><td>beauty</td><td>1</td></tr><tr><td>Tajikistan</td><td>travel</td><td>1</td></tr><tr><td>Tanzania</td><td>travel</td><td>1</td></tr><tr><td>Thailand</td><td>home-decor</td><td>1</td></tr><tr><td>Thailand</td><td>event-planning</td><td>1</td></tr><tr><td>Togo</td><td>mens-fashion</td><td>1</td></tr><tr><td>Tokelau</td><td>vehicles</td><td>1</td></tr><tr><td>Tonga</td><td>beauty</td><td>1</td></tr><tr><td>Trinidad and Tobago</td><td>vehicles</td><td>1</td></tr><tr><td>Trinidad and Tobago</td><td>christmas</td><td>1</td></tr><tr><td>Tunisia</td><td>diy-and-crafts</td><td>1</td></tr><tr><td>Turkey</td><td>event-planning</td><td>1</td></tr><tr><td>Turkey</td><td>beauty</td><td>1</td></tr><tr><td>Tuvalu</td><td>tattoos</td><td>1</td></tr><tr><td>Uganda</td><td>christmas</td><td>1</td></tr><tr><td>Uganda</td><td>mens-fashion</td><td>1</td></tr><tr><td>Uganda</td><td>event-planning</td><td>1</td></tr><tr><td>United Kingdom</td><td>quotes</td><td>1</td></tr><tr><td>United States Virgin Islands</td><td>quotes</td><td>2</td></tr><tr><td>United States of America</td><td>quotes</td><td>1</td></tr><tr><td>Venezuela</td><td>quotes</td><td>4</td></tr><tr><td>Vietnam</td><td>quotes</td><td>1</td></tr><tr><td>Wallis and Futuna</td><td>home-decor</td><td>4</td></tr><tr><td>Zambia</td><td>mens-fashion</td><td>1</td></tr></tbody></table></div>"
      ]
     },
     "metadata": {
      "application/vnd.databricks.v1+output": {
       "addedWidgets": {},
       "aggData": [],
       "aggError": "",
       "aggOverflow": false,
       "aggSchema": [],
       "aggSeriesLimitReached": false,
       "aggType": "",
       "arguments": {},
       "columnCustomDisplayInfos": {},
       "data": [
        [
         "Afghanistan",
         "education",
         6
        ],
        [
         "Albania",
         "education",
         12
        ],
        [
         "Algeria",
         "quotes",
         18
        ],
        [
         "American Samoa",
         "art",
         9
        ],
        [
         "Andorra",
         "tattoos",
         7
        ],
        [
         "Angola",
         "diy-and-crafts",
         3
        ],
        [
         "Anguilla",
         "diy-and-crafts",
         7
        ],
        [
         "Antarctica (the territory South of 60 deg S)",
         "tattoos",
         7
        ],
        [
         "Antigua and Barbuda",
         "christmas",
         5
        ],
        [
         "Argentina",
         "tattoos",
         11
        ],
        [
         "Armenia",
         "art",
         4
        ],
        [
         "Aruba",
         "education",
         6
        ],
        [
         "Aruba",
         "tattoos",
         6
        ],
        [
         "Australia",
         "christmas",
         2
        ],
        [
         "Australia",
         "travel",
         2
        ],
        [
         "Austria",
         "home-decor",
         3
        ],
        [
         "Azerbaijan",
         "finance",
         7
        ],
        [
         "Bahamas",
         "art",
         11
        ],
        [
         "Bahrain",
         "travel",
         4
        ],
        [
         "Bangladesh",
         "christmas",
         8
        ],
        [
         "Barbados",
         "travel",
         4
        ],
        [
         "Belarus",
         "home-decor",
         1
        ],
        [
         "Belarus",
         "travel",
         1
        ],
        [
         "Belarus",
         "art",
         1
        ],
        [
         "Belarus",
         "event-planning",
         1
        ],
        [
         "Belgium",
         "diy-and-crafts",
         4
        ],
        [
         "Belize",
         "diy-and-crafts",
         2
        ],
        [
         "Benin",
         "quotes",
         1
        ],
        [
         "Benin",
         "diy-and-crafts",
         1
        ],
        [
         "Benin",
         "education",
         1
        ],
        [
         "Benin",
         "finance",
         1
        ],
        [
         "Benin",
         "beauty",
         1
        ],
        [
         "Benin",
         "art",
         1
        ],
        [
         "Bermuda",
         "christmas",
         5
        ],
        [
         "Bhutan",
         "finance",
         2
        ],
        [
         "Bhutan",
         "diy-and-crafts",
         2
        ],
        [
         "Bolivia",
         "home-decor",
         4
        ],
        [
         "Bolivia",
         "diy-and-crafts",
         4
        ],
        [
         "Bosnia and Herzegovina",
         "education",
         4
        ],
        [
         "Botswana",
         "beauty",
         1
        ],
        [
         "Botswana",
         "christmas",
         1
        ],
        [
         "Bouvet Island (Bouvetoya)",
         "tattoos",
         2
        ],
        [
         "Brazil",
         "christmas",
         1
        ],
        [
         "British Indian Ocean Territory (Chagos Archipelago)",
         "tattoos",
         1
        ],
        [
         "British Indian Ocean Territory (Chagos Archipelago)",
         "finance",
         1
        ],
        [
         "British Virgin Islands",
         "christmas",
         5
        ],
        [
         "Bulgaria",
         "christmas",
         6
        ],
        [
         "Burkina Faso",
         "quotes",
         2
        ],
        [
         "Burundi",
         "christmas",
         1
        ],
        [
         "Burundi",
         "diy-and-crafts",
         1
        ],
        [
         "Burundi",
         "education",
         1
        ],
        [
         "Cambodia",
         "vehicles",
         9
        ],
        [
         "Cameroon",
         "diy-and-crafts",
         2
        ],
        [
         "Cameroon",
         "christmas",
         2
        ],
        [
         "Canada",
         "christmas",
         1
        ],
        [
         "Canada",
         "art",
         1
        ],
        [
         "Cape Verde",
         "education",
         4
        ],
        [
         "Cayman Islands",
         "art",
         1
        ],
        [
         "Cayman Islands",
         "travel",
         1
        ],
        [
         "Central African Republic",
         "christmas",
         1
        ],
        [
         "Central African Republic",
         "art",
         1
        ],
        [
         "Central African Republic",
         "finance",
         1
        ],
        [
         "Chad",
         "diy-and-crafts",
         2
        ],
        [
         "Chad",
         "mens-fashion",
         2
        ],
        [
         "Chile",
         "mens-fashion",
         2
        ],
        [
         "China",
         "finance",
         1
        ],
        [
         "China",
         "quotes",
         1
        ],
        [
         "Christmas Island",
         "travel",
         5
        ],
        [
         "Cocos (Keeling) Islands",
         "travel",
         2
        ],
        [
         "Colombia",
         "finance",
         1
        ],
        [
         "Colombia",
         "home-decor",
         1
        ],
        [
         "Comoros",
         "quotes",
         2
        ],
        [
         "Congo",
         "art",
         5
        ],
        [
         "Cook Islands",
         "vehicles",
         1
        ],
        [
         "Costa Rica",
         "christmas",
         5
        ],
        [
         "Cote d'Ivoire",
         "travel",
         4
        ],
        [
         "Croatia",
         "finance",
         3
        ],
        [
         "Cuba",
         "beauty",
         1
        ],
        [
         "Cuba",
         "diy-and-crafts",
         1
        ],
        [
         "Cuba",
         "home-decor",
         1
        ],
        [
         "Cuba",
         "mens-fashion",
         1
        ],
        [
         "Cuba",
         "tattoos",
         1
        ],
        [
         "Cyprus",
         "home-decor",
         2
        ],
        [
         "Czech Republic",
         "finance",
         1
        ],
        [
         "Djibouti",
         "diy-and-crafts",
         2
        ],
        [
         "Djibouti",
         "mens-fashion",
         2
        ],
        [
         "Dominica",
         "event-planning",
         2
        ],
        [
         "Dominican Republic",
         "home-decor",
         9
        ],
        [
         "Ecuador",
         "home-decor",
         1
        ],
        [
         "Ecuador",
         "diy-and-crafts",
         1
        ],
        [
         "Ecuador",
         "christmas",
         1
        ],
        [
         "Egypt",
         "mens-fashion",
         4
        ],
        [
         "Egypt",
         "finance",
         4
        ],
        [
         "El Salvador",
         "event-planning",
         1
        ],
        [
         "El Salvador",
         "quotes",
         1
        ],
        [
         "El Salvador",
         "travel",
         1
        ],
        [
         "El Salvador",
         "beauty",
         1
        ],
        [
         "Estonia",
         "diy-and-crafts",
         1
        ],
        [
         "Ethiopia",
         "finance",
         1
        ],
        [
         "Ethiopia",
         "travel",
         1
        ],
        [
         "Falkland Islands (Malvinas)",
         "vehicles",
         1
        ],
        [
         "Faroe Islands",
         "finance",
         1
        ],
        [
         "Fiji",
         "vehicles",
         1
        ],
        [
         "Fiji",
         "education",
         1
        ],
        [
         "Fiji",
         "mens-fashion",
         1
        ],
        [
         "Finland",
         "finance",
         5
        ],
        [
         "France",
         "art",
         1
        ],
        [
         "France",
         "beauty",
         1
        ],
        [
         "France",
         "diy-and-crafts",
         1
        ],
        [
         "French Guiana",
         "art",
         1
        ],
        [
         "French Guiana",
         "education",
         1
        ],
        [
         "French Polynesia",
         "event-planning",
         1
        ],
        [
         "French Polynesia",
         "art",
         1
        ],
        [
         "Gabon",
         "home-decor",
         1
        ],
        [
         "Gabon",
         "education",
         1
        ],
        [
         "Georgia",
         "education",
         4
        ],
        [
         "Germany",
         "education",
         1
        ],
        [
         "Gibraltar",
         "travel",
         2
        ],
        [
         "Greece",
         "mens-fashion",
         5
        ],
        [
         "Greenland",
         "christmas",
         1
        ],
        [
         "Greenland",
         "travel",
         1
        ],
        [
         "Grenada",
         "travel",
         1
        ],
        [
         "Grenada",
         "finance",
         1
        ],
        [
         "Grenada",
         "quotes",
         1
        ],
        [
         "Guam",
         "mens-fashion",
         1
        ],
        [
         "Guatemala",
         "art",
         1
        ],
        [
         "Guatemala",
         "finance",
         1
        ],
        [
         "Guatemala",
         "home-decor",
         1
        ],
        [
         "Guatemala",
         "christmas",
         1
        ],
        [
         "Guatemala",
         "diy-and-crafts",
         1
        ],
        [
         "Guernsey",
         "home-decor",
         1
        ],
        [
         "Guernsey",
         "tattoos",
         1
        ],
        [
         "Guinea",
         "diy-and-crafts",
         1
        ],
        [
         "Guinea",
         "vehicles",
         1
        ],
        [
         "Guinea-Bissau",
         "vehicles",
         4
        ],
        [
         "Haiti",
         "finance",
         1
        ],
        [
         "Haiti",
         "christmas",
         1
        ],
        [
         "Haiti",
         "home-decor",
         1
        ],
        [
         "Heard Island and McDonald Islands",
         "mens-fashion",
         2
        ],
        [
         "Holy See (Vatican City State)",
         "mens-fashion",
         1
        ],
        [
         "Honduras",
         "event-planning",
         1
        ],
        [
         "Hong Kong",
         "event-planning",
         1
        ],
        [
         "Hungary",
         "education",
         1
        ],
        [
         "India",
         "diy-and-crafts",
         4
        ],
        [
         "Indonesia",
         "finance",
         5
        ],
        [
         "Iran",
         "art",
         1
        ],
        [
         "Iraq",
         "tattoos",
         1
        ],
        [
         "Ireland",
         "mens-fashion",
         1
        ],
        [
         "Isle of Man",
         "home-decor",
         1
        ],
        [
         "Isle of Man",
         "education",
         1
        ],
        [
         "Isle of Man",
         "finance",
         1
        ],
        [
         "Isle of Man",
         "art",
         1
        ],
        [
         "Israel",
         "finance",
         1
        ],
        [
         "Italy",
         "beauty",
         1
        ],
        [
         "Jamaica",
         "education",
         4
        ],
        [
         "Japan",
         "art",
         2
        ],
        [
         "Kazakhstan",
         "beauty",
         1
        ],
        [
         "Kazakhstan",
         "home-decor",
         1
        ],
        [
         "Kazakhstan",
         "christmas",
         1
        ],
        [
         "Kenya",
         "diy-and-crafts",
         4
        ],
        [
         "Kiribati",
         "finance",
         1
        ],
        [
         "Kiribati",
         "christmas",
         1
        ],
        [
         "Korea",
         "travel",
         1
        ],
        [
         "Korea",
         "beauty",
         1
        ],
        [
         "Korea",
         "mens-fashion",
         1
        ],
        [
         "Korea",
         "home-decor",
         1
        ],
        [
         "Kuwait",
         "quotes",
         1
        ],
        [
         "Kuwait",
         "beauty",
         1
        ],
        [
         "Kuwait",
         "diy-and-crafts",
         1
        ],
        [
         "Lao People's Democratic Republic",
         "quotes",
         1
        ],
        [
         "Lebanon",
         "quotes",
         2
        ],
        [
         "Lesotho",
         "tattoos",
         1
        ],
        [
         "Lesotho",
         "beauty",
         1
        ],
        [
         "Liberia",
         "christmas",
         1
        ],
        [
         "Libyan Arab Jamahiriya",
         "beauty",
         1
        ],
        [
         "Liechtenstein",
         "mens-fashion",
         1
        ],
        [
         "Lithuania",
         "tattoos",
         1
        ],
        [
         "Luxembourg",
         "diy-and-crafts",
         1
        ],
        [
         "Macao",
         "education",
         1
        ],
        [
         "Macao",
         "mens-fashion",
         1
        ],
        [
         "Macao",
         "quotes",
         1
        ],
        [
         "Macedonia",
         "tattoos",
         1
        ],
        [
         "Madagascar",
         "event-planning",
         1
        ],
        [
         "Malawi",
         "travel",
         1
        ],
        [
         "Maldives",
         "event-planning",
         2
        ],
        [
         "Maldives",
         "finance",
         2
        ],
        [
         "Malta",
         "christmas",
         1
        ],
        [
         "Malta",
         "beauty",
         1
        ],
        [
         "Marshall Islands",
         "home-decor",
         1
        ],
        [
         "Marshall Islands",
         "vehicles",
         1
        ],
        [
         "Mauritius",
         "mens-fashion",
         1
        ],
        [
         "Mayotte",
         "christmas",
         4
        ],
        [
         "Mexico",
         "vehicles",
         2
        ],
        [
         "Micronesia",
         "christmas",
         1
        ],
        [
         "Micronesia",
         "travel",
         1
        ],
        [
         "Moldova",
         "beauty",
         1
        ],
        [
         "Moldova",
         "home-decor",
         1
        ],
        [
         "Monaco",
         "mens-fashion",
         1
        ],
        [
         "Monaco",
         "education",
         1
        ],
        [
         "Monaco",
         "art",
         1
        ],
        [
         "Mongolia",
         "mens-fashion",
         1
        ],
        [
         "Mongolia",
         "vehicles",
         1
        ],
        [
         "Montserrat",
         "education",
         1
        ],
        [
         "Montserrat",
         "art",
         1
        ],
        [
         "Morocco",
         "quotes",
         9
        ],
        [
         "Mozambique",
         "art",
         1
        ],
        [
         "Myanmar",
         "christmas",
         1
        ],
        [
         "Namibia",
         "event-planning",
         1
        ],
        [
         "Nepal",
         "finance",
         1
        ],
        [
         "Netherlands",
         "christmas",
         1
        ],
        [
         "Netherlands",
         "home-decor",
         1
        ],
        [
         "Netherlands",
         "art",
         1
        ],
        [
         "Netherlands Antilles",
         "beauty",
         1
        ],
        [
         "Netherlands Antilles",
         "art",
         1
        ],
        [
         "New Caledonia",
         "art",
         1
        ],
        [
         "New Caledonia",
         "travel",
         1
        ],
        [
         "New Zealand",
         "quotes",
         1
        ],
        [
         "Nicaragua",
         "home-decor",
         2
        ],
        [
         "Niger",
         "art",
         1
        ],
        [
         "Niue",
         "quotes",
         1
        ],
        [
         "Niue",
         "tattoos",
         1
        ],
        [
         "Niue",
         "diy-and-crafts",
         1
        ],
        [
         "Norfolk Island",
         "beauty",
         4
        ],
        [
         "Norway",
         "travel",
         1
        ],
        [
         "Norway",
         "art",
         1
        ],
        [
         "Panama",
         "travel",
         4
        ],
        [
         "Papua New Guinea",
         "quotes",
         5
        ],
        [
         "Paraguay",
         "quotes",
         1
        ],
        [
         "Paraguay",
         "event-planning",
         1
        ],
        [
         "Peru",
         "tattoos",
         1
        ],
        [
         "Philippines",
         "vehicles",
         1
        ],
        [
         "Pitcairn Islands",
         "diy-and-crafts",
         2
        ],
        [
         "Poland",
         "beauty",
         1
        ],
        [
         "Poland",
         "event-planning",
         1
        ],
        [
         "Portugal",
         "event-planning",
         1
        ],
        [
         "Puerto Rico",
         "christmas",
         1
        ],
        [
         "Qatar",
         "beauty",
         1
        ],
        [
         "Romania",
         "quotes",
         1
        ],
        [
         "Russian Federation",
         "home-decor",
         1
        ],
        [
         "Rwanda",
         "travel",
         4
        ],
        [
         "Saint Barthelemy",
         "mens-fashion",
         1
        ],
        [
         "Saint Barthelemy",
         "education",
         1
        ],
        [
         "Saint Barthelemy",
         "beauty",
         1
        ],
        [
         "Saint Kitts and Nevis",
         "event-planning",
         1
        ],
        [
         "Saint Kitts and Nevis",
         "vehicles",
         1
        ],
        [
         "Saint Kitts and Nevis",
         "beauty",
         1
        ],
        [
         "Saint Martin",
         "christmas",
         1
        ],
        [
         "Saint Pierre and Miquelon",
         "mens-fashion",
         1
        ],
        [
         "Samoa",
         "diy-and-crafts",
         1
        ],
        [
         "San Marino",
         "mens-fashion",
         1
        ],
        [
         "Saudi Arabia",
         "beauty",
         1
        ],
        [
         "Saudi Arabia",
         "finance",
         1
        ],
        [
         "Saudi Arabia",
         "travel",
         1
        ],
        [
         "Serbia",
         "vehicles",
         1
        ],
        [
         "Seychelles",
         "tattoos",
         1
        ],
        [
         "Singapore",
         "education",
         4
        ],
        [
         "Slovakia (Slovak Republic)",
         "vehicles",
         4
        ],
        [
         "Solomon Islands",
         "vehicles",
         2
        ],
        [
         "Somalia",
         "travel",
         1
        ],
        [
         "Somalia",
         "quotes",
         1
        ],
        [
         "Somalia",
         "event-planning",
         1
        ],
        [
         "Somalia",
         "vehicles",
         1
        ],
        [
         "South Africa",
         "vehicles",
         1
        ],
        [
         "South Georgia and the South Sandwich Islands",
         "vehicles",
         1
        ],
        [
         "Sri Lanka",
         "mens-fashion",
         1
        ],
        [
         "Sri Lanka",
         "finance",
         1
        ],
        [
         "Sudan",
         "art",
         1
        ],
        [
         "Sudan",
         "education",
         1
        ],
        [
         "Svalbard & Jan Mayen Islands",
         "travel",
         4
        ],
        [
         "Sweden",
         "event-planning",
         1
        ],
        [
         "Sweden",
         "diy-and-crafts",
         1
        ],
        [
         "Taiwan",
         "christmas",
         1
        ],
        [
         "Taiwan",
         "mens-fashion",
         1
        ],
        [
         "Tajikistan",
         "beauty",
         1
        ],
        [
         "Tajikistan",
         "travel",
         1
        ],
        [
         "Tanzania",
         "travel",
         1
        ],
        [
         "Thailand",
         "home-decor",
         1
        ],
        [
         "Thailand",
         "event-planning",
         1
        ],
        [
         "Togo",
         "mens-fashion",
         1
        ],
        [
         "Tokelau",
         "vehicles",
         1
        ],
        [
         "Tonga",
         "beauty",
         1
        ],
        [
         "Trinidad and Tobago",
         "vehicles",
         1
        ],
        [
         "Trinidad and Tobago",
         "christmas",
         1
        ],
        [
         "Tunisia",
         "diy-and-crafts",
         1
        ],
        [
         "Turkey",
         "event-planning",
         1
        ],
        [
         "Turkey",
         "beauty",
         1
        ],
        [
         "Tuvalu",
         "tattoos",
         1
        ],
        [
         "Uganda",
         "christmas",
         1
        ],
        [
         "Uganda",
         "mens-fashion",
         1
        ],
        [
         "Uganda",
         "event-planning",
         1
        ],
        [
         "United Kingdom",
         "quotes",
         1
        ],
        [
         "United States Virgin Islands",
         "quotes",
         2
        ],
        [
         "United States of America",
         "quotes",
         1
        ],
        [
         "Venezuela",
         "quotes",
         4
        ],
        [
         "Vietnam",
         "quotes",
         1
        ],
        [
         "Wallis and Futuna",
         "home-decor",
         4
        ],
        [
         "Zambia",
         "mens-fashion",
         1
        ]
       ],
       "datasetInfos": [],
       "dbfsResultPath": null,
       "isJsonSchema": true,
       "metadata": {},
       "overflow": false,
       "plotOptions": {
        "customPlotOptions": {},
        "displayType": "table",
        "pivotAggregation": null,
        "pivotColumns": null,
        "xColumns": null,
        "yColumns": null
       },
       "removedWidgets": [],
       "schema": [
        {
         "metadata": "{}",
         "name": "country",
         "type": "\"string\""
        },
        {
         "metadata": "{}",
         "name": "category",
         "type": "\"string\""
        },
        {
         "metadata": "{}",
         "name": "category_count",
         "type": "\"long\""
        }
       ],
       "type": "table"
      }
     },
     "output_type": "display_data"
    }
   ],
   "source": [
    "result= spark.sql(\"\"\"SELECT \n",
    "                        country, category, category_count\n",
    "                    FROM (\n",
    "                        SELECT \n",
    "                            country, category, count(*) as category_count,\n",
    "                            DENSE_RANK() OVER (PARTITION by country ORDER BY count(*) DESC) AS ranking\n",
    "                        FROM geo\n",
    "                        JOIN pin \n",
    "                        ON geo.ind = pin.ind\n",
    "                        GROUP BY country, category\n",
    "                    )\n",
    "                    where ranking = 1\"\"\"\n",
    "                )\n",
    "\n",
    "display(result)"
   ]
  },
  {
   "cell_type": "markdown",
   "metadata": {
    "application/vnd.databricks.v1+cell": {
     "cellMetadata": {},
     "inputWidgets": {},
     "nuid": "9c89dd89-585a-425a-b5f3-7e160d80915e",
     "showTitle": false,
     "title": ""
    }
   },
   "source": [
    "#### Most popular category each year"
   ]
  },
  {
   "cell_type": "code",
   "execution_count": null,
   "metadata": {
    "application/vnd.databricks.v1+cell": {
     "cellMetadata": {
      "byteLimit": 2048000,
      "rowLimit": 10000
     },
     "inputWidgets": {},
     "nuid": "401e1dff-8309-429f-a0ad-47ad418e879e",
     "showTitle": false,
     "title": ""
    },
    "jupyter": {
     "outputs_hidden": true
    }
   },
   "outputs": [
    {
     "data": {
      "text/html": [
       "<style scoped>\n",
       "  .table-result-container {\n",
       "    max-height: 300px;\n",
       "    overflow: auto;\n",
       "  }\n",
       "  table, th, td {\n",
       "    border: 1px solid black;\n",
       "    border-collapse: collapse;\n",
       "  }\n",
       "  th, td {\n",
       "    padding: 5px;\n",
       "  }\n",
       "  th {\n",
       "    text-align: left;\n",
       "  }\n",
       "</style><div class='table-result-container'><table class='table-result'><thead style='background-color: white'><tr><th>post_year</th><th>category</th><th>category_count</th></tr></thead><tbody><tr><td>2017</td><td>mens-fashion</td><td>6</td></tr><tr><td>2018</td><td>diy-and-crafts</td><td>31</td></tr><tr><td>2019</td><td>art</td><td>22</td></tr><tr><td>2020</td><td>home-decor</td><td>22</td></tr><tr><td>2021</td><td>education</td><td>24</td></tr><tr><td>2021</td><td>quotes</td><td>24</td></tr><tr><td>2022</td><td>christmas</td><td>23</td></tr></tbody></table></div>"
      ]
     },
     "metadata": {
      "application/vnd.databricks.v1+output": {
       "addedWidgets": {},
       "aggData": [],
       "aggError": "",
       "aggOverflow": false,
       "aggSchema": [],
       "aggSeriesLimitReached": false,
       "aggType": "",
       "arguments": {},
       "columnCustomDisplayInfos": {},
       "data": [
        [
         2017,
         "mens-fashion",
         6
        ],
        [
         2018,
         "diy-and-crafts",
         31
        ],
        [
         2019,
         "art",
         22
        ],
        [
         2020,
         "home-decor",
         22
        ],
        [
         2021,
         "education",
         24
        ],
        [
         2021,
         "quotes",
         24
        ],
        [
         2022,
         "christmas",
         23
        ]
       ],
       "datasetInfos": [],
       "dbfsResultPath": null,
       "isJsonSchema": true,
       "metadata": {},
       "overflow": false,
       "plotOptions": {
        "customPlotOptions": {},
        "displayType": "table",
        "pivotAggregation": null,
        "pivotColumns": null,
        "xColumns": null,
        "yColumns": null
       },
       "removedWidgets": [],
       "schema": [
        {
         "metadata": "{}",
         "name": "post_year",
         "type": "\"integer\""
        },
        {
         "metadata": "{}",
         "name": "category",
         "type": "\"string\""
        },
        {
         "metadata": "{}",
         "name": "category_count",
         "type": "\"long\""
        }
       ],
       "type": "table"
      }
     },
     "output_type": "display_data"
    }
   ],
   "source": [
    "result= spark.sql(\"\"\"SELECT \n",
    "                        post_year, category, category_count\n",
    "                    FROM (\n",
    "                        SELECT \n",
    "                            year(timestamp) as post_year, category, count(*) as category_count,\n",
    "                            DENSE_RANK() OVER (PARTITION by year(timestamp) ORDER BY count(*) DESC) AS ranking\n",
    "                        FROM geo\n",
    "                        JOIN pin \n",
    "                        ON geo.ind = pin.ind\n",
    "                        GROUP BY year(timestamp), category\n",
    "                    )\n",
    "                    where ranking = 1\"\"\"\n",
    "                )\n",
    "\n",
    "display(result)"
   ]
  },
  {
   "cell_type": "markdown",
   "metadata": {
    "application/vnd.databricks.v1+cell": {
     "cellMetadata": {},
     "inputWidgets": {},
     "nuid": "678e2a59-5c55-4493-8057-21362719c3fe",
     "showTitle": false,
     "title": ""
    }
   },
   "source": [
    "#### User with most followers in each country & Country with most followers"
   ]
  },
  {
   "cell_type": "code",
   "execution_count": null,
   "metadata": {
    "application/vnd.databricks.v1+cell": {
     "cellMetadata": {
      "byteLimit": 2048000,
      "rowLimit": 10000
     },
     "inputWidgets": {},
     "nuid": "8e60bfed-8c25-4df0-928f-62d089be46ae",
     "showTitle": false,
     "title": ""
    },
    "jupyter": {
     "outputs_hidden": true
    }
   },
   "outputs": [
    {
     "data": {
      "text/html": [
       "<style scoped>\n",
       "  .table-result-container {\n",
       "    max-height: 300px;\n",
       "    overflow: auto;\n",
       "  }\n",
       "  table, th, td {\n",
       "    border: 1px solid black;\n",
       "    border-collapse: collapse;\n",
       "  }\n",
       "  th, td {\n",
       "    padding: 5px;\n",
       "  }\n",
       "  th {\n",
       "    text-align: left;\n",
       "  }\n",
       "</style><div class='table-result-container'><table class='table-result'><thead style='background-color: white'><tr><th>poster_name</th><th>country</th><th>max_follower_count</th></tr></thead><tbody><tr><td>Mamas Uncut</td><td>American Samoa</td><td>8000000</td></tr><tr><td>Tastemade</td><td>Angola</td><td>8000000</td></tr><tr><td>Style Me Pretty</td><td>Azerbaijan</td><td>6000000</td></tr><tr><td>Behance</td><td>Burkina Faso</td><td>6000000</td></tr><tr><td>The Minds Journal</td><td>Albania</td><td>5000000</td></tr><tr><td>Apartment Therapy</td><td>Algeria</td><td>5000000</td></tr><tr><td>BuzzFeed</td><td>American Samoa</td><td>5000000</td></tr><tr><td>POPSUGAR</td><td>Bouvet Island (Bouvetoya)</td><td>5000000</td></tr><tr><td>Ruffled</td><td>Comoros</td><td>4000000</td></tr><tr><td>imgur</td><td>Guam</td><td>4000000</td></tr><tr><td>Ugly Duckling House | DIY, Home, Woodworking, Crafts & Recipes</td><td>United States Virgin Islands</td><td>4000000</td></tr><tr><td>Inspired by Charm</td><td>Uganda</td><td>3000000</td></tr><tr><td>Walmart</td><td>Afghanistan</td><td>2000000</td></tr><tr><td>Blossom</td><td>Afghanistan</td><td>2000000</td></tr><tr><td>Bored Panda</td><td>Albania</td><td>2000000</td></tr><tr><td>wikiHow</td><td>American Samoa</td><td>2000000</td></tr><tr><td>Cheezburger</td><td>Argentina</td><td>2000000</td></tr><tr><td>Taste of Home</td><td>Azerbaijan</td><td>2000000</td></tr><tr><td>Catch My Party</td><td>Cambodia</td><td>2000000</td></tr><tr><td>Martha Stewart Living</td><td>Costa Rica</td><td>2000000</td></tr><tr><td>The Educators' Spin On It</td><td>Greenland</td><td>2000000</td></tr><tr><td>Country Living Magazine</td><td>Antigua and Barbuda</td><td>1000000</td></tr><tr><td>SOCIETY19</td><td>Azerbaijan</td><td>1000000</td></tr><tr><td>InStyle</td><td>Cayman Islands</td><td>1000000</td></tr><tr><td>Cuded Art & Design</td><td>Cuba</td><td>1000000</td></tr><tr><td>Ana White</td><td>Russian Federation</td><td>1000000</td></tr><tr><td>DIY Joy - Crafts, Home Improvement, Decor & Recipes</td><td>Afghanistan</td><td>985000</td></tr><tr><td>Homedit.com</td><td>Guatemala</td><td>965000</td></tr><tr><td>Stylecaster</td><td>Afghanistan</td><td>960000</td></tr><tr><td>Handmade Charlotte</td><td>Bahamas</td><td>948000</td></tr><tr><td>YourTango</td><td>Algeria</td><td>942000</td></tr><tr><td>The Best Ideas for Kids</td><td>Andorra</td><td>903000</td></tr><tr><td>ZAFUL</td><td>Mongolia</td><td>893000</td></tr><tr><td>Michelle {CraftyMorning.com}</td><td>Armenia</td><td>892000</td></tr><tr><td>GQ Magazine</td><td>Aruba</td><td>874000</td></tr><tr><td>PureWow</td><td>Central African Republic</td><td>868000</td></tr><tr><td>Next Luxury</td><td>Argentina</td><td>800000</td></tr><tr><td>SheKnows</td><td>Algeria</td><td>787000</td></tr><tr><td>TheUnstitchd</td><td>Afghanistan</td><td>723000</td></tr><tr><td>Marla Meridith</td><td>Pitcairn Islands</td><td>671000</td></tr><tr><td>One Kindesign</td><td>Aruba</td><td>657000</td></tr><tr><td>Prudent Penny Pincher - Home Decor, Organization, Crafts, Recipes</td><td>Belarus</td><td>648000</td></tr><tr><td>Latest Hairstyles</td><td>Korea</td><td>627000</td></tr><tr><td>ArchitectureArtDesigns</td><td>Armenia</td><td>616000</td></tr><tr><td>Mens Fashion - LIFESTYLE BY PS </td><td>Algeria</td><td>613000</td></tr><tr><td>A Piece of Rainbow</td><td>Bulgaria</td><td>603000</td></tr><tr><td>Blusher</td><td>Cambodia</td><td>583000</td></tr><tr><td>Fiverr</td><td>Afghanistan</td><td>565000</td></tr><tr><td>Mom Junction</td><td>Cote d'Ivoire</td><td>565000</td></tr><tr><td>Homesthetics.net</td><td>American Samoa</td><td>556000</td></tr><tr><td>Happy Hooligans - Crafts and Activities for Kids</td><td>Liberia</td><td>550000</td></tr><tr><td>Byrdie</td><td>American Samoa</td><td>538000</td></tr><tr><td>CraftGossip.com</td><td>Angola</td><td>502000</td></tr><tr><td>HikenDip</td><td>Antarctica (the territory South of 60 deg S)</td><td>501000</td></tr><tr><td>WeAreTeachers</td><td>Albania</td><td>500000</td></tr><tr><td>It's Always Autumn</td><td>American Samoa</td><td>498000</td></tr><tr><td>The Everygirl</td><td>Angola</td><td>496000</td></tr><tr><td>Real Men Real Style</td><td>Heard Island and McDonald Islands</td><td>487000</td></tr><tr><td>One Little Project</td><td>Albania</td><td>472000</td></tr><tr><td>Clean and Scentsible</td><td>Costa Rica</td><td>465000</td></tr><tr><td>Hand Luggage Only</td><td>Algeria</td><td>459000</td></tr><tr><td>Parents</td><td>Maldives</td><td>416000</td></tr><tr><td>The Creativity Exchange</td><td>Barbados</td><td>410000</td></tr><tr><td>epicurious</td><td>Norway</td><td>409000</td></tr><tr><td>Only In Your State</td><td>Antigua and Barbuda</td><td>401000</td></tr><tr><td>Thirty Handmade Days</td><td>Greece</td><td>397000</td></tr><tr><td>The Design Files</td><td>Congo</td><td>389000</td></tr><tr><td>Stylesatlife</td><td>Bosnia and Herzegovina</td><td>388000</td></tr><tr><td>Suburban Men</td><td>Bangladesh</td><td>383000</td></tr><tr><td>The Cottage Market</td><td>Albania</td><td>364000</td></tr><tr><td>Rainy Day Mum</td><td>Bahrain</td><td>337000</td></tr><tr><td>Alea Milham | Premeditated Leftovers</td><td>Bahrain</td><td>332000</td></tr><tr><td>Passion For Savings</td><td>Maldives</td><td>330000</td></tr><tr><td>Kris - Driven by Decor</td><td>Belarus</td><td>323000</td></tr><tr><td>Planning Playtime</td><td>Azerbaijan</td><td>322000</td></tr><tr><td>Something Turquoise</td><td>Belarus</td><td>312000</td></tr><tr><td>Liz Marie</td><td>Costa Rica</td><td>309000</td></tr><tr><td>Tracie Kiernan | Step By Step Painting |</td><td>Netherlands</td><td>308000</td></tr><tr><td>Listotic - Easy Ideas | Fun DIY Projects | Easy Recipes | Lists</td><td>Cuba</td><td>307000</td></tr><tr><td>El Hombre</td><td>Djibouti</td><td>307000</td></tr><tr><td>Relationship Rules</td><td>Argentina</td><td>296000</td></tr><tr><td>Nourish Move Love | Home Workouts</td><td>Azerbaijan</td><td>292000</td></tr><tr><td>Instrupix | Lilly Childers</td><td>Djibouti</td><td>275000</td></tr><tr><td>Michelle | Brown Eyed Baker</td><td>Niue</td><td>271000</td></tr><tr><td>Easy Kids Crafts & Activities | Preschool & Kindergarten Ideas</td><td>Belize</td><td>267000</td></tr><tr><td>Arty Crafty Kids</td><td>Barbados</td><td>252000</td></tr><tr><td>Diply</td><td>Austria</td><td>251000</td></tr><tr><td>Design Rulz</td><td>British Indian Ocean Territory (Chagos Archipelago)</td><td>248000</td></tr><tr><td>Homes To Love AU</td><td>Netherlands</td><td>247000</td></tr><tr><td>Kitchen Fun With My 3 Sons</td><td>British Virgin Islands</td><td>245000</td></tr><tr><td>Kimberly West (a girl and a glue gun)</td><td>Bolivia</td><td>243000</td></tr><tr><td>Sweet Red Poppy Free Sewing Patterns, Cut Files & Craft Tutorials</td><td>French Guiana</td><td>241000</td></tr><tr><td>ArtsyCraftsyMom | Art, Craft & DIY ideas</td><td>Albania</td><td>229000</td></tr><tr><td>Iva A. Ursano Amazing Me Movement</td><td>Algeria</td><td>228000</td></tr><tr><td>Essence Magazine</td><td>Bouvet Island (Bouvetoya)</td><td>227000</td></tr><tr><td>Glued To My Crafts</td><td>Chad</td><td>226000</td></tr><tr><td>The Kitchen Table Classroom</td><td>Bahamas</td><td>221000</td></tr><tr><td>Power of Positivity</td><td>El Salvador</td><td>221000</td></tr><tr><td>Iowa Girl Eats</td><td>Malta</td><td>219000</td></tr><tr><td>Stephanie - Somewhat Simple</td><td>French Guiana</td><td>214000</td></tr><tr><td>TheTrendSpotter</td><td>Aruba</td><td>211000</td></tr><tr><td>Miss Mustard Seed | Minnesota Home Decor Blogger & Influencer</td><td>American Samoa</td><td>208000</td></tr><tr><td>Susie Allison | Busy Toddler</td><td>Georgia</td><td>203000</td></tr><tr><td>Living on a Dime to Grow Rich</td><td>Nepal</td><td>197000</td></tr><tr><td>Becky Mansfield - YourModernFamily </td><td>Comoros</td><td>196000</td></tr><tr><td>The Crafting Chicks</td><td>Cote d'Ivoire</td><td>192000</td></tr><tr><td>Our Mindful Life</td><td>Andorra</td><td>190000</td></tr><tr><td>The Mighty</td><td>Grenada</td><td>185000</td></tr><tr><td>Sand and Sisal</td><td>Cape Verde</td><td>178000</td></tr><tr><td>123 Homeschool 4 Me</td><td>Armenia</td><td>176000</td></tr><tr><td>This Reading Mama</td><td>Armenia</td><td>175000</td></tr><tr><td>Educational Technology and Mobile Learning</td><td>Egypt</td><td>172000</td></tr><tr><td>vintagetopia</td><td>Saint Kitts and Nevis</td><td>171000</td></tr><tr><td>EsB Journal</td><td>French Polynesia</td><td>168000</td></tr><tr><td>Snappy Gourmet</td><td>Namibia</td><td>168000</td></tr><tr><td>Happiness is Homemade | Crafts, Printables, Party Ideas, & More!</td><td>India</td><td>167000</td></tr><tr><td>Women.com</td><td>Afghanistan</td><td>166000</td></tr><tr><td>Your Positive Oasis | Motivation| Inspiration| Wellness</td><td>Lebanon</td><td>163000</td></tr><tr><td>Kristina Buskirk | Toddler Approved</td><td>Guinea-Bissau</td><td>160000</td></tr><tr><td>miss coco</td><td>Libyan Arab Jamahiriya</td><td>157000</td></tr><tr><td>Jordan Page | Fun Cheap or Free</td><td>Colombia</td><td>152000</td></tr><tr><td>Twelve On Main</td><td>Canada</td><td>142000</td></tr><tr><td>CafeMom</td><td>Bolivia</td><td>139000</td></tr><tr><td>LonerWolf | Spiritual Awakening + Soul Guidance</td><td>Antigua and Barbuda</td><td>138000</td></tr><tr><td>Mommypotamus | Health and Wellness </td><td>Cote d'Ivoire</td><td>138000</td></tr><tr><td>momooze | Lifestyle Brand for Moms</td><td>Burkina Faso</td><td>135000</td></tr><tr><td>Live Like You Are Rich | Finances, Pregnancy, Recipes & More</td><td>Croatia</td><td>134000</td></tr><tr><td>Cars Zone</td><td>Guinea</td><td>134000</td></tr><tr><td>REDBOOK Magazine</td><td>Bahrain</td><td>133000</td></tr><tr><td>Craft-Mart</td><td>Armenia</td><td>132000</td></tr><tr><td>Fun Life Crisis</td><td>Algeria</td><td>130000</td></tr><tr><td>Katepickle - picklebums - fun ideas for families</td><td>Djibouti</td><td>130000</td></tr><tr><td>Shaunna @ Fantastic Fun and Learning</td><td>Algeria</td><td>128000</td></tr><tr><td>Kid Friendly Things To Do</td><td>Djibouti</td><td>127000</td></tr><tr><td>Meaningful Mama</td><td>Costa Rica</td><td>125000</td></tr><tr><td>Balloons_worldwides</td><td>Somalia</td><td>118000</td></tr><tr><td>MojisStyle</td><td>Albania</td><td>117000</td></tr><tr><td>Stephanie Lynn</td><td>Puerto Rico</td><td>116000</td></tr><tr><td>Hello Lovely</td><td>France</td><td>115000</td></tr><tr><td>Penny Pinchin Mom |  Budget, Get out of Debt, Save Money & More!</td><td>Benin</td><td>113000</td></tr><tr><td>Man of Many</td><td>Cameroon</td><td>112000</td></tr><tr><td>MomAdvice</td><td>Madagascar</td><td>112000</td></tr><tr><td>The Work at Home Woman</td><td>Aruba</td><td>110000</td></tr><tr><td>The Keeper of the Cheerios</td><td>Burundi</td><td>109000</td></tr><tr><td>This Tiny  Blue House</td><td>Argentina</td><td>108000</td></tr><tr><td>Dagmar Bleasdale {Dagmar's Home}</td><td>Argentina</td><td>105000</td></tr><tr><td>The Crazy Craft Lady</td><td>Central African Republic</td><td>105000</td></tr><tr><td>Wonder Forest</td><td>Dominican Republic</td><td>104000</td></tr><tr><td>Maria Killam</td><td>British Virgin Islands</td><td>102000</td></tr><tr><td>Decluttering Your Life</td><td>Cuba</td><td>102000</td></tr><tr><td>Stacy Risenmay</td><td>Cote d'Ivoire</td><td>100000</td></tr><tr><td>Fres Houz</td><td>Haiti</td><td>100000</td></tr><tr><td>Kristen | Lifestyle, Mom Tips & Teacher Stuff Blog</td><td>Anguilla</td><td>92000</td></tr><tr><td>Avenly Lane Travel blog | Travel Inspiration | Beautiful Places</td><td>Christmas Island</td><td>91000</td></tr><tr><td>The World Pursuit Travel Website</td><td>Austria</td><td>89000</td></tr><tr><td>Jackie | I Heart Arts N Crafts</td><td>Bosnia and Herzegovina</td><td>89000</td></tr><tr><td>TheSuperBOO!</td><td>Gibraltar</td><td>89000</td></tr><tr><td>He and She Eat Clean</td><td>Congo</td><td>88000</td></tr><tr><td>Angela Watson's Truth for Teachers</td><td>Gabon</td><td>88000</td></tr><tr><td>Hearth and Vine</td><td>Myanmar</td><td>88000</td></tr><tr><td>Hey Let's Make Stuff</td><td>Singapore</td><td>88000</td></tr><tr><td>The Chalkboard Mag</td><td>Isle of Man</td><td>87000</td></tr><tr><td>The Adult Man - Practical Men's Fashion & Lifestyle Advice</td><td>Japan</td><td>87000</td></tr><tr><td>Thank Your Body</td><td>Anguilla</td><td>85000</td></tr><tr><td>Made to be a Momma</td><td>Cameroon</td><td>85000</td></tr><tr><td>Menucha - Moms and Crafters</td><td>Guatemala</td><td>85000</td></tr><tr><td>LABONNI</td><td>Ecuador</td><td>84000</td></tr><tr><td>Stacey Collins | Wilshire Collections</td><td>Albania</td><td>79000</td></tr><tr><td>Amee</td><td>Finland</td><td>79000</td></tr><tr><td>Pam from Over the Big Moon</td><td>Guinea</td><td>79000</td></tr><tr><td>War History Online</td><td>Bahamas</td><td>78000</td></tr><tr><td>Weed 'em & Reap</td><td>Hungary</td><td>77000</td></tr><tr><td>Kat Sullivan | Marketing Solved | Entrepreneur</td><td>Maldives</td><td>77000</td></tr><tr><td>Teaching With a Mountain View</td><td>Afghanistan</td><td>76000</td></tr><tr><td>Craftsy Hacks</td><td>Bolivia</td><td>76000</td></tr><tr><td>Christina Maria - DIY Home Improvement + Decor</td><td>Kazakhstan</td><td>75000</td></tr><tr><td>Classic Nation</td><td>South Georgia and the South Sandwich Islands</td><td>75000</td></tr><tr><td>The Merrythought</td><td>Lebanon</td><td>74000</td></tr><tr><td>THE HUST</td><td>Andorra</td><td>73000</td></tr><tr><td>Kippi at Home</td><td>Bahamas</td><td>73000</td></tr><tr><td>Happy Toddler Playtime</td><td>Belgium</td><td>73000</td></tr><tr><td>Jumprope</td><td>Cameroon</td><td>72000</td></tr><tr><td>Gathering Dreams | Do What You Love</td><td>Aruba</td><td>71000</td></tr><tr><td>Suburban Simplicity</td><td>Guatemala</td><td>71000</td></tr><tr><td>She Gave It A Go| Faith Family Farmhouse</td><td>Bolivia</td><td>68000</td></tr><tr><td>eFavormart | One-Stop Shop for Wedding, Party & Event Supplies!</td><td>Saint Kitts and Nevis</td><td>68000</td></tr><tr><td>Curated Interior</td><td>Bolivia</td><td>67000</td></tr><tr><td>Monique - Living Life and Learning</td><td>Dominica</td><td>67000</td></tr><tr><td>Norma Smith</td><td>Ecuador</td><td>67000</td></tr><tr><td>Natalie Bacon | NatalieBacon.com</td><td>Bangladesh</td><td>66000</td></tr><tr><td>El blog amarillo</td><td>Tunisia</td><td>66000</td></tr><tr><td>MotorTrend</td><td>Aruba</td><td>65000</td></tr><tr><td>The Cards We Drew</td><td>Congo</td><td>64000</td></tr><tr><td>JDaniel4's Mom</td><td>Kuwait</td><td>63000</td></tr><tr><td>Literacy and Math Ideas</td><td>Sudan</td><td>63000</td></tr><tr><td>Homemade For Elle</td><td>Cameroon</td><td>61000</td></tr><tr><td>Sweet T Makes Three</td><td>Netherlands Antilles</td><td>61000</td></tr><tr><td>Girl Crafts</td><td>Anguilla</td><td>60000</td></tr><tr><td>The Practical Saver | Save Money</td><td>Argentina</td><td>60000</td></tr><tr><td>The Skinny Confidential</td><td>Norfolk Island</td><td>60000</td></tr><tr><td>Primer</td><td>Aruba</td><td>59000</td></tr><tr><td>The Techie Teacher</td><td>Bulgaria</td><td>59000</td></tr><tr><td>To Vogue or Bust</td><td>Korea</td><td>59000</td></tr><tr><td>The Classroom Key</td><td>Burundi</td><td>58000</td></tr><tr><td>My Bored Toddler</td><td>Sweden</td><td>58000</td></tr><tr><td>GenTwenty | Personal Growth, Self-Care, and Money</td><td>Cote d'Ivoire</td><td>57000</td></tr><tr><td>Jessi Fearon | Debt-Free Living</td><td>Croatia</td><td>57000</td></tr><tr><td>Thriving Home</td><td>American Samoa</td><td>56000</td></tr><tr><td>Pathway 2 Success</td><td>Angola</td><td>56000</td></tr><tr><td>Chelsea Johnson  | Life With My Littles</td><td>Bhutan</td><td>56000</td></tr><tr><td>The Painted Hinge</td><td>Congo</td><td>55000</td></tr><tr><td>Jessica Autumn Planners | Free Printables + Digital Planners</td><td>El Salvador</td><td>54000</td></tr><tr><td>Happily Ever After Etc</td><td>Bulgaria</td><td>53000</td></tr><tr><td>Jennifer@The Intentional Mom</td><td>China</td><td>53000</td></tr><tr><td>The Links Site</td><td>Cambodia</td><td>51000</td></tr><tr><td>From the Pond</td><td>Cameroon</td><td>51000</td></tr><tr><td>Tim Adam - Car Enthusiast</td><td>Aruba</td><td>49000</td></tr><tr><td>Smart Cents Mom</td><td>Benin</td><td>49000</td></tr><tr><td>Her Way</td><td>Antarctica (the territory South of 60 deg S)</td><td>48000</td></tr><tr><td>Jasmine | Feeling Nifty | Acrylic Painting Tutorials, Ideas &More</td><td>Aruba</td><td>48000</td></tr><tr><td>The Honeycomb Home</td><td>Dominica</td><td>48000</td></tr><tr><td>Michael Friermood</td><td>Germany</td><td>48000</td></tr><tr><td>craftberry bush</td><td>Afghanistan</td><td>47000</td></tr><tr><td>Follow Me Away</td><td>Bouvet Island (Bouvetoya)</td><td>47000</td></tr><tr><td>Evolution of Style</td><td>United States of America</td><td>47000</td></tr><tr><td>Rishit || Gravetics</td><td>Comoros</td><td>46000</td></tr><tr><td>Cool Things- Drawing Ideas , Fashion ,Beautiy and Home Decor</td><td>Mauritius</td><td>46000</td></tr><tr><td>Boss Babe Chronicles | Personal Development, Finances, Self Care</td><td>Algeria</td><td>45000</td></tr><tr><td>Hairs Out of Place</td><td>Albania</td><td>44000</td></tr><tr><td>A Blossoming Life DIY Projects + Recipes +     Natural Living</td><td>Moldova</td><td>44000</td></tr><tr><td>Thrive Causemetics</td><td>Maldives</td><td>43000</td></tr><tr><td>Caroline|CarolineVencil.com | Saving & Making Money | Pro Blogger</td><td>Algeria</td><td>42000</td></tr><tr><td>TheFab20s | Travel+Food+DIY+Listicles</td><td>American Samoa</td><td>42000</td></tr><tr><td>THE INDIAN GENT - Grooming, Style, Fitness</td><td>Chad</td><td>42000</td></tr><tr><td>Chloe Crabtree | Celebrate & Decorate</td><td>El Salvador</td><td>42000</td></tr><tr><td>Teach Create Motivate</td><td>Fiji</td><td>41000</td></tr><tr><td>Designing Vibes</td><td>Cyprus</td><td>40000</td></tr><tr><td>Tastefully Frugal</td><td>Turkey</td><td>40000</td></tr><tr><td>SouthBound Bride</td><td>Sweden</td><td>38000</td></tr><tr><td>RACHEL JOY  |  DIY + HOME</td><td>Austria</td><td>37000</td></tr><tr><td>Joyfully Growing Blog | All things DIY + home decor, budget friendly hacks, & blogging tips</td><td>Bangladesh</td><td>37000</td></tr><tr><td>A Wonderful Thought</td><td>Bosnia and Herzegovina</td><td>37000</td></tr><tr><td>solosophie</td><td>Gibraltar</td><td>37000</td></tr><tr><td>JESSICA SARA MORRIS | HOME DECOR + DIY ON A BUDGET</td><td>Argentina</td><td>36000</td></tr><tr><td>Melanie| Frugal Living | Millennial Money| Believer</td><td>Bouvet Island (Bouvetoya)</td><td>36000</td></tr><tr><td>CarGurus</td><td>Bulgaria</td><td>35000</td></tr><tr><td>Art & Home</td><td>Croatia</td><td>35000</td></tr><tr><td>Seasons Of My Home</td><td>Korea</td><td>35000</td></tr><tr><td>Lipgloss & Crayons / Parenting Tips, Mommy and Me Style, Casual Outfit Posts, and Toddler Life</td><td>Botswana</td><td>34000</td></tr><tr><td>My 100 Year Old home</td><td>Austria</td><td>33000</td></tr><tr><td>Find Us Lost | A Travel Blog</td><td>Congo</td><td>33000</td></tr><tr><td>Yourwillbearwitness</td><td>Iran</td><td>33000</td></tr><tr><td>Alpha Male Blueprint</td><td>Solomon Islands</td><td>33000</td></tr><tr><td>Southern Savers - Jenny</td><td>Andorra</td><td>32000</td></tr><tr><td>Giggles Galore</td><td>Bulgaria</td><td>32000</td></tr><tr><td>TattooMagz</td><td>Guernsey</td><td>32000</td></tr><tr><td>Emily Lightly</td><td>Taiwan</td><td>32000</td></tr><tr><td>HALFTEE Layering Fashions</td><td>Zambia</td><td>32000</td></tr><tr><td>Breezy Special Ed</td><td>Aruba</td><td>31000</td></tr><tr><td>Saving Money with Frugality Magazine</td><td>Azerbaijan</td><td>31000</td></tr><tr><td>Simple Lionheart Life</td><td>Comoros</td><td>31000</td></tr><tr><td>Home with Holliday</td><td>Mayotte</td><td>31000</td></tr><tr><td>Miss PlanIt</td><td>Afghanistan</td><td>30000</td></tr><tr><td>The Klog</td><td>Benin</td><td>30000</td></tr><tr><td>Rocky Hedge Farm - Simple Life | Simple Home</td><td>Bermuda</td><td>30000</td></tr><tr><td>She Holds Dearly</td><td>Bosnia and Herzegovina</td><td>30000</td></tr><tr><td>GrowingSlower</td><td>Guatemala</td><td>30000</td></tr><tr><td>Salt in our Hair</td><td>Belarus</td><td>29000</td></tr><tr><td>Fizzm</td><td>Ireland</td><td>29000</td></tr><tr><td>Jasminxg</td><td>Isle of Man</td><td>29000</td></tr><tr><td>Creative Boom</td><td>Monaco</td><td>29000</td></tr><tr><td>Vanessa Berlin</td><td>Angola</td><td>28000</td></tr><tr><td>LLEGANCE | Workwear Fashion Woman Advice For Driven Professionals</td><td>Australia</td><td>28000</td></tr><tr><td>Nicki </td><td>Barbados</td><td>28000</td></tr><tr><td>It's me, JD | DIY, Crafts, Home & Organization</td><td>Afghanistan</td><td>27000</td></tr><tr><td>Oyster.com | Hotel Reviews and Travel Tips</td><td>Bahamas</td><td>27000</td></tr><tr><td>Shawn Petite</td><td>Congo</td><td>27000</td></tr><tr><td>Holly Johnson (Club Thrifty)</td><td>Finland</td><td>27000</td></tr><tr><td>PutTheKettleOn | Self Care & Personal Growth For a Life You Love</td><td>Somalia</td><td>27000</td></tr><tr><td>CARA NEWHART [never skip brunch]</td><td>Canada</td><td>26000</td></tr><tr><td>FOURLINE DESIGN | Home Decor & Accessories</td><td>Kenya</td><td>26000</td></tr><tr><td>Offroadium.com - Offroad, Lifted Trucks & 4x4</td><td>Afghanistan</td><td>25000</td></tr><tr><td>The Arty Teacher</td><td>Armenia</td><td>25000</td></tr><tr><td>A Kinderteacher Life</td><td>Cambodia</td><td>25000</td></tr><tr><td>One Hand in my Pocket</td><td>Croatia</td><td>25000</td></tr><tr><td>Lantern Lane Designs|Home Decor|DIY Projects|DIY Home Decor</td><td>Cyprus</td><td>25000</td></tr><tr><td>Journey Era | Fun Adventure</td><td>Cote d'Ivoire</td><td>24000</td></tr><tr><td>Yami @ The Latina Next Door | Blogger | DIY | Budget Friendly Home Decor | Recipes |  Latina</td><td>Haiti</td><td>24000</td></tr><tr><td>Latoya | Life and a Budget</td><td>Indonesia</td><td>24000</td></tr><tr><td>Nicole @ The Inspired Hive | DIY + Home Decor</td><td>American Samoa</td><td>22000</td></tr><tr><td>ManTripping</td><td>Armenia</td><td>22000</td></tr><tr><td>Jess Wandering</td><td>Australia</td><td>22000</td></tr><tr><td>RD's Obsessions</td><td>Bahrain</td><td>22000</td></tr><tr><td>Primary Playground</td><td>British Virgin Islands</td><td>22000</td></tr><tr><td>Upcycle My Stuff - DIY Projects | Repurposing | Upcycling</td><td>Moldova</td><td>22000</td></tr><tr><td>Kelley Vivian | New England Landscape Original Art & Prints</td><td>Antigua and Barbuda</td><td>21000</td></tr><tr><td>Learn in Color</td><td>Benin</td><td>21000</td></tr><tr><td>GirlGetGlamorous</td><td>Italy</td><td>21000</td></tr><tr><td>ALL FOR WOMAN</td><td>Seychelles</td><td>21000</td></tr><tr><td>Projects with Kids</td><td>Albania</td><td>20000</td></tr><tr><td>Kristin Larsen | Side Hustle + Make Money</td><td>Barbados</td><td>20000</td></tr><tr><td>Trade Brains</td><td>Israel</td><td>20000</td></tr><tr><td>Outfit Ideas HQ</td><td>Kenya</td><td>20000</td></tr><tr><td>Husskie</td><td>New Caledonia</td><td>20000</td></tr><tr><td>Inspirethemom</td><td>Australia</td><td>19000</td></tr><tr><td>Karibikfruechtchen</td><td>Austria</td><td>19000</td></tr><tr><td>Dream Dash Journal</td><td>British Virgin Islands</td><td>19000</td></tr><tr><td>Stephanie Trapp | Primary Theme Park</td><td>Cape Verde</td><td>19000</td></tr><tr><td>Rookie Moms</td><td>China</td><td>19000</td></tr><tr><td>Wanderlust Crew</td><td>Greenland</td><td>19000</td></tr><tr><td>Financial Toolkit</td><td>Jamaica</td><td>19000</td></tr><tr><td>THE GINGER HOME  Interior Design, DIY & Lifestyle Tips</td><td>Aruba</td><td>18000</td></tr><tr><td>Fabbon</td><td>India</td><td>18000</td></tr><tr><td>Satsuma Designs | Make + Sew + Teach</td><td>Maldives</td><td>18000</td></tr><tr><td>Wealthy Nickel | Make Money, Save Money, Passive Income, Invest</td><td>Dominican Republic</td><td>17000</td></tr><tr><td>Eyes On Walls</td><td>Japan</td><td>17000</td></tr><tr><td>Simple Money Mom | Saving Money, Budgeting Tips, and Frugal Living</td><td>Bhutan</td><td>16000</td></tr><tr><td>Grandmar Mice</td><td>San Marino</td><td>16000</td></tr><tr><td>Darling Darleen</td><td>Bangladesh</td><td>15000</td></tr><tr><td>Our Escape Clause l Travel in Europe & Beyond</td><td>Cayman Islands</td><td>15000</td></tr><tr><td>DollarSanity</td><td>Ethiopia</td><td>15000</td></tr><tr><td>Leanne | Midlife Blogger at www.crestingthehill.com.au</td><td>Vietnam</td><td>15000</td></tr><tr><td>Glamhues</td><td>Afghanistan</td><td>14000</td></tr><tr><td>Esavingsblog</td><td>Azerbaijan</td><td>14000</td></tr><tr><td>Spiretime</td><td>Bermuda</td><td>14000</td></tr><tr><td>CriticEye | Make Money Online Strategies and Tools Suggestions |</td><td>Christmas Island</td><td>14000</td></tr><tr><td>Sunshine Whispers</td><td>France</td><td>14000</td></tr><tr><td>Avenly Lane | Beauty, Fashion & Travel Inspiration</td><td>Malawi</td><td>14000</td></tr><tr><td>Jeep Wrangler Outpost</td><td>Somalia</td><td>14000</td></tr><tr><td>The Comprehensible Classroom by Martina Bex</td><td>Aruba</td><td>13000</td></tr><tr><td>Rachel_thePondsFarmhouse</td><td>Belgium</td><td>13000</td></tr><tr><td>Beginner Bookkeeping</td><td>Bhutan</td><td>13000</td></tr><tr><td>Michele Noh</td><td>Cyprus</td><td>13000</td></tr><tr><td>Morgan |  Modernly Morgan</td><td>Estonia</td><td>13000</td></tr><tr><td>Lisa Homsy</td><td>Grenada</td><td>13000</td></tr><tr><td>myclickjournal | Online Business, College & Budget Travel Tips</td><td>Heard Island and McDonald Islands</td><td>13000</td></tr><tr><td>Intentionally Designed</td><td>Hong Kong</td><td>13000</td></tr><tr><td>Dashing Darlin' </td><td>Marshall Islands</td><td>13000</td></tr><tr><td>Two Southern Sweeties | Life After 50 + Second Act Lifestyle</td><td>Morocco</td><td>13000</td></tr><tr><td>My Baba</td><td>Botswana</td><td>12000</td></tr><tr><td>Five Foot Feminine | Petite Style Blog + Home Decor</td><td>Nicaragua</td><td>12000</td></tr><tr><td>Renee Slansky  Dating + Relationship Coach -The Dating Directory </td><td>United States Virgin Islands</td><td>12000</td></tr><tr><td>Traci Bender - The Bender Bunch</td><td>Aruba</td><td>11000</td></tr><tr><td>Homeschool Hideout</td><td>Bangladesh</td><td>11000</td></tr><tr><td>Budgets Are Sexy | Save Money + Grow Your Net Worth</td><td>British Indian Ocean Territory (Chagos Archipelago)</td><td>11000</td></tr><tr><td>WranglerForum.com</td><td>Christmas Island</td><td>11000</td></tr><tr><td>Lists For All</td><td>Egypt</td><td>11000</td></tr><tr><td>Veterans United Home Loans</td><td>Faroe Islands</td><td>11000</td></tr><tr><td>CollectorCarAds.com</td><td>Slovakia (Slovak Republic)</td><td>11000</td></tr><tr><td>Shaadi Fever</td><td>Cyprus</td><td>10000</td></tr><tr><td>Tim Guan</td><td>Japan</td><td>10000</td></tr><tr><td>Southern Productions Weddings & Events | MS Wedding Planner</td><td>Thailand</td><td>10000</td></tr><tr><td>No Hurry To Get Home</td><td>Armenia</td><td>9000</td></tr><tr><td>Linda On The Run</td><td>Aruba</td><td>9000</td></tr><tr><td>EventMB</td><td>Austria</td><td>9000</td></tr><tr><td>Emily | Wander-Lush Travel Blog</td><td>Belize</td><td>9000</td></tr><tr><td>RoyalRestrooms</td><td>British Virgin Islands</td><td>9000</td></tr><tr><td>OUR NEXT ADVENTURE | family travel blog</td><td>Christmas Island</td><td>9000</td></tr><tr><td>Kelsey Bang</td><td>Ecuador</td><td>9000</td></tr><tr><td>Young Adult Money</td><td>Grenada</td><td>9000</td></tr><tr><td>Eryn Whalen | Health, Home Decor, Lifstyle</td><td>Luxembourg</td><td>9000</td></tr><tr><td>Land Rover USA</td><td>Nicaragua</td><td>9000</td></tr><tr><td>Soberbadassery | Your Free Online Guide To Sober Living </td><td>Romania</td><td>9000</td></tr><tr><td>Montgo Farmhouse</td><td>Saint Martin</td><td>9000</td></tr><tr><td>Passports and Grub</td><td>Antigua and Barbuda</td><td>8000</td></tr><tr><td>Jen | Save to Splurge</td><td>Argentina</td><td>8000</td></tr><tr><td>Jiew82633</td><td>Armenia</td><td>8000</td></tr><tr><td>Gift Ideas Corner</td><td>Bangladesh</td><td>8000</td></tr><tr><td>Adapting for Autism | Resources for Special Education Classrooms</td><td>Bosnia and Herzegovina</td><td>8000</td></tr><tr><td>GirlTalkwithFo | Debt Payoff | Budgeting & Make Money Tips</td><td>Bosnia and Herzegovina</td><td>8000</td></tr><tr><td>Strong with Purpose | Healing & Intuitive Living</td><td>Burkina Faso</td><td>8000</td></tr><tr><td>hobbyDB</td><td>Jamaica</td><td>8000</td></tr><tr><td>Lora Bloomquist Create and Ponder</td><td>Kazakhstan</td><td>8000</td></tr><tr><td>MOMtivational // Parenting + Pregnancy + More</td><td>Kiribati</td><td>8000</td></tr><tr><td>Function of Beauty</td><td>Lesotho</td><td>8000</td></tr><tr><td>Trendy Socialite</td><td>Mexico</td><td>8000</td></tr><tr><td>Tanya Yero Teaching</td><td>Monaco</td><td>8000</td></tr><tr><td>Satya Jewelry</td><td>Niue</td><td>8000</td></tr><tr><td>Dare to Cultivate</td><td>Burkina Faso</td><td>7000</td></tr><tr><td>Simply Wander | Family Friendly Travel Guides</td><td>Burkina Faso</td><td>7000</td></tr><tr><td>MeninSuits</td><td>Chile</td><td>7000</td></tr><tr><td>Todd | Financial Mentor</td><td>Czech Republic</td><td>7000</td></tr><tr><td>Men top fashion</td><td>Greece</td><td>7000</td></tr><tr><td>A CENTSational Life | Make Money, Save Money, Live Your Best Life</td><td>Indonesia</td><td>7000</td></tr><tr><td>Lauren - The Write Budget</td><td>Kiribati</td><td>7000</td></tr><tr><td>Mary</td><td>Macedonia</td><td>7000</td></tr><tr><td>Kim Cook-Thirteen Chairs-Slates Mugs And Tees</td><td>Netherlands Antilles</td><td>7000</td></tr><tr><td>Blanca Rosado-Diaz</td><td>Paraguay</td><td>7000</td></tr><tr><td>Bernadette Balla | Spirituality, Healing, Growth & Inspiration</td><td>Paraguay</td><td>7000</td></tr><tr><td>Alex Mims</td><td>Venezuela</td><td>7000</td></tr><tr><td>Birch Event Design</td><td>Andorra</td><td>6000</td></tr><tr><td>Tim Koleno Jr.</td><td>Andorra</td><td>6000</td></tr><tr><td>Joel Dropships | Branded Dropshipping For Beginners 2022</td><td>Angola</td><td>6000</td></tr><tr><td>Cola42986</td><td>Aruba</td><td>6000</td></tr><tr><td>SAHYA</td><td>Australia</td><td>6000</td></tr><tr><td>McKenzy Potter | Parenting Tips & Hacks  + Budgeting Tips</td><td>Azerbaijan</td><td>6000</td></tr><tr><td>Sports Car Digest</td><td>British Virgin Islands</td><td>6000</td></tr><tr><td>Lindsay Ann Learning | High School English Activities </td><td>Congo</td><td>6000</td></tr><tr><td>TATEMS</td><td>Guinea-Bissau</td><td>6000</td></tr><tr><td>Billonaire dreamz</td><td>Lebanon</td><td>6000</td></tr><tr><td>Joyce Marcou</td><td>Lesotho</td><td>6000</td></tr><tr><td>Andrea Groneman</td><td>Maldives</td><td>6000</td></tr><tr><td>Luminous Learning</td><td>Montserrat</td><td>6000</td></tr><tr><td>Ovetta Jackson</td><td>Mozambique</td><td>6000</td></tr><tr><td>Lifestyle DIYW \"Live Life & Do IT Your Way\"</td><td>Norfolk Island</td><td>6000</td></tr><tr><td>Traveling Chic</td><td>Rwanda</td><td>6000</td></tr><tr><td>Write Your Story | Budgeting, Healthy Lifestyle, Faith</td><td>Australia</td><td>5000</td></tr><tr><td>Andrew Martin</td><td>Bahamas</td><td>5000</td></tr><tr><td>Frozen Pennies | Sara Conklin (Coaching, Budgeting & Frugal Living)</td><td>Brazil</td><td>5000</td></tr><tr><td>The World Was Here First</td><td>Cocos (Keeling) Islands</td><td>5000</td></tr><tr><td>MENSSKULL</td><td>Cuba</td><td>5000</td></tr><tr><td>Green Willow Homestead</td><td>Dominica</td><td>5000</td></tr><tr><td>LONGANCE</td><td>Ethiopia</td><td>5000</td></tr><tr><td>Pamela Bell English</td><td>Haiti</td><td>5000</td></tr><tr><td>Krity S</td><td>Kazakhstan</td><td>5000</td></tr><tr><td>CK Travels (Travel Bloggers)</td><td>Svalbard & Jan Mayen Islands</td><td>5000</td></tr><tr><td>Kevmrc travel</td><td>Tanzania</td><td>5000</td></tr><tr><td>Ellison Made</td><td>Thailand</td><td>5000</td></tr><tr><td>Leah Newton Art</td><td>Andorra</td><td>4000</td></tr><tr><td>My Debt Epiphany | Money Making Tips | Frugal Living | Debt Free</td><td>Azerbaijan</td><td>4000</td></tr><tr><td>Visit USA Parks | Travel Blog & Inspiration</td><td>British Virgin Islands</td><td>4000</td></tr><tr><td>Melissa</td><td>Finland</td><td>4000</td></tr><tr><td>IngridZenMoments</td><td>Guinea-Bissau</td><td>4000</td></tr><tr><td>Laura- Inspire My Play | Play & Learning For Little Kids</td><td>Kenya</td><td>4000</td></tr><tr><td>Gabrielle Arruda- Fashion Inspiration And Style Tips</td><td>Korea</td><td>4000</td></tr><tr><td>DriveMag</td><td>Mexico</td><td>4000</td></tr><tr><td>Taming Little Monsters - Fun Activities for Kids</td><td>Montserrat</td><td>4000</td></tr><tr><td>Books and Bao | Travel, Culture, Books</td><td>Peru</td><td>4000</td></tr><tr><td>Not In Jersey - Mom Blog</td><td>Poland</td><td>4000</td></tr><tr><td>The Perky Pencil</td><td>Portugal</td><td>4000</td></tr><tr><td>Jenn Beth</td><td>Algeria</td><td>3000</td></tr><tr><td>rhonda_floyd</td><td>Antigua and Barbuda</td><td>3000</td></tr><tr><td>Master The Event</td><td>Austria</td><td>3000</td></tr><tr><td>Kids Crafts & Free Preschool Printables- Sharing Our Experiences</td><td>Bhutan</td><td>3000</td></tr><tr><td>THE THIRTEEN FLARES</td><td>Falkland Islands (Malvinas)</td><td>3000</td></tr><tr><td>She Draws</td><td>Finland</td><td>3000</td></tr><tr><td>Small Business Tips on Branding and Marketing.</td><td>French Polynesia</td><td>3000</td></tr><tr><td>Vanessa Ferran</td><td>Macao</td><td>3000</td></tr><tr><td>Cars In The World</td><td>Mongolia</td><td>3000</td></tr><tr><td>Coley Kuyper Art</td><td>Samoa</td><td>3000</td></tr><tr><td>Erin Waters | Elementary Education Activities & Resources</td><td>Singapore</td><td>3000</td></tr><tr><td>Sophie Watters</td><td>South Africa</td><td>3000</td></tr><tr><td>Boss in Pyjamas</td><td>Bahrain</td><td>2000</td></tr><tr><td>Cream City Flow - High End Streetwear - Better Everyday</td><td>Cambodia</td><td>2000</td></tr><tr><td>Autumn Shepardson</td><td>Egypt</td><td>2000</td></tr><tr><td>Travel-boo | Marco Santos | Portugal & Spain Travel Blogger</td><td>El Salvador</td><td>2000</td></tr><tr><td>Szikszai Szabolcs</td><td>Fiji</td><td>2000</td></tr><tr><td>Ammmvishall navyatA</td><td>Finland</td><td>2000</td></tr><tr><td>Beth Gaugler</td><td>Gabon</td><td>2000</td></tr><tr><td>Learn Play Read</td><td>Gibraltar</td><td>2000</td></tr><tr><td>Anoushka Probyn</td><td>Guernsey</td><td>2000</td></tr><tr><td>Dr. Loftin's Learning Emporium</td><td>Isle of Man</td><td>2000</td></tr><tr><td>Livelife_ArtAn</td><td>Micronesia</td><td>2000</td></tr><tr><td>Vinny and Charles Fine Jewellery</td><td>Papua New Guinea</td><td>2000</td></tr><tr><td>ForYou</td><td>Philippines</td><td>2000</td></tr><tr><td>ShanaLou Sutton</td><td>Taiwan</td><td>2000</td></tr><tr><td>Our Passion for Travel | Travel blog</td><td>Tajikistan</td><td>2000</td></tr><tr><td>Organize Ways</td><td>Wallis and Futuna</td><td>2000</td></tr><tr><td>zuby</td><td>Andorra</td><td>1000</td></tr><tr><td>DOZENLIVE</td><td>Antarctica (the territory South of 60 deg S)</td><td>1000</td></tr><tr><td>Stephanie Hoey Interiors</td><td>Bhutan</td><td>1000</td></tr><tr><td>Sunsets N Style | Lifestyle Blogger</td><td>Burkina Faso</td><td>1000</td></tr><tr><td>J** S**</td><td>Cook Islands</td><td>1000</td></tr><tr><td>Sam</td><td>Egypt</td><td>1000</td></tr><tr><td>Maggie Panning</td><td>Finland</td><td>1000</td></tr><tr><td>Orange And Magnolia Dental Studio</td><td>France</td><td>1000</td></tr><tr><td>Kathleen</td><td>Heard Island and McDonald Islands</td><td>1000</td></tr><tr><td>Shannon Difiore</td><td>Japan</td><td>1000</td></tr><tr><td>Be Beautiful India</td><td>Kuwait</td><td>1000</td></tr><tr><td>Vinyl Written</td><td>Kuwait</td><td>1000</td></tr><tr><td>Michael Linderer</td><td>Marshall Islands</td><td>1000</td></tr><tr><td>Anna Kim | Cause-Based Travel + Online Coach - My Travelanthropy</td><td>Micronesia</td><td>1000</td></tr><tr><td>Emily Foreman</td><td>Nicaragua</td><td>1000</td></tr><tr><td>Alanna | Periodic Adventures</td><td>Panama</td><td>1000</td></tr><tr><td>Abd El Hakim</td><td>Sri Lanka</td><td>1000</td></tr><tr><td>Khalifa</td><td>Togo</td><td>1000</td></tr><tr><td>GorgeChicOfficial</td><td>Congo</td><td>908</td></tr><tr><td>Kait Copeland</td><td>Saint Kitts and Nevis</td><td>904</td></tr><tr><td>Jody-Ann Rowe | Marketing Coach for Wedding Professionals</td><td>Bermuda</td><td>884</td></tr><tr><td>SportsMarket</td><td>Liechtenstein</td><td>881</td></tr><tr><td>Christopher Tipton</td><td>Tokelau</td><td>877</td></tr><tr><td>Cora Graaff</td><td>Lao People's Democratic Republic</td><td>849</td></tr><tr><td>Glow Utilities</td><td>Qatar</td><td>838</td></tr><tr><td>Mich Cam</td><td>Holy See (Vatican City State)</td><td>831</td></tr><tr><td>Kenya. Finances 101</td><td>Antigua and Barbuda</td><td>760</td></tr><tr><td>Marisol Retana T.</td><td>Antigua and Barbuda</td><td>722</td></tr><tr><td>Bhavani's Creations</td><td>Bermuda</td><td>630</td></tr><tr><td>Achaisha Hudson</td><td>Tajikistan</td><td>593</td></tr><tr><td>Taylor Kortze</td><td>Macao</td><td>583</td></tr><tr><td>Terry Bain</td><td>Greece</td><td>578</td></tr><tr><td>Alexandria Franko</td><td>Saint Barthelemy</td><td>517</td></tr><tr><td>T</td><td>Morocco</td><td>504</td></tr><tr><td>Chris Hansen</td><td>Mexico</td><td>492</td></tr><tr><td>Happy Catering n Events</td><td>Dominica</td><td>458</td></tr><tr><td>Ray Uyemura</td><td>Cocos (Keeling) Islands</td><td>437</td></tr><tr><td>Francine's Place Blog | DIY, lifestyle, creativity</td><td>Bangladesh</td><td>436</td></tr><tr><td>Elizabeth Leigh</td><td>Egypt</td><td>406</td></tr><tr><td>Megan Wagner</td><td>Belgium</td><td>387</td></tr><tr><td>hook</td><td>New Zealand</td><td>366</td></tr><tr><td>Sure Shop Unlimited</td><td>Afghanistan</td><td>361</td></tr><tr><td>Karen Atwell</td><td>Armenia</td><td>359</td></tr><tr><td>More Dollars at Home</td><td>Cape Verde</td><td>344</td></tr><tr><td>Jay Anna Fuentes</td><td>Saudi Arabia</td><td>332</td></tr><tr><td>Dearbeautyadventure</td><td>Georgia</td><td>328</td></tr><tr><td>Centered in Primary | Centers for the Elementary Classroom</td><td>Bhutan</td><td>323</td></tr><tr><td>Kara I Minimalist Wellness, Fashion, and Workouts</td><td>Malta</td><td>322</td></tr><tr><td>The Boss Depot</td><td>Honduras</td><td>319</td></tr><tr><td>Lynn</td><td>Nicaragua</td><td>316</td></tr><tr><td>Annamarie Hilton</td><td>Isle of Man</td><td>313</td></tr><tr><td>The Rustic Roundup, LLC | Style Hacks | Self Love</td><td>Bahamas</td><td>293</td></tr><tr><td>BEIMER</td><td>Poland</td><td>265</td></tr><tr><td>Lyla Childress</td><td>Niue</td><td>263</td></tr><tr><td>Financial Hustlers Club</td><td>Pitcairn Islands</td><td>255</td></tr><tr><td>Syndi Mulcahy</td><td>Trinidad and Tobago</td><td>254</td></tr><tr><td>Keitha Rankin</td><td>Serbia</td><td>248</td></tr><tr><td>Danika Lopez</td><td>Sri Lanka</td><td>244</td></tr><tr><td>Tiffany Bissell</td><td>Belize</td><td>240</td></tr><tr><td>Amanda Harris</td><td>United States Virgin Islands</td><td>240</td></tr><tr><td>Josie Moya</td><td>Saint Pierre and Miquelon</td><td>237</td></tr><tr><td>Nicole Aubin</td><td>Netherlands</td><td>228</td></tr><tr><td>M.M</td><td>Central African Republic</td><td>224</td></tr><tr><td>Edwin | Cash The Checks | Find Your Perfect Side Hustle</td><td>Saudi Arabia</td><td>223</td></tr><tr><td>Glotraveler</td><td>Somalia</td><td>217</td></tr><tr><td>Karen Red</td><td>Bolivia</td><td>213</td></tr><tr><td>Katie Prukop</td><td>Slovakia (Slovak Republic)</td><td>213</td></tr><tr><td>Malaquias Arroyo</td><td>Greece</td><td>206</td></tr><tr><td>Brittney Steel</td><td>Antarctica (the territory South of 60 deg S)</td><td>198</td></tr><tr><td>DailyDose</td><td>Norway</td><td>189</td></tr><tr><td>The Christmas Ranch</td><td>Bangladesh</td><td>184</td></tr><tr><td>Amy Dunlap</td><td>Jamaica</td><td>178</td></tr><tr><td>Carla Martin</td><td>Antigua and Barbuda</td><td>169</td></tr><tr><td>E</td><td>Monaco</td><td>167</td></tr><tr><td>Carter Jackson</td><td>Trinidad and Tobago</td><td>143</td></tr><tr><td>The Habit Flow | Social Media Design | Templates | Abstract Art</td><td>Niger</td><td>135</td></tr><tr><td>AnnaLee Kick</td><td>Papua New Guinea</td><td>112</td></tr><tr><td>Erin PatFitz Rick</td><td>Saudi Arabia</td><td>103</td></tr><tr><td>Vita Talie - Fashion Brand</td><td>Fiji</td><td>101</td></tr><tr><td>Domnique Prencipe</td><td>Benin</td><td>91</td></tr><tr><td>Sheri Weis</td><td>Turkey</td><td>76</td></tr><tr><td>Vergie Greenholt</td><td>British Virgin Islands</td><td>73</td></tr><tr><td>ThatUserNameIsAlreadyTakenT</td><td>Uganda</td><td>47</td></tr><tr><td>Addymae Rodi</td><td>Tuvalu</td><td>41</td></tr><tr><td>Kyra</td><td>Lithuania</td><td>34</td></tr><tr><td>Pamisva</td><td>United States Virgin Islands</td><td>33</td></tr><tr><td>teresa davis</td><td>United Kingdom</td><td>30</td></tr><tr><td>Neocromanyon</td><td>Djibouti</td><td>25</td></tr><tr><td>Erin Lee</td><td>Bahamas</td><td>22</td></tr><tr><td>967</td><td>India</td><td>21</td></tr><tr><td>Mccready-romero</td><td>Finland</td><td>20</td></tr><tr><td>Peter Dikhazi</td><td>Saint Barthelemy</td><td>18</td></tr><tr><td>Shaka Kai</td><td>Anguilla</td><td>7</td></tr><tr><td>Shop MCA Denver</td><td>Colombia</td><td>7</td></tr><tr><td>AJ</td><td>Iraq</td><td>7</td></tr><tr><td>Sonet Cox</td><td>Solomon Islands</td><td>6</td></tr><tr><td>Havvanur</td><td>Sudan</td><td>6</td></tr><tr><td>Barbara Mininger-morris</td><td>Macao</td><td>5</td></tr><tr><td>Angelina Rodriguez</td><td>Saint Barthelemy</td><td>5</td></tr><tr><td>Justus Kay</td><td>Uganda</td><td>5</td></tr><tr><td>Humiara Begum</td><td>Congo</td><td>1</td></tr><tr><td>Marc</td><td>Djibouti</td><td>1</td></tr><tr><td>estiven hanagaki</td><td>Algeria</td><td>0</td></tr><tr><td>Robynwitbooi</td><td>Georgia</td><td>0</td></tr><tr><td>Sol</td><td>New Caledonia</td><td>0</td></tr><tr><td>Grecia Perales</td><td>Tonga</td><td>0</td></tr><tr><td>User Info Error</td><td>Albania</td><td>null</td></tr></tbody></table></div>"
      ]
     },
     "metadata": {
      "application/vnd.databricks.v1+output": {
       "addedWidgets": {},
       "aggData": [],
       "aggError": "",
       "aggOverflow": false,
       "aggSchema": [],
       "aggSeriesLimitReached": false,
       "aggType": "",
       "arguments": {},
       "columnCustomDisplayInfos": {},
       "data": [
        [
         "Mamas Uncut",
         "American Samoa",
         8000000
        ],
        [
         "Tastemade",
         "Angola",
         8000000
        ],
        [
         "Style Me Pretty",
         "Azerbaijan",
         6000000
        ],
        [
         "Behance",
         "Burkina Faso",
         6000000
        ],
        [
         "The Minds Journal",
         "Albania",
         5000000
        ],
        [
         "Apartment Therapy",
         "Algeria",
         5000000
        ],
        [
         "BuzzFeed",
         "American Samoa",
         5000000
        ],
        [
         "POPSUGAR",
         "Bouvet Island (Bouvetoya)",
         5000000
        ],
        [
         "Ruffled",
         "Comoros",
         4000000
        ],
        [
         "imgur",
         "Guam",
         4000000
        ],
        [
         "Ugly Duckling House | DIY, Home, Woodworking, Crafts & Recipes",
         "United States Virgin Islands",
         4000000
        ],
        [
         "Inspired by Charm",
         "Uganda",
         3000000
        ],
        [
         "Walmart",
         "Afghanistan",
         2000000
        ],
        [
         "Blossom",
         "Afghanistan",
         2000000
        ],
        [
         "Bored Panda",
         "Albania",
         2000000
        ],
        [
         "wikiHow",
         "American Samoa",
         2000000
        ],
        [
         "Cheezburger",
         "Argentina",
         2000000
        ],
        [
         "Taste of Home",
         "Azerbaijan",
         2000000
        ],
        [
         "Catch My Party",
         "Cambodia",
         2000000
        ],
        [
         "Martha Stewart Living",
         "Costa Rica",
         2000000
        ],
        [
         "The Educators' Spin On It",
         "Greenland",
         2000000
        ],
        [
         "Country Living Magazine",
         "Antigua and Barbuda",
         1000000
        ],
        [
         "SOCIETY19",
         "Azerbaijan",
         1000000
        ],
        [
         "InStyle",
         "Cayman Islands",
         1000000
        ],
        [
         "Cuded Art & Design",
         "Cuba",
         1000000
        ],
        [
         "Ana White",
         "Russian Federation",
         1000000
        ],
        [
         "DIY Joy - Crafts, Home Improvement, Decor & Recipes",
         "Afghanistan",
         985000
        ],
        [
         "Homedit.com",
         "Guatemala",
         965000
        ],
        [
         "Stylecaster",
         "Afghanistan",
         960000
        ],
        [
         "Handmade Charlotte",
         "Bahamas",
         948000
        ],
        [
         "YourTango",
         "Algeria",
         942000
        ],
        [
         "The Best Ideas for Kids",
         "Andorra",
         903000
        ],
        [
         "ZAFUL",
         "Mongolia",
         893000
        ],
        [
         "Michelle {CraftyMorning.com}",
         "Armenia",
         892000
        ],
        [
         "GQ Magazine",
         "Aruba",
         874000
        ],
        [
         "PureWow",
         "Central African Republic",
         868000
        ],
        [
         "Next Luxury",
         "Argentina",
         800000
        ],
        [
         "SheKnows",
         "Algeria",
         787000
        ],
        [
         "TheUnstitchd",
         "Afghanistan",
         723000
        ],
        [
         "Marla Meridith",
         "Pitcairn Islands",
         671000
        ],
        [
         "One Kindesign",
         "Aruba",
         657000
        ],
        [
         "Prudent Penny Pincher - Home Decor, Organization, Crafts, Recipes",
         "Belarus",
         648000
        ],
        [
         "Latest Hairstyles",
         "Korea",
         627000
        ],
        [
         "ArchitectureArtDesigns",
         "Armenia",
         616000
        ],
        [
         "Mens Fashion - LIFESTYLE BY PS ",
         "Algeria",
         613000
        ],
        [
         "A Piece of Rainbow",
         "Bulgaria",
         603000
        ],
        [
         "Blusher",
         "Cambodia",
         583000
        ],
        [
         "Fiverr",
         "Afghanistan",
         565000
        ],
        [
         "Mom Junction",
         "Cote d'Ivoire",
         565000
        ],
        [
         "Homesthetics.net",
         "American Samoa",
         556000
        ],
        [
         "Happy Hooligans - Crafts and Activities for Kids",
         "Liberia",
         550000
        ],
        [
         "Byrdie",
         "American Samoa",
         538000
        ],
        [
         "CraftGossip.com",
         "Angola",
         502000
        ],
        [
         "HikenDip",
         "Antarctica (the territory South of 60 deg S)",
         501000
        ],
        [
         "WeAreTeachers",
         "Albania",
         500000
        ],
        [
         "It's Always Autumn",
         "American Samoa",
         498000
        ],
        [
         "The Everygirl",
         "Angola",
         496000
        ],
        [
         "Real Men Real Style",
         "Heard Island and McDonald Islands",
         487000
        ],
        [
         "One Little Project",
         "Albania",
         472000
        ],
        [
         "Clean and Scentsible",
         "Costa Rica",
         465000
        ],
        [
         "Hand Luggage Only",
         "Algeria",
         459000
        ],
        [
         "Parents",
         "Maldives",
         416000
        ],
        [
         "The Creativity Exchange",
         "Barbados",
         410000
        ],
        [
         "epicurious",
         "Norway",
         409000
        ],
        [
         "Only In Your State",
         "Antigua and Barbuda",
         401000
        ],
        [
         "Thirty Handmade Days",
         "Greece",
         397000
        ],
        [
         "The Design Files",
         "Congo",
         389000
        ],
        [
         "Stylesatlife",
         "Bosnia and Herzegovina",
         388000
        ],
        [
         "Suburban Men",
         "Bangladesh",
         383000
        ],
        [
         "The Cottage Market",
         "Albania",
         364000
        ],
        [
         "Rainy Day Mum",
         "Bahrain",
         337000
        ],
        [
         "Alea Milham | Premeditated Leftovers",
         "Bahrain",
         332000
        ],
        [
         "Passion For Savings",
         "Maldives",
         330000
        ],
        [
         "Kris - Driven by Decor",
         "Belarus",
         323000
        ],
        [
         "Planning Playtime",
         "Azerbaijan",
         322000
        ],
        [
         "Something Turquoise",
         "Belarus",
         312000
        ],
        [
         "Liz Marie",
         "Costa Rica",
         309000
        ],
        [
         "Tracie Kiernan | Step By Step Painting |",
         "Netherlands",
         308000
        ],
        [
         "Listotic - Easy Ideas | Fun DIY Projects | Easy Recipes | Lists",
         "Cuba",
         307000
        ],
        [
         "El Hombre",
         "Djibouti",
         307000
        ],
        [
         "Relationship Rules",
         "Argentina",
         296000
        ],
        [
         "Nourish Move Love | Home Workouts",
         "Azerbaijan",
         292000
        ],
        [
         "Instrupix | Lilly Childers",
         "Djibouti",
         275000
        ],
        [
         "Michelle | Brown Eyed Baker",
         "Niue",
         271000
        ],
        [
         "Easy Kids Crafts & Activities | Preschool & Kindergarten Ideas",
         "Belize",
         267000
        ],
        [
         "Arty Crafty Kids",
         "Barbados",
         252000
        ],
        [
         "Diply",
         "Austria",
         251000
        ],
        [
         "Design Rulz",
         "British Indian Ocean Territory (Chagos Archipelago)",
         248000
        ],
        [
         "Homes To Love AU",
         "Netherlands",
         247000
        ],
        [
         "Kitchen Fun With My 3 Sons",
         "British Virgin Islands",
         245000
        ],
        [
         "Kimberly West (a girl and a glue gun)",
         "Bolivia",
         243000
        ],
        [
         "Sweet Red Poppy Free Sewing Patterns, Cut Files & Craft Tutorials",
         "French Guiana",
         241000
        ],
        [
         "ArtsyCraftsyMom | Art, Craft & DIY ideas",
         "Albania",
         229000
        ],
        [
         "Iva A. Ursano Amazing Me Movement",
         "Algeria",
         228000
        ],
        [
         "Essence Magazine",
         "Bouvet Island (Bouvetoya)",
         227000
        ],
        [
         "Glued To My Crafts",
         "Chad",
         226000
        ],
        [
         "The Kitchen Table Classroom",
         "Bahamas",
         221000
        ],
        [
         "Power of Positivity",
         "El Salvador",
         221000
        ],
        [
         "Iowa Girl Eats",
         "Malta",
         219000
        ],
        [
         "Stephanie - Somewhat Simple",
         "French Guiana",
         214000
        ],
        [
         "TheTrendSpotter",
         "Aruba",
         211000
        ],
        [
         "Miss Mustard Seed | Minnesota Home Decor Blogger & Influencer",
         "American Samoa",
         208000
        ],
        [
         "Susie Allison | Busy Toddler",
         "Georgia",
         203000
        ],
        [
         "Living on a Dime to Grow Rich",
         "Nepal",
         197000
        ],
        [
         "Becky Mansfield - YourModernFamily ",
         "Comoros",
         196000
        ],
        [
         "The Crafting Chicks",
         "Cote d'Ivoire",
         192000
        ],
        [
         "Our Mindful Life",
         "Andorra",
         190000
        ],
        [
         "The Mighty",
         "Grenada",
         185000
        ],
        [
         "Sand and Sisal",
         "Cape Verde",
         178000
        ],
        [
         "123 Homeschool 4 Me",
         "Armenia",
         176000
        ],
        [
         "This Reading Mama",
         "Armenia",
         175000
        ],
        [
         "Educational Technology and Mobile Learning",
         "Egypt",
         172000
        ],
        [
         "vintagetopia",
         "Saint Kitts and Nevis",
         171000
        ],
        [
         "EsB Journal",
         "French Polynesia",
         168000
        ],
        [
         "Snappy Gourmet",
         "Namibia",
         168000
        ],
        [
         "Happiness is Homemade | Crafts, Printables, Party Ideas, & More!",
         "India",
         167000
        ],
        [
         "Women.com",
         "Afghanistan",
         166000
        ],
        [
         "Your Positive Oasis | Motivation| Inspiration| Wellness",
         "Lebanon",
         163000
        ],
        [
         "Kristina Buskirk | Toddler Approved",
         "Guinea-Bissau",
         160000
        ],
        [
         "miss coco",
         "Libyan Arab Jamahiriya",
         157000
        ],
        [
         "Jordan Page | Fun Cheap or Free",
         "Colombia",
         152000
        ],
        [
         "Twelve On Main",
         "Canada",
         142000
        ],
        [
         "CafeMom",
         "Bolivia",
         139000
        ],
        [
         "LonerWolf | Spiritual Awakening + Soul Guidance",
         "Antigua and Barbuda",
         138000
        ],
        [
         "Mommypotamus | Health and Wellness ",
         "Cote d'Ivoire",
         138000
        ],
        [
         "momooze | Lifestyle Brand for Moms",
         "Burkina Faso",
         135000
        ],
        [
         "Live Like You Are Rich | Finances, Pregnancy, Recipes & More",
         "Croatia",
         134000
        ],
        [
         "Cars Zone",
         "Guinea",
         134000
        ],
        [
         "REDBOOK Magazine",
         "Bahrain",
         133000
        ],
        [
         "Craft-Mart",
         "Armenia",
         132000
        ],
        [
         "Fun Life Crisis",
         "Algeria",
         130000
        ],
        [
         "Katepickle - picklebums - fun ideas for families",
         "Djibouti",
         130000
        ],
        [
         "Shaunna @ Fantastic Fun and Learning",
         "Algeria",
         128000
        ],
        [
         "Kid Friendly Things To Do",
         "Djibouti",
         127000
        ],
        [
         "Meaningful Mama",
         "Costa Rica",
         125000
        ],
        [
         "Balloons_worldwides",
         "Somalia",
         118000
        ],
        [
         "MojisStyle",
         "Albania",
         117000
        ],
        [
         "Stephanie Lynn",
         "Puerto Rico",
         116000
        ],
        [
         "Hello Lovely",
         "France",
         115000
        ],
        [
         "Penny Pinchin Mom |  Budget, Get out of Debt, Save Money & More!",
         "Benin",
         113000
        ],
        [
         "Man of Many",
         "Cameroon",
         112000
        ],
        [
         "MomAdvice",
         "Madagascar",
         112000
        ],
        [
         "The Work at Home Woman",
         "Aruba",
         110000
        ],
        [
         "The Keeper of the Cheerios",
         "Burundi",
         109000
        ],
        [
         "This Tiny  Blue House",
         "Argentina",
         108000
        ],
        [
         "Dagmar Bleasdale {Dagmar's Home}",
         "Argentina",
         105000
        ],
        [
         "The Crazy Craft Lady",
         "Central African Republic",
         105000
        ],
        [
         "Wonder Forest",
         "Dominican Republic",
         104000
        ],
        [
         "Maria Killam",
         "British Virgin Islands",
         102000
        ],
        [
         "Decluttering Your Life",
         "Cuba",
         102000
        ],
        [
         "Stacy Risenmay",
         "Cote d'Ivoire",
         100000
        ],
        [
         "Fres Houz",
         "Haiti",
         100000
        ],
        [
         "Kristen | Lifestyle, Mom Tips & Teacher Stuff Blog",
         "Anguilla",
         92000
        ],
        [
         "Avenly Lane Travel blog | Travel Inspiration | Beautiful Places",
         "Christmas Island",
         91000
        ],
        [
         "The World Pursuit Travel Website",
         "Austria",
         89000
        ],
        [
         "Jackie | I Heart Arts N Crafts",
         "Bosnia and Herzegovina",
         89000
        ],
        [
         "TheSuperBOO!",
         "Gibraltar",
         89000
        ],
        [
         "He and She Eat Clean",
         "Congo",
         88000
        ],
        [
         "Angela Watson's Truth for Teachers",
         "Gabon",
         88000
        ],
        [
         "Hearth and Vine",
         "Myanmar",
         88000
        ],
        [
         "Hey Let's Make Stuff",
         "Singapore",
         88000
        ],
        [
         "The Chalkboard Mag",
         "Isle of Man",
         87000
        ],
        [
         "The Adult Man - Practical Men's Fashion & Lifestyle Advice",
         "Japan",
         87000
        ],
        [
         "Thank Your Body",
         "Anguilla",
         85000
        ],
        [
         "Made to be a Momma",
         "Cameroon",
         85000
        ],
        [
         "Menucha - Moms and Crafters",
         "Guatemala",
         85000
        ],
        [
         "LABONNI",
         "Ecuador",
         84000
        ],
        [
         "Stacey Collins | Wilshire Collections",
         "Albania",
         79000
        ],
        [
         "Amee",
         "Finland",
         79000
        ],
        [
         "Pam from Over the Big Moon",
         "Guinea",
         79000
        ],
        [
         "War History Online",
         "Bahamas",
         78000
        ],
        [
         "Weed 'em & Reap",
         "Hungary",
         77000
        ],
        [
         "Kat Sullivan | Marketing Solved | Entrepreneur",
         "Maldives",
         77000
        ],
        [
         "Teaching With a Mountain View",
         "Afghanistan",
         76000
        ],
        [
         "Craftsy Hacks",
         "Bolivia",
         76000
        ],
        [
         "Christina Maria - DIY Home Improvement + Decor",
         "Kazakhstan",
         75000
        ],
        [
         "Classic Nation",
         "South Georgia and the South Sandwich Islands",
         75000
        ],
        [
         "The Merrythought",
         "Lebanon",
         74000
        ],
        [
         "THE HUST",
         "Andorra",
         73000
        ],
        [
         "Kippi at Home",
         "Bahamas",
         73000
        ],
        [
         "Happy Toddler Playtime",
         "Belgium",
         73000
        ],
        [
         "Jumprope",
         "Cameroon",
         72000
        ],
        [
         "Gathering Dreams | Do What You Love",
         "Aruba",
         71000
        ],
        [
         "Suburban Simplicity",
         "Guatemala",
         71000
        ],
        [
         "She Gave It A Go| Faith Family Farmhouse",
         "Bolivia",
         68000
        ],
        [
         "eFavormart | One-Stop Shop for Wedding, Party & Event Supplies!",
         "Saint Kitts and Nevis",
         68000
        ],
        [
         "Curated Interior",
         "Bolivia",
         67000
        ],
        [
         "Monique - Living Life and Learning",
         "Dominica",
         67000
        ],
        [
         "Norma Smith",
         "Ecuador",
         67000
        ],
        [
         "Natalie Bacon | NatalieBacon.com",
         "Bangladesh",
         66000
        ],
        [
         "El blog amarillo",
         "Tunisia",
         66000
        ],
        [
         "MotorTrend",
         "Aruba",
         65000
        ],
        [
         "The Cards We Drew",
         "Congo",
         64000
        ],
        [
         "JDaniel4's Mom",
         "Kuwait",
         63000
        ],
        [
         "Literacy and Math Ideas",
         "Sudan",
         63000
        ],
        [
         "Homemade For Elle",
         "Cameroon",
         61000
        ],
        [
         "Sweet T Makes Three",
         "Netherlands Antilles",
         61000
        ],
        [
         "Girl Crafts",
         "Anguilla",
         60000
        ],
        [
         "The Practical Saver | Save Money",
         "Argentina",
         60000
        ],
        [
         "The Skinny Confidential",
         "Norfolk Island",
         60000
        ],
        [
         "Primer",
         "Aruba",
         59000
        ],
        [
         "The Techie Teacher",
         "Bulgaria",
         59000
        ],
        [
         "To Vogue or Bust",
         "Korea",
         59000
        ],
        [
         "The Classroom Key",
         "Burundi",
         58000
        ],
        [
         "My Bored Toddler",
         "Sweden",
         58000
        ],
        [
         "GenTwenty | Personal Growth, Self-Care, and Money",
         "Cote d'Ivoire",
         57000
        ],
        [
         "Jessi Fearon | Debt-Free Living",
         "Croatia",
         57000
        ],
        [
         "Thriving Home",
         "American Samoa",
         56000
        ],
        [
         "Pathway 2 Success",
         "Angola",
         56000
        ],
        [
         "Chelsea Johnson  | Life With My Littles",
         "Bhutan",
         56000
        ],
        [
         "The Painted Hinge",
         "Congo",
         55000
        ],
        [
         "Jessica Autumn Planners | Free Printables + Digital Planners",
         "El Salvador",
         54000
        ],
        [
         "Happily Ever After Etc",
         "Bulgaria",
         53000
        ],
        [
         "Jennifer@The Intentional Mom",
         "China",
         53000
        ],
        [
         "The Links Site",
         "Cambodia",
         51000
        ],
        [
         "From the Pond",
         "Cameroon",
         51000
        ],
        [
         "Tim Adam - Car Enthusiast",
         "Aruba",
         49000
        ],
        [
         "Smart Cents Mom",
         "Benin",
         49000
        ],
        [
         "Her Way",
         "Antarctica (the territory South of 60 deg S)",
         48000
        ],
        [
         "Jasmine | Feeling Nifty | Acrylic Painting Tutorials, Ideas &More",
         "Aruba",
         48000
        ],
        [
         "The Honeycomb Home",
         "Dominica",
         48000
        ],
        [
         "Michael Friermood",
         "Germany",
         48000
        ],
        [
         "craftberry bush",
         "Afghanistan",
         47000
        ],
        [
         "Follow Me Away",
         "Bouvet Island (Bouvetoya)",
         47000
        ],
        [
         "Evolution of Style",
         "United States of America",
         47000
        ],
        [
         "Rishit || Gravetics",
         "Comoros",
         46000
        ],
        [
         "Cool Things- Drawing Ideas , Fashion ,Beautiy and Home Decor",
         "Mauritius",
         46000
        ],
        [
         "Boss Babe Chronicles | Personal Development, Finances, Self Care",
         "Algeria",
         45000
        ],
        [
         "Hairs Out of Place",
         "Albania",
         44000
        ],
        [
         "A Blossoming Life DIY Projects + Recipes +     Natural Living",
         "Moldova",
         44000
        ],
        [
         "Thrive Causemetics",
         "Maldives",
         43000
        ],
        [
         "Caroline|CarolineVencil.com | Saving & Making Money | Pro Blogger",
         "Algeria",
         42000
        ],
        [
         "TheFab20s | Travel+Food+DIY+Listicles",
         "American Samoa",
         42000
        ],
        [
         "THE INDIAN GENT - Grooming, Style, Fitness",
         "Chad",
         42000
        ],
        [
         "Chloe Crabtree | Celebrate & Decorate",
         "El Salvador",
         42000
        ],
        [
         "Teach Create Motivate",
         "Fiji",
         41000
        ],
        [
         "Designing Vibes",
         "Cyprus",
         40000
        ],
        [
         "Tastefully Frugal",
         "Turkey",
         40000
        ],
        [
         "SouthBound Bride",
         "Sweden",
         38000
        ],
        [
         "RACHEL JOY  |  DIY + HOME",
         "Austria",
         37000
        ],
        [
         "Joyfully Growing Blog | All things DIY + home decor, budget friendly hacks, & blogging tips",
         "Bangladesh",
         37000
        ],
        [
         "A Wonderful Thought",
         "Bosnia and Herzegovina",
         37000
        ],
        [
         "solosophie",
         "Gibraltar",
         37000
        ],
        [
         "JESSICA SARA MORRIS | HOME DECOR + DIY ON A BUDGET",
         "Argentina",
         36000
        ],
        [
         "Melanie| Frugal Living | Millennial Money| Believer",
         "Bouvet Island (Bouvetoya)",
         36000
        ],
        [
         "CarGurus",
         "Bulgaria",
         35000
        ],
        [
         "Art & Home",
         "Croatia",
         35000
        ],
        [
         "Seasons Of My Home",
         "Korea",
         35000
        ],
        [
         "Lipgloss & Crayons / Parenting Tips, Mommy and Me Style, Casual Outfit Posts, and Toddler Life",
         "Botswana",
         34000
        ],
        [
         "My 100 Year Old home",
         "Austria",
         33000
        ],
        [
         "Find Us Lost | A Travel Blog",
         "Congo",
         33000
        ],
        [
         "Yourwillbearwitness",
         "Iran",
         33000
        ],
        [
         "Alpha Male Blueprint",
         "Solomon Islands",
         33000
        ],
        [
         "Southern Savers - Jenny",
         "Andorra",
         32000
        ],
        [
         "Giggles Galore",
         "Bulgaria",
         32000
        ],
        [
         "TattooMagz",
         "Guernsey",
         32000
        ],
        [
         "Emily Lightly",
         "Taiwan",
         32000
        ],
        [
         "HALFTEE Layering Fashions",
         "Zambia",
         32000
        ],
        [
         "Breezy Special Ed",
         "Aruba",
         31000
        ],
        [
         "Saving Money with Frugality Magazine",
         "Azerbaijan",
         31000
        ],
        [
         "Simple Lionheart Life",
         "Comoros",
         31000
        ],
        [
         "Home with Holliday",
         "Mayotte",
         31000
        ],
        [
         "Miss PlanIt",
         "Afghanistan",
         30000
        ],
        [
         "The Klog",
         "Benin",
         30000
        ],
        [
         "Rocky Hedge Farm - Simple Life | Simple Home",
         "Bermuda",
         30000
        ],
        [
         "She Holds Dearly",
         "Bosnia and Herzegovina",
         30000
        ],
        [
         "GrowingSlower",
         "Guatemala",
         30000
        ],
        [
         "Salt in our Hair",
         "Belarus",
         29000
        ],
        [
         "Fizzm",
         "Ireland",
         29000
        ],
        [
         "Jasminxg",
         "Isle of Man",
         29000
        ],
        [
         "Creative Boom",
         "Monaco",
         29000
        ],
        [
         "Vanessa Berlin",
         "Angola",
         28000
        ],
        [
         "LLEGANCE | Workwear Fashion Woman Advice For Driven Professionals",
         "Australia",
         28000
        ],
        [
         "Nicki ",
         "Barbados",
         28000
        ],
        [
         "It's me, JD | DIY, Crafts, Home & Organization",
         "Afghanistan",
         27000
        ],
        [
         "Oyster.com | Hotel Reviews and Travel Tips",
         "Bahamas",
         27000
        ],
        [
         "Shawn Petite",
         "Congo",
         27000
        ],
        [
         "Holly Johnson (Club Thrifty)",
         "Finland",
         27000
        ],
        [
         "PutTheKettleOn | Self Care & Personal Growth For a Life You Love",
         "Somalia",
         27000
        ],
        [
         "CARA NEWHART [never skip brunch]",
         "Canada",
         26000
        ],
        [
         "FOURLINE DESIGN | Home Decor & Accessories",
         "Kenya",
         26000
        ],
        [
         "Offroadium.com - Offroad, Lifted Trucks & 4x4",
         "Afghanistan",
         25000
        ],
        [
         "The Arty Teacher",
         "Armenia",
         25000
        ],
        [
         "A Kinderteacher Life",
         "Cambodia",
         25000
        ],
        [
         "One Hand in my Pocket",
         "Croatia",
         25000
        ],
        [
         "Lantern Lane Designs|Home Decor|DIY Projects|DIY Home Decor",
         "Cyprus",
         25000
        ],
        [
         "Journey Era | Fun Adventure",
         "Cote d'Ivoire",
         24000
        ],
        [
         "Yami @ The Latina Next Door | Blogger | DIY | Budget Friendly Home Decor | Recipes |  Latina",
         "Haiti",
         24000
        ],
        [
         "Latoya | Life and a Budget",
         "Indonesia",
         24000
        ],
        [
         "Nicole @ The Inspired Hive | DIY + Home Decor",
         "American Samoa",
         22000
        ],
        [
         "ManTripping",
         "Armenia",
         22000
        ],
        [
         "Jess Wandering",
         "Australia",
         22000
        ],
        [
         "RD's Obsessions",
         "Bahrain",
         22000
        ],
        [
         "Primary Playground",
         "British Virgin Islands",
         22000
        ],
        [
         "Upcycle My Stuff - DIY Projects | Repurposing | Upcycling",
         "Moldova",
         22000
        ],
        [
         "Kelley Vivian | New England Landscape Original Art & Prints",
         "Antigua and Barbuda",
         21000
        ],
        [
         "Learn in Color",
         "Benin",
         21000
        ],
        [
         "GirlGetGlamorous",
         "Italy",
         21000
        ],
        [
         "ALL FOR WOMAN",
         "Seychelles",
         21000
        ],
        [
         "Projects with Kids",
         "Albania",
         20000
        ],
        [
         "Kristin Larsen | Side Hustle + Make Money",
         "Barbados",
         20000
        ],
        [
         "Trade Brains",
         "Israel",
         20000
        ],
        [
         "Outfit Ideas HQ",
         "Kenya",
         20000
        ],
        [
         "Husskie",
         "New Caledonia",
         20000
        ],
        [
         "Inspirethemom",
         "Australia",
         19000
        ],
        [
         "Karibikfruechtchen",
         "Austria",
         19000
        ],
        [
         "Dream Dash Journal",
         "British Virgin Islands",
         19000
        ],
        [
         "Stephanie Trapp | Primary Theme Park",
         "Cape Verde",
         19000
        ],
        [
         "Rookie Moms",
         "China",
         19000
        ],
        [
         "Wanderlust Crew",
         "Greenland",
         19000
        ],
        [
         "Financial Toolkit",
         "Jamaica",
         19000
        ],
        [
         "THE GINGER HOME  Interior Design, DIY & Lifestyle Tips",
         "Aruba",
         18000
        ],
        [
         "Fabbon",
         "India",
         18000
        ],
        [
         "Satsuma Designs | Make + Sew + Teach",
         "Maldives",
         18000
        ],
        [
         "Wealthy Nickel | Make Money, Save Money, Passive Income, Invest",
         "Dominican Republic",
         17000
        ],
        [
         "Eyes On Walls",
         "Japan",
         17000
        ],
        [
         "Simple Money Mom | Saving Money, Budgeting Tips, and Frugal Living",
         "Bhutan",
         16000
        ],
        [
         "Grandmar Mice",
         "San Marino",
         16000
        ],
        [
         "Darling Darleen",
         "Bangladesh",
         15000
        ],
        [
         "Our Escape Clause l Travel in Europe & Beyond",
         "Cayman Islands",
         15000
        ],
        [
         "DollarSanity",
         "Ethiopia",
         15000
        ],
        [
         "Leanne | Midlife Blogger at www.crestingthehill.com.au",
         "Vietnam",
         15000
        ],
        [
         "Glamhues",
         "Afghanistan",
         14000
        ],
        [
         "Esavingsblog",
         "Azerbaijan",
         14000
        ],
        [
         "Spiretime",
         "Bermuda",
         14000
        ],
        [
         "CriticEye | Make Money Online Strategies and Tools Suggestions |",
         "Christmas Island",
         14000
        ],
        [
         "Sunshine Whispers",
         "France",
         14000
        ],
        [
         "Avenly Lane | Beauty, Fashion & Travel Inspiration",
         "Malawi",
         14000
        ],
        [
         "Jeep Wrangler Outpost",
         "Somalia",
         14000
        ],
        [
         "The Comprehensible Classroom by Martina Bex",
         "Aruba",
         13000
        ],
        [
         "Rachel_thePondsFarmhouse",
         "Belgium",
         13000
        ],
        [
         "Beginner Bookkeeping",
         "Bhutan",
         13000
        ],
        [
         "Michele Noh",
         "Cyprus",
         13000
        ],
        [
         "Morgan |  Modernly Morgan",
         "Estonia",
         13000
        ],
        [
         "Lisa Homsy",
         "Grenada",
         13000
        ],
        [
         "myclickjournal | Online Business, College & Budget Travel Tips",
         "Heard Island and McDonald Islands",
         13000
        ],
        [
         "Intentionally Designed",
         "Hong Kong",
         13000
        ],
        [
         "Dashing Darlin' ",
         "Marshall Islands",
         13000
        ],
        [
         "Two Southern Sweeties | Life After 50 + Second Act Lifestyle",
         "Morocco",
         13000
        ],
        [
         "My Baba",
         "Botswana",
         12000
        ],
        [
         "Five Foot Feminine | Petite Style Blog + Home Decor",
         "Nicaragua",
         12000
        ],
        [
         "Renee Slansky  Dating + Relationship Coach -The Dating Directory ",
         "United States Virgin Islands",
         12000
        ],
        [
         "Traci Bender - The Bender Bunch",
         "Aruba",
         11000
        ],
        [
         "Homeschool Hideout",
         "Bangladesh",
         11000
        ],
        [
         "Budgets Are Sexy | Save Money + Grow Your Net Worth",
         "British Indian Ocean Territory (Chagos Archipelago)",
         11000
        ],
        [
         "WranglerForum.com",
         "Christmas Island",
         11000
        ],
        [
         "Lists For All",
         "Egypt",
         11000
        ],
        [
         "Veterans United Home Loans",
         "Faroe Islands",
         11000
        ],
        [
         "CollectorCarAds.com",
         "Slovakia (Slovak Republic)",
         11000
        ],
        [
         "Shaadi Fever",
         "Cyprus",
         10000
        ],
        [
         "Tim Guan",
         "Japan",
         10000
        ],
        [
         "Southern Productions Weddings & Events | MS Wedding Planner",
         "Thailand",
         10000
        ],
        [
         "No Hurry To Get Home",
         "Armenia",
         9000
        ],
        [
         "Linda On The Run",
         "Aruba",
         9000
        ],
        [
         "EventMB",
         "Austria",
         9000
        ],
        [
         "Emily | Wander-Lush Travel Blog",
         "Belize",
         9000
        ],
        [
         "RoyalRestrooms",
         "British Virgin Islands",
         9000
        ],
        [
         "OUR NEXT ADVENTURE | family travel blog",
         "Christmas Island",
         9000
        ],
        [
         "Kelsey Bang",
         "Ecuador",
         9000
        ],
        [
         "Young Adult Money",
         "Grenada",
         9000
        ],
        [
         "Eryn Whalen | Health, Home Decor, Lifstyle",
         "Luxembourg",
         9000
        ],
        [
         "Land Rover USA",
         "Nicaragua",
         9000
        ],
        [
         "Soberbadassery | Your Free Online Guide To Sober Living ",
         "Romania",
         9000
        ],
        [
         "Montgo Farmhouse",
         "Saint Martin",
         9000
        ],
        [
         "Passports and Grub",
         "Antigua and Barbuda",
         8000
        ],
        [
         "Jen | Save to Splurge",
         "Argentina",
         8000
        ],
        [
         "Jiew82633",
         "Armenia",
         8000
        ],
        [
         "Gift Ideas Corner",
         "Bangladesh",
         8000
        ],
        [
         "Adapting for Autism | Resources for Special Education Classrooms",
         "Bosnia and Herzegovina",
         8000
        ],
        [
         "GirlTalkwithFo | Debt Payoff | Budgeting & Make Money Tips",
         "Bosnia and Herzegovina",
         8000
        ],
        [
         "Strong with Purpose | Healing & Intuitive Living",
         "Burkina Faso",
         8000
        ],
        [
         "hobbyDB",
         "Jamaica",
         8000
        ],
        [
         "Lora Bloomquist Create and Ponder",
         "Kazakhstan",
         8000
        ],
        [
         "MOMtivational // Parenting + Pregnancy + More",
         "Kiribati",
         8000
        ],
        [
         "Function of Beauty",
         "Lesotho",
         8000
        ],
        [
         "Trendy Socialite",
         "Mexico",
         8000
        ],
        [
         "Tanya Yero Teaching",
         "Monaco",
         8000
        ],
        [
         "Satya Jewelry",
         "Niue",
         8000
        ],
        [
         "Dare to Cultivate",
         "Burkina Faso",
         7000
        ],
        [
         "Simply Wander | Family Friendly Travel Guides",
         "Burkina Faso",
         7000
        ],
        [
         "MeninSuits",
         "Chile",
         7000
        ],
        [
         "Todd | Financial Mentor",
         "Czech Republic",
         7000
        ],
        [
         "Men top fashion",
         "Greece",
         7000
        ],
        [
         "A CENTSational Life | Make Money, Save Money, Live Your Best Life",
         "Indonesia",
         7000
        ],
        [
         "Lauren - The Write Budget",
         "Kiribati",
         7000
        ],
        [
         "Mary",
         "Macedonia",
         7000
        ],
        [
         "Kim Cook-Thirteen Chairs-Slates Mugs And Tees",
         "Netherlands Antilles",
         7000
        ],
        [
         "Blanca Rosado-Diaz",
         "Paraguay",
         7000
        ],
        [
         "Bernadette Balla | Spirituality, Healing, Growth & Inspiration",
         "Paraguay",
         7000
        ],
        [
         "Alex Mims",
         "Venezuela",
         7000
        ],
        [
         "Birch Event Design",
         "Andorra",
         6000
        ],
        [
         "Tim Koleno Jr.",
         "Andorra",
         6000
        ],
        [
         "Joel Dropships | Branded Dropshipping For Beginners 2022",
         "Angola",
         6000
        ],
        [
         "Cola42986",
         "Aruba",
         6000
        ],
        [
         "SAHYA",
         "Australia",
         6000
        ],
        [
         "McKenzy Potter | Parenting Tips & Hacks  + Budgeting Tips",
         "Azerbaijan",
         6000
        ],
        [
         "Sports Car Digest",
         "British Virgin Islands",
         6000
        ],
        [
         "Lindsay Ann Learning | High School English Activities ",
         "Congo",
         6000
        ],
        [
         "TATEMS",
         "Guinea-Bissau",
         6000
        ],
        [
         "Billonaire dreamz",
         "Lebanon",
         6000
        ],
        [
         "Joyce Marcou",
         "Lesotho",
         6000
        ],
        [
         "Andrea Groneman",
         "Maldives",
         6000
        ],
        [
         "Luminous Learning",
         "Montserrat",
         6000
        ],
        [
         "Ovetta Jackson",
         "Mozambique",
         6000
        ],
        [
         "Lifestyle DIYW \"Live Life & Do IT Your Way\"",
         "Norfolk Island",
         6000
        ],
        [
         "Traveling Chic",
         "Rwanda",
         6000
        ],
        [
         "Write Your Story | Budgeting, Healthy Lifestyle, Faith",
         "Australia",
         5000
        ],
        [
         "Andrew Martin",
         "Bahamas",
         5000
        ],
        [
         "Frozen Pennies | Sara Conklin (Coaching, Budgeting & Frugal Living)",
         "Brazil",
         5000
        ],
        [
         "The World Was Here First",
         "Cocos (Keeling) Islands",
         5000
        ],
        [
         "MENSSKULL",
         "Cuba",
         5000
        ],
        [
         "Green Willow Homestead",
         "Dominica",
         5000
        ],
        [
         "LONGANCE",
         "Ethiopia",
         5000
        ],
        [
         "Pamela Bell English",
         "Haiti",
         5000
        ],
        [
         "Krity S",
         "Kazakhstan",
         5000
        ],
        [
         "CK Travels (Travel Bloggers)",
         "Svalbard & Jan Mayen Islands",
         5000
        ],
        [
         "Kevmrc travel",
         "Tanzania",
         5000
        ],
        [
         "Ellison Made",
         "Thailand",
         5000
        ],
        [
         "Leah Newton Art",
         "Andorra",
         4000
        ],
        [
         "My Debt Epiphany | Money Making Tips | Frugal Living | Debt Free",
         "Azerbaijan",
         4000
        ],
        [
         "Visit USA Parks | Travel Blog & Inspiration",
         "British Virgin Islands",
         4000
        ],
        [
         "Melissa",
         "Finland",
         4000
        ],
        [
         "IngridZenMoments",
         "Guinea-Bissau",
         4000
        ],
        [
         "Laura- Inspire My Play | Play & Learning For Little Kids",
         "Kenya",
         4000
        ],
        [
         "Gabrielle Arruda- Fashion Inspiration And Style Tips",
         "Korea",
         4000
        ],
        [
         "DriveMag",
         "Mexico",
         4000
        ],
        [
         "Taming Little Monsters - Fun Activities for Kids",
         "Montserrat",
         4000
        ],
        [
         "Books and Bao | Travel, Culture, Books",
         "Peru",
         4000
        ],
        [
         "Not In Jersey - Mom Blog",
         "Poland",
         4000
        ],
        [
         "The Perky Pencil",
         "Portugal",
         4000
        ],
        [
         "Jenn Beth",
         "Algeria",
         3000
        ],
        [
         "rhonda_floyd",
         "Antigua and Barbuda",
         3000
        ],
        [
         "Master The Event",
         "Austria",
         3000
        ],
        [
         "Kids Crafts & Free Preschool Printables- Sharing Our Experiences",
         "Bhutan",
         3000
        ],
        [
         "THE THIRTEEN FLARES",
         "Falkland Islands (Malvinas)",
         3000
        ],
        [
         "She Draws",
         "Finland",
         3000
        ],
        [
         "Small Business Tips on Branding and Marketing.",
         "French Polynesia",
         3000
        ],
        [
         "Vanessa Ferran",
         "Macao",
         3000
        ],
        [
         "Cars In The World",
         "Mongolia",
         3000
        ],
        [
         "Coley Kuyper Art",
         "Samoa",
         3000
        ],
        [
         "Erin Waters | Elementary Education Activities & Resources",
         "Singapore",
         3000
        ],
        [
         "Sophie Watters",
         "South Africa",
         3000
        ],
        [
         "Boss in Pyjamas",
         "Bahrain",
         2000
        ],
        [
         "Cream City Flow - High End Streetwear - Better Everyday",
         "Cambodia",
         2000
        ],
        [
         "Autumn Shepardson",
         "Egypt",
         2000
        ],
        [
         "Travel-boo | Marco Santos | Portugal & Spain Travel Blogger",
         "El Salvador",
         2000
        ],
        [
         "Szikszai Szabolcs",
         "Fiji",
         2000
        ],
        [
         "Ammmvishall navyatA",
         "Finland",
         2000
        ],
        [
         "Beth Gaugler",
         "Gabon",
         2000
        ],
        [
         "Learn Play Read",
         "Gibraltar",
         2000
        ],
        [
         "Anoushka Probyn",
         "Guernsey",
         2000
        ],
        [
         "Dr. Loftin's Learning Emporium",
         "Isle of Man",
         2000
        ],
        [
         "Livelife_ArtAn",
         "Micronesia",
         2000
        ],
        [
         "Vinny and Charles Fine Jewellery",
         "Papua New Guinea",
         2000
        ],
        [
         "ForYou",
         "Philippines",
         2000
        ],
        [
         "ShanaLou Sutton",
         "Taiwan",
         2000
        ],
        [
         "Our Passion for Travel | Travel blog",
         "Tajikistan",
         2000
        ],
        [
         "Organize Ways",
         "Wallis and Futuna",
         2000
        ],
        [
         "zuby",
         "Andorra",
         1000
        ],
        [
         "DOZENLIVE",
         "Antarctica (the territory South of 60 deg S)",
         1000
        ],
        [
         "Stephanie Hoey Interiors",
         "Bhutan",
         1000
        ],
        [
         "Sunsets N Style | Lifestyle Blogger",
         "Burkina Faso",
         1000
        ],
        [
         "J** S**",
         "Cook Islands",
         1000
        ],
        [
         "Sam",
         "Egypt",
         1000
        ],
        [
         "Maggie Panning",
         "Finland",
         1000
        ],
        [
         "Orange And Magnolia Dental Studio",
         "France",
         1000
        ],
        [
         "Kathleen",
         "Heard Island and McDonald Islands",
         1000
        ],
        [
         "Shannon Difiore",
         "Japan",
         1000
        ],
        [
         "Be Beautiful India",
         "Kuwait",
         1000
        ],
        [
         "Vinyl Written",
         "Kuwait",
         1000
        ],
        [
         "Michael Linderer",
         "Marshall Islands",
         1000
        ],
        [
         "Anna Kim | Cause-Based Travel + Online Coach - My Travelanthropy",
         "Micronesia",
         1000
        ],
        [
         "Emily Foreman",
         "Nicaragua",
         1000
        ],
        [
         "Alanna | Periodic Adventures",
         "Panama",
         1000
        ],
        [
         "Abd El Hakim",
         "Sri Lanka",
         1000
        ],
        [
         "Khalifa",
         "Togo",
         1000
        ],
        [
         "GorgeChicOfficial",
         "Congo",
         908
        ],
        [
         "Kait Copeland",
         "Saint Kitts and Nevis",
         904
        ],
        [
         "Jody-Ann Rowe | Marketing Coach for Wedding Professionals",
         "Bermuda",
         884
        ],
        [
         "SportsMarket",
         "Liechtenstein",
         881
        ],
        [
         "Christopher Tipton",
         "Tokelau",
         877
        ],
        [
         "Cora Graaff",
         "Lao People's Democratic Republic",
         849
        ],
        [
         "Glow Utilities",
         "Qatar",
         838
        ],
        [
         "Mich Cam",
         "Holy See (Vatican City State)",
         831
        ],
        [
         "Kenya. Finances 101",
         "Antigua and Barbuda",
         760
        ],
        [
         "Marisol Retana T.",
         "Antigua and Barbuda",
         722
        ],
        [
         "Bhavani's Creations",
         "Bermuda",
         630
        ],
        [
         "Achaisha Hudson",
         "Tajikistan",
         593
        ],
        [
         "Taylor Kortze",
         "Macao",
         583
        ],
        [
         "Terry Bain",
         "Greece",
         578
        ],
        [
         "Alexandria Franko",
         "Saint Barthelemy",
         517
        ],
        [
         "T",
         "Morocco",
         504
        ],
        [
         "Chris Hansen",
         "Mexico",
         492
        ],
        [
         "Happy Catering n Events",
         "Dominica",
         458
        ],
        [
         "Ray Uyemura",
         "Cocos (Keeling) Islands",
         437
        ],
        [
         "Francine's Place Blog | DIY, lifestyle, creativity",
         "Bangladesh",
         436
        ],
        [
         "Elizabeth Leigh",
         "Egypt",
         406
        ],
        [
         "Megan Wagner",
         "Belgium",
         387
        ],
        [
         "hook",
         "New Zealand",
         366
        ],
        [
         "Sure Shop Unlimited",
         "Afghanistan",
         361
        ],
        [
         "Karen Atwell",
         "Armenia",
         359
        ],
        [
         "More Dollars at Home",
         "Cape Verde",
         344
        ],
        [
         "Jay Anna Fuentes",
         "Saudi Arabia",
         332
        ],
        [
         "Dearbeautyadventure",
         "Georgia",
         328
        ],
        [
         "Centered in Primary | Centers for the Elementary Classroom",
         "Bhutan",
         323
        ],
        [
         "Kara I Minimalist Wellness, Fashion, and Workouts",
         "Malta",
         322
        ],
        [
         "The Boss Depot",
         "Honduras",
         319
        ],
        [
         "Lynn",
         "Nicaragua",
         316
        ],
        [
         "Annamarie Hilton",
         "Isle of Man",
         313
        ],
        [
         "The Rustic Roundup, LLC | Style Hacks | Self Love",
         "Bahamas",
         293
        ],
        [
         "BEIMER",
         "Poland",
         265
        ],
        [
         "Lyla Childress",
         "Niue",
         263
        ],
        [
         "Financial Hustlers Club",
         "Pitcairn Islands",
         255
        ],
        [
         "Syndi Mulcahy",
         "Trinidad and Tobago",
         254
        ],
        [
         "Keitha Rankin",
         "Serbia",
         248
        ],
        [
         "Danika Lopez",
         "Sri Lanka",
         244
        ],
        [
         "Tiffany Bissell",
         "Belize",
         240
        ],
        [
         "Amanda Harris",
         "United States Virgin Islands",
         240
        ],
        [
         "Josie Moya",
         "Saint Pierre and Miquelon",
         237
        ],
        [
         "Nicole Aubin",
         "Netherlands",
         228
        ],
        [
         "M.M",
         "Central African Republic",
         224
        ],
        [
         "Edwin | Cash The Checks | Find Your Perfect Side Hustle",
         "Saudi Arabia",
         223
        ],
        [
         "Glotraveler",
         "Somalia",
         217
        ],
        [
         "Karen Red",
         "Bolivia",
         213
        ],
        [
         "Katie Prukop",
         "Slovakia (Slovak Republic)",
         213
        ],
        [
         "Malaquias Arroyo",
         "Greece",
         206
        ],
        [
         "Brittney Steel",
         "Antarctica (the territory South of 60 deg S)",
         198
        ],
        [
         "DailyDose",
         "Norway",
         189
        ],
        [
         "The Christmas Ranch",
         "Bangladesh",
         184
        ],
        [
         "Amy Dunlap",
         "Jamaica",
         178
        ],
        [
         "Carla Martin",
         "Antigua and Barbuda",
         169
        ],
        [
         "E",
         "Monaco",
         167
        ],
        [
         "Carter Jackson",
         "Trinidad and Tobago",
         143
        ],
        [
         "The Habit Flow | Social Media Design | Templates | Abstract Art",
         "Niger",
         135
        ],
        [
         "AnnaLee Kick",
         "Papua New Guinea",
         112
        ],
        [
         "Erin PatFitz Rick",
         "Saudi Arabia",
         103
        ],
        [
         "Vita Talie - Fashion Brand",
         "Fiji",
         101
        ],
        [
         "Domnique Prencipe",
         "Benin",
         91
        ],
        [
         "Sheri Weis",
         "Turkey",
         76
        ],
        [
         "Vergie Greenholt",
         "British Virgin Islands",
         73
        ],
        [
         "ThatUserNameIsAlreadyTakenT",
         "Uganda",
         47
        ],
        [
         "Addymae Rodi",
         "Tuvalu",
         41
        ],
        [
         "Kyra",
         "Lithuania",
         34
        ],
        [
         "Pamisva",
         "United States Virgin Islands",
         33
        ],
        [
         "teresa davis",
         "United Kingdom",
         30
        ],
        [
         "Neocromanyon",
         "Djibouti",
         25
        ],
        [
         "Erin Lee",
         "Bahamas",
         22
        ],
        [
         "967",
         "India",
         21
        ],
        [
         "Mccready-romero",
         "Finland",
         20
        ],
        [
         "Peter Dikhazi",
         "Saint Barthelemy",
         18
        ],
        [
         "Shaka Kai",
         "Anguilla",
         7
        ],
        [
         "Shop MCA Denver",
         "Colombia",
         7
        ],
        [
         "AJ",
         "Iraq",
         7
        ],
        [
         "Sonet Cox",
         "Solomon Islands",
         6
        ],
        [
         "Havvanur",
         "Sudan",
         6
        ],
        [
         "Barbara Mininger-morris",
         "Macao",
         5
        ],
        [
         "Angelina Rodriguez",
         "Saint Barthelemy",
         5
        ],
        [
         "Justus Kay",
         "Uganda",
         5
        ],
        [
         "Humiara Begum",
         "Congo",
         1
        ],
        [
         "Marc",
         "Djibouti",
         1
        ],
        [
         "estiven hanagaki",
         "Algeria",
         0
        ],
        [
         "Robynwitbooi",
         "Georgia",
         0
        ],
        [
         "Sol",
         "New Caledonia",
         0
        ],
        [
         "Grecia Perales",
         "Tonga",
         0
        ],
        [
         "User Info Error",
         "Albania",
         null
        ]
       ],
       "datasetInfos": [],
       "dbfsResultPath": null,
       "isJsonSchema": true,
       "metadata": {},
       "overflow": false,
       "plotOptions": {
        "customPlotOptions": {},
        "displayType": "table",
        "pivotAggregation": null,
        "pivotColumns": null,
        "xColumns": null,
        "yColumns": null
       },
       "removedWidgets": [],
       "schema": [
        {
         "metadata": "{}",
         "name": "poster_name",
         "type": "\"string\""
        },
        {
         "metadata": "{}",
         "name": "country",
         "type": "\"string\""
        },
        {
         "metadata": "{}",
         "name": "max_follower_count",
         "type": "\"integer\""
        }
       ],
       "type": "table"
      }
     },
     "output_type": "display_data"
    },
    {
     "data": {
      "text/html": [
       "<style scoped>\n",
       "  .table-result-container {\n",
       "    max-height: 300px;\n",
       "    overflow: auto;\n",
       "  }\n",
       "  table, th, td {\n",
       "    border: 1px solid black;\n",
       "    border-collapse: collapse;\n",
       "  }\n",
       "  th, td {\n",
       "    padding: 5px;\n",
       "  }\n",
       "  th {\n",
       "    text-align: left;\n",
       "  }\n",
       "</style><div class='table-result-container'><table class='table-result'><thead style='background-color: white'><tr><th>country</th><th>max_follower_count</th></tr></thead><tbody><tr><td>American Samoa</td><td>8000000</td></tr><tr><td>Angola</td><td>8000000</td></tr><tr><td>Burkina Faso</td><td>6000000</td></tr><tr><td>Azerbaijan</td><td>6000000</td></tr><tr><td>Albania</td><td>5000000</td></tr></tbody></table></div>"
      ]
     },
     "metadata": {
      "application/vnd.databricks.v1+output": {
       "addedWidgets": {},
       "aggData": [],
       "aggError": "",
       "aggOverflow": false,
       "aggSchema": [],
       "aggSeriesLimitReached": false,
       "aggType": "",
       "arguments": {},
       "columnCustomDisplayInfos": {},
       "data": [
        [
         "American Samoa",
         8000000
        ],
        [
         "Angola",
         8000000
        ],
        [
         "Burkina Faso",
         6000000
        ],
        [
         "Azerbaijan",
         6000000
        ],
        [
         "Albania",
         5000000
        ]
       ],
       "datasetInfos": [],
       "dbfsResultPath": null,
       "isJsonSchema": true,
       "metadata": {},
       "overflow": false,
       "plotOptions": {
        "customPlotOptions": {},
        "displayType": "table",
        "pivotAggregation": null,
        "pivotColumns": null,
        "xColumns": null,
        "yColumns": null
       },
       "removedWidgets": [],
       "schema": [
        {
         "metadata": "{}",
         "name": "country",
         "type": "\"string\""
        },
        {
         "metadata": "{}",
         "name": "max_follower_count",
         "type": "\"integer\""
        }
       ],
       "type": "table"
      }
     },
     "output_type": "display_data"
    }
   ],
   "source": [
    "# When querying for the poster with the most followers in each country, in some instances the poster may have amassed more follower between posts, given the difference in timestamps between his/her post. Therefore, the MAX() function can be used to select the the maximimum follower count based on latest data.\n",
    "\n",
    "result_a = spark.sql(\"\"\"SELECT \n",
    "                            poster_name, country, MAX(follower_count) as max_follower_count\n",
    "                        FROM pin\n",
    "                        JOIN geo\n",
    "                        ON pin.ind = geo.ind\n",
    "                        GROUP BY country, poster_name\n",
    "                        ORDER BY max_follower_count DESC, country\n",
    "                        \"\"\"\n",
    "                    )\n",
    "\n",
    "display(result_a)\n",
    "\n",
    "result_b = spark.sql(\"\"\"SELECT \n",
    "                            country, MAX(follower_count) as max_follower_count\n",
    "                        FROM geo\n",
    "                        JOIN pin\n",
    "                        ON pin.ind = geo.ind\n",
    "                        GROUP BY country\n",
    "                        ORDER BY max_follower_count DESC\n",
    "                        LIMIT 5\n",
    "                        \"\"\"\n",
    "                    )\n",
    "\n",
    "display(result_b)\n"
   ]
  },
  {
   "cell_type": "markdown",
   "metadata": {
    "application/vnd.databricks.v1+cell": {
     "cellMetadata": {},
     "inputWidgets": {},
     "nuid": "afc1356b-d226-4837-8f27-bd696eebf271",
     "showTitle": false,
     "title": ""
    }
   },
   "source": [
    "#### Popular categories based on age groups"
   ]
  },
  {
   "cell_type": "code",
   "execution_count": null,
   "metadata": {
    "application/vnd.databricks.v1+cell": {
     "cellMetadata": {
      "byteLimit": 2048000,
      "rowLimit": 10000
     },
     "inputWidgets": {},
     "nuid": "a6a6aa9d-f1fe-4518-828d-355133d99b57",
     "showTitle": false,
     "title": ""
    },
    "jupyter": {
     "outputs_hidden": true
    }
   },
   "outputs": [
    {
     "data": {
      "text/html": [
       "<style scoped>\n",
       "  .table-result-container {\n",
       "    max-height: 300px;\n",
       "    overflow: auto;\n",
       "  }\n",
       "  table, th, td {\n",
       "    border: 1px solid black;\n",
       "    border-collapse: collapse;\n",
       "  }\n",
       "  th, td {\n",
       "    padding: 5px;\n",
       "  }\n",
       "  th {\n",
       "    text-align: left;\n",
       "  }\n",
       "</style><div class='table-result-container'><table class='table-result'><thead style='background-color: white'><tr><th>age_group</th><th>category</th><th>category_count</th></tr></thead><tbody><tr><td>18-24</td><td>diy-and-crafts</td><td>57</td></tr><tr><td>25-35</td><td>christmas</td><td>31</td></tr><tr><td>36-50</td><td>travel</td><td>30</td></tr><tr><td>50+</td><td>vehicles</td><td>15</td></tr></tbody></table></div>"
      ]
     },
     "metadata": {
      "application/vnd.databricks.v1+output": {
       "addedWidgets": {},
       "aggData": [],
       "aggError": "",
       "aggOverflow": false,
       "aggSchema": [],
       "aggSeriesLimitReached": false,
       "aggType": "",
       "arguments": {},
       "columnCustomDisplayInfos": {},
       "data": [
        [
         "18-24",
         "diy-and-crafts",
         57
        ],
        [
         "25-35",
         "christmas",
         31
        ],
        [
         "36-50",
         "travel",
         30
        ],
        [
         "50+",
         "vehicles",
         15
        ]
       ],
       "datasetInfos": [],
       "dbfsResultPath": null,
       "isJsonSchema": true,
       "metadata": {},
       "overflow": false,
       "plotOptions": {
        "customPlotOptions": {},
        "displayType": "table",
        "pivotAggregation": null,
        "pivotColumns": null,
        "xColumns": null,
        "yColumns": null
       },
       "removedWidgets": [],
       "schema": [
        {
         "metadata": "{}",
         "name": "age_group",
         "type": "\"string\""
        },
        {
         "metadata": "{}",
         "name": "category",
         "type": "\"string\""
        },
        {
         "metadata": "{}",
         "name": "category_count",
         "type": "\"long\""
        }
       ],
       "type": "table"
      }
     },
     "output_type": "display_data"
    }
   ],
   "source": [
    "result = spark.sql(\"\"\"WITH CTE AS (\n",
    "                        SELECT \n",
    "                            age_group, category, category_count,\n",
    "                            DENSE_RANK() OVER (PARTITION BY age_group ORDER BY category_count DESC) AS ranking\n",
    "                        FROM (\n",
    "                            SELECT\n",
    "                                CASE \n",
    "                                    WHEN age BETWEEN 18 AND 24 THEN \"18-24\"\n",
    "                                    WHEN age BETWEEN 25 AND 35 THEN \"25-35\"\n",
    "                                    WHEN age BETWEEN 36 AND 50 THEN \"36-50\"\n",
    "                                    WHEN age > 50 THEN \"50+\"\n",
    "                                    --ELSE \"NONE\" \n",
    "                                END AS age_group,\n",
    "                                category,\n",
    "                                COUNT(*) AS category_count\n",
    "                            FROM user\n",
    "                            JOIN pin ON pin.ind = user.ind\n",
    "                            GROUP BY age_group, category\n",
    "                        )\n",
    "                    )\n",
    "                    \n",
    "                    SELECT \n",
    "                        age_group, category, category_count\n",
    "                    FROM CTE\n",
    "                    WHERE ranking = 1\"\"\"\n",
    "                )\n",
    "\n",
    "display(result)"
   ]
  },
  {
   "cell_type": "markdown",
   "metadata": {
    "application/vnd.databricks.v1+cell": {
     "cellMetadata": {},
     "inputWidgets": {},
     "nuid": "08bb0b50-4a9a-44fe-b45e-7a2a40040aa9",
     "showTitle": false,
     "title": ""
    }
   },
   "source": [
    "#### Median follower count based on age group"
   ]
  },
  {
   "cell_type": "code",
   "execution_count": null,
   "metadata": {
    "application/vnd.databricks.v1+cell": {
     "cellMetadata": {
      "byteLimit": 2048000,
      "rowLimit": 10000
     },
     "inputWidgets": {},
     "nuid": "5bb0dc03-6336-448a-a007-cb79af741199",
     "showTitle": false,
     "title": ""
    },
    "jupyter": {
     "outputs_hidden": true
    }
   },
   "outputs": [
    {
     "data": {
      "text/html": [
       "<style scoped>\n",
       "  .table-result-container {\n",
       "    max-height: 300px;\n",
       "    overflow: auto;\n",
       "  }\n",
       "  table, th, td {\n",
       "    border: 1px solid black;\n",
       "    border-collapse: collapse;\n",
       "  }\n",
       "  th, td {\n",
       "    padding: 5px;\n",
       "  }\n",
       "  th {\n",
       "    text-align: left;\n",
       "  }\n",
       "</style><div class='table-result-container'><table class='table-result'><thead style='background-color: white'><tr><th>age_group</th><th>median_follower_count</th></tr></thead><tbody><tr><td>18-24</td><td>190000.0</td></tr><tr><td>25-35</td><td>25500.0</td></tr><tr><td>36-50</td><td>9000.0</td></tr><tr><td>50+</td><td>1000.0</td></tr></tbody></table></div>"
      ]
     },
     "metadata": {
      "application/vnd.databricks.v1+output": {
       "addedWidgets": {},
       "aggData": [],
       "aggError": "",
       "aggOverflow": false,
       "aggSchema": [],
       "aggSeriesLimitReached": false,
       "aggType": "",
       "arguments": {},
       "columnCustomDisplayInfos": {},
       "data": [
        [
         "18-24",
         190000
        ],
        [
         "25-35",
         25500
        ],
        [
         "36-50",
         9000
        ],
        [
         "50+",
         1000
        ]
       ],
       "datasetInfos": [],
       "dbfsResultPath": null,
       "isJsonSchema": true,
       "metadata": {},
       "overflow": false,
       "plotOptions": {
        "customPlotOptions": {},
        "displayType": "table",
        "pivotAggregation": null,
        "pivotColumns": null,
        "xColumns": null,
        "yColumns": null
       },
       "removedWidgets": [],
       "schema": [
        {
         "metadata": "{}",
         "name": "age_group",
         "type": "\"string\""
        },
        {
         "metadata": "{}",
         "name": "median_follower_count",
         "type": "\"double\""
        }
       ],
       "type": "table"
      }
     },
     "output_type": "display_data"
    }
   ],
   "source": [
    "result = spark.sql(\"\"\"SELECT\n",
    "                        CASE \n",
    "                            WHEN age BETWEEN 18 AND 24 THEN \"18-24\"\n",
    "                            WHEN age BETWEEN 25 AND 35 THEN \"25-35\"\n",
    "                            WHEN age BETWEEN 36 AND 50 THEN \"36-50\"\n",
    "                            WHEN age > 50 THEN \"50+\"\n",
    "                            --ELSE \"NONE\" \n",
    "                            END AS age_group, \n",
    "                        PERCENTILE_CONT(0.5) WITHIN GROUP (ORDER BY follower_count) AS median_follower_count\n",
    "                FROM user \n",
    "                JOIN pin on pin.ind = user.ind\n",
    "                GROUP BY age_group\n",
    "                ORDER BY median_follower_count DESC\"\"\"\n",
    "            )\n",
    "\n",
    "display(result)"
   ]
  },
  {
   "cell_type": "markdown",
   "metadata": {
    "application/vnd.databricks.v1+cell": {
     "cellMetadata": {},
     "inputWidgets": {},
     "nuid": "10245f3c-b76f-451a-9be4-55241135ba54",
     "showTitle": false,
     "title": ""
    }
   },
   "source": [
    "#### Users joined between 2015 and 2020"
   ]
  },
  {
   "cell_type": "code",
   "execution_count": null,
   "metadata": {
    "application/vnd.databricks.v1+cell": {
     "cellMetadata": {
      "byteLimit": 2048000,
      "rowLimit": 10000
     },
     "inputWidgets": {},
     "nuid": "72d2bc6a-cb07-4898-80ea-d5d5dffbbf34",
     "showTitle": false,
     "title": ""
    },
    "jupyter": {
     "outputs_hidden": true
    }
   },
   "outputs": [
    {
     "data": {
      "text/html": [
       "<style scoped>\n",
       "  .table-result-container {\n",
       "    max-height: 300px;\n",
       "    overflow: auto;\n",
       "  }\n",
       "  table, th, td {\n",
       "    border: 1px solid black;\n",
       "    border-collapse: collapse;\n",
       "  }\n",
       "  th, td {\n",
       "    padding: 5px;\n",
       "  }\n",
       "  th {\n",
       "    text-align: left;\n",
       "  }\n",
       "</style><div class='table-result-container'><table class='table-result'><thead style='background-color: white'><tr><th>year_joined</th><th>new_users_joined</th></tr></thead><tbody><tr><td>2015</td><td>394</td></tr><tr><td>2016</td><td>408</td></tr><tr><td>2017</td><td>135</td></tr></tbody></table></div>"
      ]
     },
     "metadata": {
      "application/vnd.databricks.v1+output": {
       "addedWidgets": {},
       "aggData": [],
       "aggError": "",
       "aggOverflow": false,
       "aggSchema": [],
       "aggSeriesLimitReached": false,
       "aggType": "",
       "arguments": {},
       "columnCustomDisplayInfos": {},
       "data": [
        [
         2015,
         394
        ],
        [
         2016,
         408
        ],
        [
         2017,
         135
        ]
       ],
       "datasetInfos": [],
       "dbfsResultPath": null,
       "isJsonSchema": true,
       "metadata": {},
       "overflow": false,
       "plotOptions": {
        "customPlotOptions": {},
        "displayType": "table",
        "pivotAggregation": null,
        "pivotColumns": null,
        "xColumns": null,
        "yColumns": null
       },
       "removedWidgets": [],
       "schema": [
        {
         "metadata": "{}",
         "name": "year_joined",
         "type": "\"integer\""
        },
        {
         "metadata": "{}",
         "name": "new_users_joined",
         "type": "\"long\""
        }
       ],
       "type": "table"
      }
     },
     "output_type": "display_data"
    }
   ],
   "source": [
    "result = spark.sql(\"\"\"SELECT \n",
    "                        YEAR(date_joined) as year_joined, count(date_joined) as new_users_joined\n",
    "                    FROM user\n",
    "                    JOIN pin\n",
    "                    ON pin.ind = user.ind\n",
    "                    GROUP BY year_joined\n",
    "                    HAVING year_joined BETWEEN 2015 AND 2020\n",
    "                    ORDER BY year_joined\"\"\"\n",
    ")\n",
    "\n",
    "display(result)"
   ]
  },
  {
   "cell_type": "markdown",
   "metadata": {
    "application/vnd.databricks.v1+cell": {
     "cellMetadata": {},
     "inputWidgets": {},
     "nuid": "92389fe0-33c7-4ad9-9af6-71aded253bcc",
     "showTitle": false,
     "title": ""
    }
   },
   "source": [
    "#### Median follower count of users that have joined between 2015 and 2020"
   ]
  },
  {
   "cell_type": "code",
   "execution_count": null,
   "metadata": {
    "application/vnd.databricks.v1+cell": {
     "cellMetadata": {
      "byteLimit": 2048000,
      "rowLimit": 10000
     },
     "inputWidgets": {},
     "nuid": "aab5e95f-49c9-43ab-ab68-1645c9c76952",
     "showTitle": false,
     "title": ""
    },
    "jupyter": {
     "outputs_hidden": true
    }
   },
   "outputs": [
    {
     "data": {
      "text/html": [
       "<style scoped>\n",
       "  .table-result-container {\n",
       "    max-height: 300px;\n",
       "    overflow: auto;\n",
       "  }\n",
       "  table, th, td {\n",
       "    border: 1px solid black;\n",
       "    border-collapse: collapse;\n",
       "  }\n",
       "  th, td {\n",
       "    padding: 5px;\n",
       "  }\n",
       "  th {\n",
       "    text-align: left;\n",
       "  }\n",
       "</style><div class='table-result-container'><table class='table-result'><thead style='background-color: white'><tr><th>year_joined</th><th>median_follower_count</th></tr></thead><tbody><tr><td>2015</td><td>203000.0</td></tr><tr><td>2016</td><td>20500.0</td></tr><tr><td>2017</td><td>4000.0</td></tr></tbody></table></div>"
      ]
     },
     "metadata": {
      "application/vnd.databricks.v1+output": {
       "addedWidgets": {},
       "aggData": [],
       "aggError": "",
       "aggOverflow": false,
       "aggSchema": [],
       "aggSeriesLimitReached": false,
       "aggType": "",
       "arguments": {},
       "columnCustomDisplayInfos": {},
       "data": [
        [
         2015,
         203000
        ],
        [
         2016,
         20500
        ],
        [
         2017,
         4000
        ]
       ],
       "datasetInfos": [],
       "dbfsResultPath": null,
       "isJsonSchema": true,
       "metadata": {},
       "overflow": false,
       "plotOptions": {
        "customPlotOptions": {},
        "displayType": "table",
        "pivotAggregation": null,
        "pivotColumns": null,
        "xColumns": null,
        "yColumns": null
       },
       "removedWidgets": [],
       "schema": [
        {
         "metadata": "{}",
         "name": "year_joined",
         "type": "\"integer\""
        },
        {
         "metadata": "{}",
         "name": "median_follower_count",
         "type": "\"double\""
        }
       ],
       "type": "table"
      }
     },
     "output_type": "display_data"
    }
   ],
   "source": [
    "results = spark.sql(\"\"\"SELECT \n",
    "                        YEAR(date_joined) as year_joined, \n",
    "                        PERCENTILE_CONT(0.5) WITHIN GROUP (ORDER BY follower_count) AS median_follower_count\n",
    "                    FROM user \n",
    "                    JOIN pin \n",
    "                    ON pin.ind = user.ind\n",
    "                    GROUP by year_joined\n",
    "                    HAVING year_joined BETWEEN 2015 and 2020\"\"\"\n",
    "                )\n",
    "display(results)"
   ]
  },
  {
   "cell_type": "markdown",
   "metadata": {
    "application/vnd.databricks.v1+cell": {
     "cellMetadata": {},
     "inputWidgets": {},
     "nuid": "2520f712-b958-4d8c-81a9-6c5826f4ba04",
     "showTitle": false,
     "title": ""
    }
   },
   "source": [
    "#### Median follower count based on joining year and age group"
   ]
  },
  {
   "cell_type": "code",
   "execution_count": null,
   "metadata": {
    "application/vnd.databricks.v1+cell": {
     "cellMetadata": {
      "byteLimit": 2048000,
      "rowLimit": 10000
     },
     "inputWidgets": {},
     "nuid": "79aeeb12-9a27-4da3-872a-bce695726c79",
     "showTitle": false,
     "title": ""
    },
    "jupyter": {
     "outputs_hidden": true
    }
   },
   "outputs": [
    {
     "data": {
      "text/html": [
       "<style scoped>\n",
       "  .table-result-container {\n",
       "    max-height: 300px;\n",
       "    overflow: auto;\n",
       "  }\n",
       "  table, th, td {\n",
       "    border: 1px solid black;\n",
       "    border-collapse: collapse;\n",
       "  }\n",
       "  th, td {\n",
       "    padding: 5px;\n",
       "  }\n",
       "  th {\n",
       "    text-align: left;\n",
       "  }\n",
       "</style><div class='table-result-container'><table class='table-result'><thead style='background-color: white'><tr><th>age_group</th><th>year_joined</th><th>median_follower_count</th></tr></thead><tbody><tr><td>18-24</td><td>2015</td><td>296000.0</td></tr><tr><td>25-35</td><td>2015</td><td>100000.0</td></tr><tr><td>36-50</td><td>2015</td><td>19000.0</td></tr><tr><td>50+</td><td>2015</td><td>30000.0</td></tr><tr><td>18-24</td><td>2016</td><td>55000.0</td></tr><tr><td>25-35</td><td>2016</td><td>24000.0</td></tr><tr><td>36-50</td><td>2016</td><td>10500.0</td></tr><tr><td>50+</td><td>2016</td><td>504.0</td></tr><tr><td>18-24</td><td>2017</td><td>4000.0</td></tr><tr><td>25-35</td><td>2017</td><td>5000.0</td></tr><tr><td>36-50</td><td>2017</td><td>6500.0</td></tr><tr><td>50+</td><td>2017</td><td>2500.0</td></tr></tbody></table></div>"
      ]
     },
     "metadata": {
      "application/vnd.databricks.v1+output": {
       "addedWidgets": {},
       "aggData": [],
       "aggError": "",
       "aggOverflow": false,
       "aggSchema": [],
       "aggSeriesLimitReached": false,
       "aggType": "",
       "arguments": {},
       "columnCustomDisplayInfos": {},
       "data": [
        [
         "18-24",
         2015,
         296000
        ],
        [
         "25-35",
         2015,
         100000
        ],
        [
         "36-50",
         2015,
         19000
        ],
        [
         "50+",
         2015,
         30000
        ],
        [
         "18-24",
         2016,
         55000
        ],
        [
         "25-35",
         2016,
         24000
        ],
        [
         "36-50",
         2016,
         10500
        ],
        [
         "50+",
         2016,
         504
        ],
        [
         "18-24",
         2017,
         4000
        ],
        [
         "25-35",
         2017,
         5000
        ],
        [
         "36-50",
         2017,
         6500
        ],
        [
         "50+",
         2017,
         2500
        ]
       ],
       "datasetInfos": [],
       "dbfsResultPath": null,
       "isJsonSchema": true,
       "metadata": {},
       "overflow": false,
       "plotOptions": {
        "customPlotOptions": {},
        "displayType": "table",
        "pivotAggregation": null,
        "pivotColumns": null,
        "xColumns": null,
        "yColumns": null
       },
       "removedWidgets": [],
       "schema": [
        {
         "metadata": "{}",
         "name": "age_group",
         "type": "\"string\""
        },
        {
         "metadata": "{}",
         "name": "year_joined",
         "type": "\"integer\""
        },
        {
         "metadata": "{}",
         "name": "median_follower_count",
         "type": "\"double\""
        }
       ],
       "type": "table"
      }
     },
     "output_type": "display_data"
    }
   ],
   "source": [
    "result = spark.sql(\"\"\"SELECT\n",
    "                        CASE \n",
    "                            WHEN age BETWEEN 18 AND 24 THEN \"18-24\"\n",
    "                            WHEN age BETWEEN 25 AND 35 THEN \"25-35\"\n",
    "                            WHEN age BETWEEN 36 AND 50 THEN \"36-50\"\n",
    "                            WHEN age > 50 THEN \"50+\"\n",
    "                            --ELSE \"NONE\" \n",
    "                            END AS age_group,\n",
    "                        YEAR(date_joined) as year_joined,\n",
    "                        PERCENTILE_CONT(0.5) WITHIN GROUP (ORDER BY follower_count) AS median_follower_count\n",
    "                    FROM user \n",
    "                    JOIN pin on pin.ind = user.ind\n",
    "                    GROUP BY age_group, year_joined\n",
    "                    ORDER BY year_joined, age_group\"\"\"\n",
    "            )\n",
    "\n",
    "display(result)"
   ]
  },
  {
   "cell_type": "code",
   "execution_count": null,
   "metadata": {
    "application/vnd.databricks.v1+cell": {
     "cellMetadata": {
      "byteLimit": 2048000,
      "rowLimit": 10000
     },
     "inputWidgets": {},
     "nuid": "388698cd-a719-4fbf-b183-16936e64e3ac",
     "showTitle": false,
     "title": ""
    }
   },
   "outputs": [
    {
     "data": {
      "text/html": [
       "<style scoped>\n",
       "  .ansiout {\n",
       "    display: block;\n",
       "    unicode-bidi: embed;\n",
       "    white-space: pre-wrap;\n",
       "    word-wrap: break-word;\n",
       "    word-break: break-all;\n",
       "    font-family: \"Menlo\", \"Monaco\", \"Consolas\", \"Ubuntu Mono\", \"Source Code Pro\", monospace;\n",
       "    font-size: 13px;\n",
       "    color: #555;\n",
       "    margin-left: 4px;\n",
       "    line-height: 19px;\n",
       "  }\n",
       "</style>\n",
       "<div class=\"ansiout\">/mnt/12f6b2c1ae4f-bucket has been unmounted.\n",
       "Out[168]: True</div>"
      ]
     },
     "metadata": {
      "application/vnd.databricks.v1+output": {
       "addedWidgets": {},
       "arguments": {},
       "data": "<div class=\"ansiout\">/mnt/12f6b2c1ae4f-bucket has been unmounted.\nOut[168]: True</div>",
       "datasetInfos": [],
       "metadata": {},
       "removedWidgets": [],
       "type": "html"
      }
     },
     "output_type": "display_data"
    }
   ],
   "source": [
    "dbutils.fs.unmount(MOUNT_NAME)"
   ]
  }
 ],
 "metadata": {
  "application/vnd.databricks.v1+notebook": {
   "dashboards": [],
   "language": "python",
   "notebookMetadata": {
    "mostRecentlyExecutedCommandWithImplicitDF": {
     "commandId": -1,
     "dataframes": [
      "_sqldf"
     ]
    },
    "pythonIndentUnit": 4
   },
   "notebookName": "batch_processing_databricks",
   "widgets": {}
  },
  "kernelspec": {
   "display_name": "aicore",
   "language": "python",
   "name": "python3"
  },
  "language_info": {
   "name": "python",
   "version": "3.10.13"
  }
 },
 "nbformat": 4,
 "nbformat_minor": 0
}
